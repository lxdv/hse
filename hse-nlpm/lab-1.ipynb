{
 "cells": [
  {
   "cell_type": "code",
   "execution_count": 1,
   "metadata": {},
   "outputs": [],
   "source": [
    "import pandas as pd\n",
    "import seaborn as sns\n",
    "from sklearn.model_selection import train_test_split\n",
    "\n",
    "from sklearn.feature_extraction.text import TfidfVectorizer, CountVectorizer\n",
    "from sklearn.linear_model import LogisticRegression\n",
    "from sklearn.svm import SVC\n",
    "\n",
    "from sklearn.metrics import classification_report\n",
    "from sklearn.metrics import accuracy_score\n",
    "\n",
    "import warnings\n",
    "from tqdm import tqdm\n",
    "\n",
    "import matplotlib.pyplot as plt\n",
    "from pylab import rcParams\n",
    "rcParams['figure.figsize'] = 8, 5\n",
    "\n",
    "warnings.simplefilter('ignore')"
   ]
  },
  {
   "cell_type": "code",
   "execution_count": 2,
   "metadata": {},
   "outputs": [],
   "source": [
    "music = pd.read_json('data/reviews_Digital_Music_5.json', lines=True)[['reviewText']].iloc[:1000]\n",
    "video = pd.read_json('data/reviews_Amazon_Instant_Video_5.json', lines=True)[['reviewText']].iloc[:1000]\n",
    "\n",
    "music['category'] = 'music'\n",
    "video['category'] = 'video'\n",
    "\n",
    "data = music.append(video)"
   ]
  },
  {
   "cell_type": "code",
   "execution_count": 3,
   "metadata": {},
   "outputs": [],
   "source": [
    "X = data['reviewText']\n",
    "y = data['category']"
   ]
  },
  {
   "cell_type": "code",
   "execution_count": 27,
   "metadata": {},
   "outputs": [],
   "source": [
    "X_train, X_test, y_train, y_test = train_test_split(X, y, test_size=0.1, random_state=7)\n",
    "\n",
    "vectorizer = TfidfVectorizer()\n",
    "X_train = vectorizer.fit_transform(X_train)\n",
    "X_test = vectorizer.transform(X_test)"
   ]
  },
  {
   "cell_type": "code",
   "execution_count": 33,
   "metadata": {},
   "outputs": [
    {
     "name": "stderr",
     "output_type": "stream",
     "text": [
      "100%|██████████| 8/8 [00:00<00:00,  8.86it/s]\n",
      "100%|██████████| 8/8 [00:15<00:00,  1.31s/it]\n"
     ]
    }
   ],
   "source": [
    "results_logit = []\n",
    "for i in tqdm(range(-4,4)):\n",
    "    model = LogisticRegression(C=10**i)\n",
    "    model.fit(X_train, y_train)\n",
    "\n",
    "    predictions = model.predict(X_test)\n",
    "    \n",
    "    results_logit.append({\n",
    "        'reg_param': 10**i,\n",
    "        'accuracy_score': accuracy_score(y_test, predictions)\n",
    "    })\n",
    "results_logit = pd.DataFrame(results_logit)\n",
    "\n",
    "results_svm = []\n",
    "for i in tqdm(range(-4,4)):\n",
    "    model = SVC(C=10**i)\n",
    "    model.fit(X_train, y_train)\n",
    "\n",
    "    predictions = model.predict(X_test)\n",
    "    \n",
    "    results_svm.append({\n",
    "        'reg_param': 10**i,\n",
    "        'accuracy_score': accuracy_score(y_test, predictions)\n",
    "    })\n",
    "results_svm = pd.DataFrame(results_svm)"
   ]
  },
  {
   "cell_type": "code",
   "execution_count": 34,
   "metadata": {},
   "outputs": [
    {
     "name": "stderr",
     "output_type": "stream",
     "text": [
      "100%|██████████| 8/8 [00:00<00:00, 10.99it/s]\n",
      "100%|██████████| 8/8 [00:15<00:00,  1.26s/it]\n"
     ]
    }
   ],
   "source": [
    "X_train, X_test, y_train, y_test = train_test_split(X, y, test_size=0.1, random_state=7)\n",
    "\n",
    "vectorizer = CountVectorizer()\n",
    "X_train = vectorizer.fit_transform(X_train)\n",
    "X_test = vectorizer.transform(X_test)\n",
    "\n",
    "results_logit_count = []\n",
    "for i in tqdm(range(-4,4)):\n",
    "    model = LogisticRegression(C=10**i)\n",
    "    model.fit(X_train, y_train)\n",
    "\n",
    "    predictions = model.predict(X_test)\n",
    "    \n",
    "    results_logit_count.append({\n",
    "        'reg_param': 10**i,\n",
    "        'accuracy_score': accuracy_score(y_test, predictions)\n",
    "    })\n",
    "results_logit_count = pd.DataFrame(results_logit_count)\n",
    "\n",
    "results_svm_count = []\n",
    "for i in tqdm(range(-4,4)):\n",
    "    model = SVC(C=10**i)\n",
    "    model.fit(X_train, y_train)\n",
    "\n",
    "    predictions = model.predict(X_test)\n",
    "    \n",
    "    results_svm_count.append({\n",
    "        'reg_param': 10**i,\n",
    "        'accuracy_score': accuracy_score(y_test, predictions)\n",
    "    })\n",
    "results_svm_count = pd.DataFrame(results_svm_count)"
   ]
  },
  {
   "cell_type": "code",
   "execution_count": 39,
   "metadata": {},
   "outputs": [
    {
     "data": {
      "text/plain": [
       "<matplotlib.legend.Legend at 0x130bc2a58>"
      ]
     },
     "execution_count": 39,
     "metadata": {},
     "output_type": "execute_result"
    },
    {
     "data": {
      "image/png": "[encoded data removed]",
      "text/plain": [
       "<Figure size 576x360 with 1 Axes>"
      ]
     },
     "metadata": {
      "needs_background": "light"
     },
     "output_type": "display_data"
    }
   ],
   "source": [
    "plt.plot(results_logit['accuracy_score'], label = 'Logistic Regression + TfIdf')\n",
    "plt.plot(results_logit_count['accuracy_score'], label = 'Logistic Regression + BoW')\n",
    "plt.plot(results_svm['accuracy_score'], label = 'SVM + TfIdf')\n",
    "plt.plot(results_svm_count['accuracy_score'], label = 'SVM + BoW')\n",
    "plt.xticks(range(len(results_logit['reg_param'])),results_logit['reg_param'])\n",
    "plt.xlabel('K neighbors')\n",
    "plt.legend()"
   ]
  },
  {
   "cell_type": "code",
   "execution_count": 53,
   "metadata": {},
   "outputs": [
    {
     "data": {
      "text/plain": [
       "LogisticRegression(C=1.0, class_weight=None, dual=False, fit_intercept=True,\n",
       "          intercept_scaling=1, max_iter=100, multi_class='warn',\n",
       "          n_jobs=None, penalty='l2', random_state=None, solver='warn',\n",
       "          tol=0.0001, verbose=0, warm_start=False)"
      ]
     },
     "execution_count": 53,
     "metadata": {},
     "output_type": "execute_result"
    }
   ],
   "source": [
    "music = pd.read_json('data/reviews_Digital_Music_5.json', lines=True)[['reviewText']].iloc[:30000]\n",
    "video = pd.read_json('data/reviews_Amazon_Instant_Video_5.json', lines=True)[['reviewText']].iloc[:30000]\n",
    "\n",
    "music['category'] = 'music'\n",
    "video['category'] = 'video'\n",
    "\n",
    "data = music.append(video)\n",
    "\n",
    "X_train, X_test, y_train, y_test = train_test_split(X, y, test_size=0.1, random_state=7)\n",
    "\n",
    "vectorizer = TfidfVectorizer()\n",
    "X_train = vectorizer.fit_transform(X_train)\n",
    "X_test = vectorizer.transform(X_test)\n",
    "\n",
    "model = LogisticRegression(C=results_logit.iloc[results_logit['accuracy_score'].argmax()]['reg_param'])\n",
    "model.fit(X_train, y_train)"
   ]
  },
  {
   "cell_type": "code",
   "execution_count": 67,
   "metadata": {},
   "outputs": [],
   "source": [
    "def predict(text):\n",
    "    text = vectorizer.transform([text])\n",
    "    return model.predict(text)[0]"
   ]
  },
  {
   "cell_type": "code",
   "execution_count": 68,
   "metadata": {},
   "outputs": [
    {
     "data": {
      "text/plain": [
       "'video'"
      ]
     },
     "execution_count": 68,
     "metadata": {},
     "output_type": "execute_result"
    }
   ],
   "source": [
    "predict('She is incredible!')"
   ]
  },
  {
   "cell_type": "code",
   "execution_count": 69,
   "metadata": {},
   "outputs": [
    {
     "data": {
      "text/plain": [
       "'music'"
      ]
     },
     "execution_count": 69,
     "metadata": {},
     "output_type": "execute_result"
    }
   ],
   "source": [
    "predict('Nice album')"
   ]
  },
  {
   "cell_type": "code",
   "execution_count": 70,
   "metadata": {},
   "outputs": [
    {
     "data": {
      "text/plain": [
       "'video'"
      ]
     },
     "execution_count": 70,
     "metadata": {},
     "output_type": "execute_result"
    }
   ],
   "source": [
    "predict('I watched it on Netflix. Really Nice!')"
   ]
  },
  {
   "cell_type": "code",
   "execution_count": 71,
   "metadata": {},
   "outputs": [
    {
     "data": {
      "text/plain": [
       "'music'"
      ]
     },
     "execution_count": 71,
     "metadata": {},
     "output_type": "execute_result"
    }
   ],
   "source": [
    "predict('I listned this song on Spotify')"
   ]
  },
  {
   "cell_type": "code",
   "execution_count": null,
   "metadata": {},
   "outputs": [],
   "source": []
  }
 ],
 "metadata": {
  "kernelspec": {
   "display_name": "Python 3",
   "language": "python",
   "name": "python3"
  },
  "language_info": {
   "codemirror_mode": {
    "name": "ipython",
    "version": 3
   },
   "file_extension": ".py",
   "mimetype": "text/x-python",
   "name": "python",
   "nbconvert_exporter": "python",
   "pygments_lexer": "ipython3",
   "version": "3.6.7"
  }
 },
 "nbformat": 4,
 "nbformat_minor": 2
}
