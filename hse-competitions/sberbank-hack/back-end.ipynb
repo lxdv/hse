{
 "cells": [
  {
   "cell_type": "code",
   "execution_count": 1,
   "metadata": {},
   "outputs": [
    {
     "name": "stderr",
     "output_type": "stream",
     "text": [
      "Using TensorFlow backend.\n"
     ]
    }
   ],
   "source": [
    "import pandas as pd\n",
    "import numpy as np\n",
    "from pymystem3 import Mystem\n",
    "\n",
    "import warnings\n",
    "warnings.simplefilter('ignore')\n",
    "\n",
    "from flask import Flask\n",
    "import json\n",
    "\n",
    "from keras.preprocessing.text import Tokenizer\n",
    "from keras.preprocessing.sequence import pad_sequences\n",
    "\n",
    "from keras.models import Model, Sequential, load_model\n",
    "from keras.layers.core import Dense, Dropout, Activation\n",
    "from keras.layers.embeddings import Embedding\n",
    "from keras.layers.recurrent import LSTM\n",
    "from keras.layers import Input, Dot\n",
    "from keras.layers.merge import Concatenate\n",
    "from keras import regularizers\n",
    "\n",
    "from sklearn.preprocessing import LabelBinarizer\n",
    "from sklearn.feature_extraction.text import CountVectorizer\n",
    "from sklearn.linear_model import RidgeClassifier\n",
    "\n",
    "from additions.sber import *\n",
    "from additions.attention_layer import *"
   ]
  },
  {
   "cell_type": "code",
   "execution_count": 2,
   "metadata": {},
   "outputs": [
    {
     "name": "stdout",
     "output_type": "stream",
     "text": [
      "Words count - 38161\n",
      "98% percentile - 47.0\n"
     ]
    }
   ],
   "source": [
    "train_data = pd.read_csv('data/app_review_rating_train.csv')\n",
    "\n",
    "train_data.drop(['Date', 'AppName', 'Language'], axis = 1, inplace = True)\n",
    "train_data['Review'] = train_data['Review'].map(preprocess)\n",
    "train_data['Title'] = train_data['Title'].map(preprocess)\n",
    "\n",
    "val_data = pd.DataFrame()\n",
    "for i in range(1,6):\n",
    "    val_data = val_data.append(train_data[train_data['Rating'] == i].sample(int(train_data['Rating'].value_counts().loc[i] * 0.1),random_state = 7))\n",
    "train_data.drop(val_data.index,inplace=True)\n",
    "\n",
    "# m = Mystem()\n",
    "# train_data['Review'] = train_data['Review'].map(lambda x: ''.join(m.lemmatize(str(x))[:-1]))\n",
    "# train_data['Title'] = train_data['Title'].map(lambda x: ''.join(m.lemmatize(str(x))[:-1]))\n",
    "\n",
    "tokenizer = Tokenizer()\n",
    "tokenizer.fit_on_texts(list(train_data['Review']) + list(train_data['Title']) + list(val_data['Title']) + list(val_data['Review']))\n",
    "print('Words count -', len(tokenizer.word_index))\n",
    "print('98% percentile - ' + str(np.percentile(train_data['Review'].map(lambda x: len(x.split(' '))), 98)))"
   ]
  },
  {
   "cell_type": "code",
   "execution_count": 3,
   "metadata": {
    "collapsed": true
   },
   "outputs": [],
   "source": [
    "max_features = 40000\n",
    "maxlen = 50\n",
    "embedding_dim = 50\n",
    "\n",
    "label_binarizer = LabelBinarizer()\n",
    "label_binarizer.fit([1,2,3,4,5])\n",
    "y_train = label_binarizer.transform(train_data['Rating'])\n",
    "y_val = label_binarizer.transform(val_data['Rating'])"
   ]
  },
  {
   "cell_type": "code",
   "execution_count": 4,
   "metadata": {
    "collapsed": true
   },
   "outputs": [],
   "source": [
    "X_train = list()\n",
    "X_val = list()\n",
    "\n",
    "for i in range(0,len(train_data)):\n",
    "    X_train.append(str(train_data['Title'].iloc[i]) + ' ENDTITLE ' + str(train_data['Review'].iloc[i]))\n",
    "for i in range(0,len(val_data)):\n",
    "    X_val.append(str(val_data['Title'].iloc[i]) + ' ENDTITLE ' + str(val_data['Review'].iloc[i]))\n",
    "    \n",
    "X_train = tokenizer.texts_to_sequences(X_train)\n",
    "X_train = pad_sequences(list(X_train), maxlen)\n",
    "\n",
    "X_val = tokenizer.texts_to_sequences(X_val)\n",
    "X_val = pad_sequences(list(X_val), maxlen)"
   ]
  },
  {
   "cell_type": "code",
   "execution_count": 5,
   "metadata": {
    "scrolled": true
   },
   "outputs": [
    {
     "name": "stdout",
     "output_type": "stream",
     "text": [
      "Train on 68655 samples, validate on 7626 samples\n",
      "Epoch 1/20\n",
      "68655/68655 [==============================] - 6s - loss: 2.5094 - acc: 0.6668 - val_loss: 1.0191 - val_acc: 0.6783\n",
      "Epoch 2/20\n",
      "68655/68655 [==============================] - 5s - loss: 0.8624 - acc: 0.7139 - val_loss: 0.7473 - val_acc: 0.7568\n",
      "Epoch 3/20\n",
      "68655/68655 [==============================] - 5s - loss: 0.7505 - acc: 0.7640 - val_loss: 0.7424 - val_acc: 0.7689\n",
      "Epoch 4/20\n",
      "68655/68655 [==============================] - 5s - loss: 0.7219 - acc: 0.7757 - val_loss: 0.7090 - val_acc: 0.7813\n",
      "Epoch 5/20\n",
      "68655/68655 [==============================] - 5s - loss: 0.7019 - acc: 0.7824 - val_loss: 0.6802 - val_acc: 0.7868\n",
      "Epoch 6/20\n",
      "68655/68655 [==============================] - 5s - loss: 0.6794 - acc: 0.7884 - val_loss: 0.6682 - val_acc: 0.7922\n",
      "Epoch 7/20\n",
      "68655/68655 [==============================] - 5s - loss: 0.6691 - acc: 0.7915 - val_loss: 0.6679 - val_acc: 0.7905\n",
      "Epoch 8/20\n",
      "68655/68655 [==============================] - 5s - loss: 0.6595 - acc: 0.7944 - val_loss: 0.6627 - val_acc: 0.7944\n",
      "Epoch 9/20\n",
      "68655/68655 [==============================] - 5s - loss: 0.6484 - acc: 0.7971 - val_loss: 0.6552 - val_acc: 0.7969\n",
      "Epoch 10/20\n",
      "68655/68655 [==============================] - 5s - loss: 0.6399 - acc: 0.8011 - val_loss: 0.6491 - val_acc: 0.7969\n",
      "Epoch 11/20\n",
      "68655/68655 [==============================] - 5s - loss: 0.6387 - acc: 0.8026 - val_loss: 0.6409 - val_acc: 0.7977\n",
      "Epoch 12/20\n",
      "68655/68655 [==============================] - 5s - loss: 0.6365 - acc: 0.8040 - val_loss: 0.6335 - val_acc: 0.8038\n",
      "Epoch 13/20\n",
      "68655/68655 [==============================] - 5s - loss: 0.6297 - acc: 0.8062 - val_loss: 0.6283 - val_acc: 0.8040\n",
      "Epoch 14/20\n",
      "68655/68655 [==============================] - 5s - loss: 0.6206 - acc: 0.8086 - val_loss: 0.6243 - val_acc: 0.8040\n",
      "Epoch 15/20\n",
      "68655/68655 [==============================] - 5s - loss: 0.6177 - acc: 0.8100 - val_loss: 0.6306 - val_acc: 0.8032\n",
      "Epoch 16/20\n",
      "68655/68655 [==============================] - 5s - loss: 0.6166 - acc: 0.8097 - val_loss: 0.6293 - val_acc: 0.8046\n",
      "Epoch 17/20\n",
      "68655/68655 [==============================] - 5s - loss: 0.6160 - acc: 0.8120 - val_loss: 0.6286 - val_acc: 0.8051\n",
      "Epoch 18/20\n",
      "68655/68655 [==============================] - 5s - loss: 0.6140 - acc: 0.8117 - val_loss: 0.6350 - val_acc: 0.8055\n",
      "Epoch 19/20\n",
      "68655/68655 [==============================] - 5s - loss: 0.6155 - acc: 0.8114 - val_loss: 0.6208 - val_acc: 0.8074\n",
      "Epoch 20/20\n",
      "68655/68655 [==============================] - 5s - loss: 0.6078 - acc: 0.8135 - val_loss: 0.6197 - val_acc: 0.8088\n"
     ]
    },
    {
     "data": {
      "text/plain": [
       "<keras.callbacks.History at 0x7f01af585588>"
      ]
     },
     "execution_count": 5,
     "metadata": {},
     "output_type": "execute_result"
    }
   ],
   "source": [
    "input_layer = Input(shape=(maxlen,))\n",
    "embeddings = Embedding(max_features, embedding_dim, input_length=maxlen, embeddings_regularizer = regularizers.l1(10e-5))(input_layer)\n",
    "lstm_layer = LSTM(64, return_sequences=True)(embeddings)\n",
    "\n",
    "attention = AttentionWithContext()(lstm_layer)\n",
    "\n",
    "model = Dot(axes=0)([lstm_layer,attention])\n",
    "model = Dropout(0.5)(model)\n",
    "\n",
    "out = Dense(5, activation='softmax')(model)\n",
    "\n",
    "model = Model(inputs=input_layer, outputs=out)\n",
    "model.compile(loss='categorical_crossentropy',\n",
    "              optimizer='adam', metrics = ['accuracy'])\n",
    "\n",
    "model.fit(\n",
    "    X_train, y_train, \n",
    "    batch_size = 1024, \n",
    "    epochs = 20,\n",
    "    validation_data = (X_val,y_val)\n",
    ")"
   ]
  },
  {
   "cell_type": "code",
   "execution_count": 6,
   "metadata": {
    "collapsed": true
   },
   "outputs": [],
   "source": [
    "# together\n",
    "X_train = list()\n",
    "X_val = list()\n",
    "for i in range(0,len(train_data)):\n",
    "    X_train.append(str(train_data['Title'].iloc[i]) + ' ' + str(train_data['Review'].iloc[i]))\n",
    "    \n",
    "for i in range(0,len(val_data)):\n",
    "    X_val.append(str(val_data['Title'].iloc[i]) + ' ' + str(val_data['Review'].iloc[i]))\n",
    "    \n",
    "vectorizer = CountVectorizer(ngram_range=(1,2))\n",
    "\n",
    "X_train = vectorizer.fit_transform(X_train)\n",
    "X_val = vectorizer.transform(X_val)\n",
    "\n",
    "y_train = list(train_data['Rating'])\n",
    "y_val = list(val_data['Rating'])"
   ]
  },
  {
   "cell_type": "code",
   "execution_count": 7,
   "metadata": {},
   "outputs": [
    {
     "data": {
      "text/plain": [
       "RidgeClassifier(alpha=0.01, class_weight=None, copy_X=True,\n",
       "        fit_intercept=True, max_iter=None, normalize=False,\n",
       "        random_state=None, solver='auto', tol=0.001)"
      ]
     },
     "execution_count": 7,
     "metadata": {},
     "output_type": "execute_result"
    }
   ],
   "source": [
    "ridge = RidgeClassifier(alpha = 0.01)\n",
    "ridge.fit(X_train,y_train)"
   ]
  },
  {
   "cell_type": "code",
   "execution_count": 8,
   "metadata": {},
   "outputs": [
    {
     "name": "stdout",
     "output_type": "stream",
     "text": [
      "____________________________________________________________________________________________________\n",
      "Layer (type)                     Output Shape          Param #     Connected to                     \n",
      "====================================================================================================\n",
      "input_1 (InputLayer)             (None, 50)            0                                            \n",
      "____________________________________________________________________________________________________\n",
      "embedding_1 (Embedding)          (None, 50, 50)        2000000     input_1[0][0]                    \n",
      "____________________________________________________________________________________________________\n",
      "lstm_1 (LSTM)                    (None, 50, 64)        29440       embedding_1[0][0]                \n",
      "____________________________________________________________________________________________________\n",
      "attention_with_context_1 (Attent (None, 64)            4224        lstm_1[0][0]                     \n",
      "____________________________________________________________________________________________________\n",
      "dot_1 (Dot)                      (50, 64)              0           lstm_1[0][0]                     \n",
      "                                                                   attention_with_context_1[0][0]   \n",
      "____________________________________________________________________________________________________\n",
      "dropout_1 (Dropout)              (50, 64)              0           dot_1[0][0]                      \n",
      "____________________________________________________________________________________________________\n",
      "dense_1 (Dense)                  (50, 5)               325         dropout_1[0][0]                  \n",
      "====================================================================================================\n",
      "Total params: 2,033,989\n",
      "Trainable params: 2,033,989\n",
      "Non-trainable params: 0\n",
      "____________________________________________________________________________________________________\n"
     ]
    }
   ],
   "source": [
    "model.summary()"
   ]
  },
  {
   "cell_type": "code",
   "execution_count": null,
   "metadata": {
    "collapsed": true
   },
   "outputs": [],
   "source": [
    "dictionary = dict(map(reversed, tokenizer.word_index.items()))\n",
    "dictionary[0] = 'unknown'"
   ]
  },
  {
   "cell_type": "code",
   "execution_count": null,
   "metadata": {},
   "outputs": [
    {
     "name": "stderr",
     "output_type": "stream",
     "text": [
      " * Running on http://0.0.0.0:9000/ (Press CTRL+C to quit)\n"
     ]
    },
    {
     "name": "stdout",
     "output_type": "stream",
     "text": [
      "Сбербанк Отлично работает, очень нравит\n"
     ]
    },
    {
     "name": "stderr",
     "output_type": "stream",
     "text": [
      "192.168.88.112 - - [13/Dec/2017 17:40:44] \"\u001b[37mGET /predict/%D0%A1%D0%B1%D0%B5%D1%80%D0%B1%D0%B0%D0%BD%D0%BA%20%D0%9E%D1%82%D0%BB%D0%B8%D1%87%D0%BD%D0%BE%20%D1%80%D0%B0%D0%B1%D0%BE%D1%82%D0%B0%D0%B5%D1%82,%20%D0%BE%D1%87%D0%B5%D0%BD%D1%8C%20%D0%BD%D1%80%D0%B0%D0%B2%D0%B8%D1%82 HTTP/1.1\u001b[0m\" 200 -\n",
      "192.168.88.112 - - [13/Dec/2017 17:40:44] \"\u001b[37mGET /predict2/%D0%A1%D0%B1%D0%B5%D1%80%D0%B1%D0%B0%D0%BD%D0%BA%20%D0%9E%D1%82%D0%BB%D0%B8%D1%87%D0%BD%D0%BE%20%D1%80%D0%B0%D0%B1%D0%BE%D1%82%D0%B0%D0%B5%D1%82,%20%D0%BE%D1%87%D0%B5%D0%BD%D1%8C%20%D0%BD%D1%80%D0%B0%D0%B2%D0%B8%D1%82 HTTP/1.1\u001b[0m\" 200 -\n",
      "192.168.88.112 - - [13/Dec/2017 17:40:45] \"\u001b[37mGET /predict/%D0%A1%D0%B1%D0%B5%D1%80%D0%B1%D0%B0%D0%BD%D0%BA%20%D0%9E%D1%82%D0%BB%D0%B8%D1%87%D0%BD%D0%BE%20%D1%80%D0%B0%D0%B1%D0%BE%D1%82%D0%B0%D0%B5%D1%82,%20%D0%BE%D1%87%D0%B5%D0%BD%D1%8C%20%D0%BD%D1%80%D0%B0%D0%B2%D0%B8%D1%82%D1%81%D1%8F! HTTP/1.1\u001b[0m\" 200 -\n",
      "192.168.88.112 - - [13/Dec/2017 17:40:45] \"\u001b[37mGET /predict2/%D0%A1%D0%B1%D0%B5%D1%80%D0%B1%D0%B0%D0%BD%D0%BA%20%D0%9E%D1%82%D0%BB%D0%B8%D1%87%D0%BD%D0%BE%20%D1%80%D0%B0%D0%B1%D0%BE%D1%82%D0%B0%D0%B5%D1%82,%20%D0%BE%D1%87%D0%B5%D0%BD%D1%8C%20%D0%BD%D1%80%D0%B0%D0%B2%D0%B8%D1%82%D1%81%D1%8F! HTTP/1.1\u001b[0m\" 200 -\n"
     ]
    },
    {
     "name": "stdout",
     "output_type": "stream",
     "text": [
      "Сбербанк Отлично работает, очень нравится!\n"
     ]
    },
    {
     "name": "stderr",
     "output_type": "stream",
     "text": [
      "192.168.88.112 - - [13/Dec/2017 17:41:46] \"\u001b[37mGET /predict/%D0%A1%D0%B1%D0%B5%D1%80%D0%B1%D0%B0%D0%BD%D0%BA%20Ghb HTTP/1.1\u001b[0m\" 200 -\n",
      "192.168.88.112 - - [13/Dec/2017 17:41:46] \"\u001b[37mGET /predict2/%D0%A1%D0%B1%D0%B5%D1%80%D0%B1%D0%B0%D0%BD%D0%BA%20Ghb HTTP/1.1\u001b[0m\" 200 -\n"
     ]
    },
    {
     "name": "stdout",
     "output_type": "stream",
     "text": [
      "Сбербанк Ghb\n"
     ]
    },
    {
     "name": "stderr",
     "output_type": "stream",
     "text": [
      "192.168.88.112 - - [13/Dec/2017 17:41:48] \"\u001b[37mGET /predict/%D0%A1%D0%B1%D0%B5%D1%80%D0%B1%D0%B0%D0%BD%D0%BA%20%D0%9F%D1%80%D0%B8%D0%BB HTTP/1.1\u001b[0m\" 200 -\n",
      "192.168.88.112 - - [13/Dec/2017 17:41:48] \"\u001b[37mGET /predict2/%D0%A1%D0%B1%D0%B5%D1%80%D0%B1%D0%B0%D0%BD%D0%BA%20%D0%9F%D1%80%D0%B8%D0%BB HTTP/1.1\u001b[0m\" 200 -\n"
     ]
    },
    {
     "name": "stdout",
     "output_type": "stream",
     "text": [
      "Сбербанк Прил\n"
     ]
    },
    {
     "name": "stderr",
     "output_type": "stream",
     "text": [
      "192.168.88.112 - - [13/Dec/2017 17:41:48] \"\u001b[37mGET /predict/%D0%A1%D0%B1%D0%B5%D1%80%D0%B1%D0%B0%D0%BD%D0%BA%20%D0%9F%D1%80%D0%B8 HTTP/1.1\u001b[0m\" 200 -\n",
      "192.168.88.112 - - [13/Dec/2017 17:41:48] \"\u001b[37mGET /predict2/%D0%A1%D0%B1%D0%B5%D1%80%D0%B1%D0%B0%D0%BD%D0%BA%20%D0%9F%D1%80%D0%B8 HTTP/1.1\u001b[0m\" 200 -\n"
     ]
    },
    {
     "name": "stdout",
     "output_type": "stream",
     "text": [
      "Сбербанк При\n"
     ]
    },
    {
     "name": "stderr",
     "output_type": "stream",
     "text": [
      "192.168.88.112 - - [13/Dec/2017 17:41:50] \"\u001b[37mGET /predict/%D0%A1%D0%B1%D0%B5%D1%80%D0%B1%D0%B0%D0%BD%D0%BA%20%D0%9F%D1%80%D0%B8%D0%BE%D0%B6%D0%B5%D0%BD%D0%B8%D0%B5%20 HTTP/1.1\u001b[0m\" 200 -\n",
      "192.168.88.112 - - [13/Dec/2017 17:41:50] \"\u001b[37mGET /predict2/%D0%A1%D0%B1%D0%B5%D1%80%D0%B1%D0%B0%D0%BD%D0%BA%20%D0%9F%D1%80%D0%B8%D0%BE%D0%B6%D0%B5%D0%BD%D0%B8%D0%B5%20 HTTP/1.1\u001b[0m\" 200 -\n"
     ]
    },
    {
     "name": "stdout",
     "output_type": "stream",
     "text": [
      "Сбербанк Приожение \n"
     ]
    },
    {
     "name": "stderr",
     "output_type": "stream",
     "text": [
      "192.168.88.112 - - [13/Dec/2017 17:41:53] \"\u001b[37mGET /predict/%D0%A1%D0%B1%D0%B5%D1%80%D0%B1%D0%B0%D0%BD%D0%BA%20%D0%9F%D1%80%D0%B8%D0%BE%D0%B6%D0%B5%D0%BD%D0%B8%D0%B5%20%D0%BB%D0%B0%D0%B3%D0%B0%D0%B5%D1%82%20%D0%BD%D0%BE%20%D0%B2%20%D1%86%D0%B5%D0%BB%D0%BE%D0%BC%20%D0%BD%D0%B5%D0%BF%D0%BB%D0%BE%D1%85%D0%BE! HTTP/1.1\u001b[0m\" 200 -\n",
      "192.168.88.112 - - [13/Dec/2017 17:41:53] \"\u001b[37mGET /predict2/%D0%A1%D0%B1%D0%B5%D1%80%D0%B1%D0%B0%D0%BD%D0%BA%20%D0%9F%D1%80%D0%B8%D0%BE%D0%B6%D0%B5%D0%BD%D0%B8%D0%B5%20%D0%BB%D0%B0%D0%B3%D0%B0%D0%B5%D1%82%20%D0%BD%D0%BE%20%D0%B2%20%D1%86%D0%B5%D0%BB%D0%BE%D0%BC%20%D0%BD%D0%B5%D0%BF%D0%BB%D0%BE%D1%85%D0%BE! HTTP/1.1\u001b[0m\" 200 -\n"
     ]
    },
    {
     "name": "stdout",
     "output_type": "stream",
     "text": [
      "Сбербанк Приожение лагает но в целом неплохо!\n"
     ]
    },
    {
     "name": "stderr",
     "output_type": "stream",
     "text": [
      "192.168.88.112 - - [13/Dec/2017 17:44:47] \"\u001b[37mGET /predict/%D0%A1%D0%B1%D0%B5%D1%80%D0%B1%D0%B0%D0%BD%D0%BA%20%D0%9F%D1%80%D0%B8%D0%BB%D0%BE%D0%B5 HTTP/1.1\u001b[0m\" 200 -\n",
      "192.168.88.112 - - [13/Dec/2017 17:44:47] \"\u001b[37mGET /predict2/%D0%A1%D0%B1%D0%B5%D1%80%D0%B1%D0%B0%D0%BD%D0%BA%20%D0%9F%D1%80%D0%B8%D0%BB%D0%BE%D0%B5 HTTP/1.1\u001b[0m\" 200 -\n"
     ]
    },
    {
     "name": "stdout",
     "output_type": "stream",
     "text": [
      "Сбербанк Прилое\n"
     ]
    },
    {
     "name": "stderr",
     "output_type": "stream",
     "text": [
      "192.168.88.112 - - [13/Dec/2017 17:44:49] \"\u001b[37mGET /predict/%D0%A1%D0%B1%D0%B5%D1%80%D0%B1%D0%B0%D0%BD%D0%BA%20%D0%9F%D1%80%D0%B8%D0%BB%D0%BE%D0%B6%D0%B5%D0%B8 HTTP/1.1\u001b[0m\" 200 -\n",
      "192.168.88.112 - - [13/Dec/2017 17:44:49] \"\u001b[37mGET /predict2/%D0%A1%D0%B1%D0%B5%D1%80%D0%B1%D0%B0%D0%BD%D0%BA%20%D0%9F%D1%80%D0%B8%D0%BB%D0%BE%D0%B6%D0%B5%D0%B8 HTTP/1.1\u001b[0m\" 200 -\n"
     ]
    },
    {
     "name": "stdout",
     "output_type": "stream",
     "text": [
      "Сбербанк Приложеи\n"
     ]
    },
    {
     "name": "stderr",
     "output_type": "stream",
     "text": [
      "192.168.88.112 - - [13/Dec/2017 17:44:51] \"\u001b[37mGET /predict/%D0%A1%D0%B1%D0%B5%D1%80%D0%B1%D0%B0%D0%BD%D0%BA%20%D0%9F%D1%80%D0%B8%D0%BB%D0%BE%D0%B6%D0%B5%D0%BD%D0%B8%D0%B5%20%D1%80%D0%B0%D0%B1%D0%BE%D1%82%D0%B0%D0%B5%D1%82 HTTP/1.1\u001b[0m\" 200 -\n",
      "192.168.88.112 - - [13/Dec/2017 17:44:51] \"\u001b[37mGET /predict2/%D0%A1%D0%B1%D0%B5%D1%80%D0%B1%D0%B0%D0%BD%D0%BA%20%D0%9F%D1%80%D0%B8%D0%BB%D0%BE%D0%B6%D0%B5%D0%BD%D0%B8%D0%B5%20%D1%80%D0%B0%D0%B1%D0%BE%D1%82%D0%B0%D0%B5%D1%82 HTTP/1.1\u001b[0m\" 200 -\n"
     ]
    },
    {
     "name": "stdout",
     "output_type": "stream",
     "text": [
      "Сбербанк Приложение работает\n"
     ]
    },
    {
     "name": "stderr",
     "output_type": "stream",
     "text": [
      "192.168.88.112 - - [13/Dec/2017 17:44:53] \"\u001b[37mGET /predict/%D0%A1%D0%B1%D0%B5%D1%80%D0%B1%D0%B0%D0%BD%D0%BA%20%D0%9F%D1%80%D0%B8%D0%BB%D0%BE%D0%B6%D0%B5%D0%BD%D0%B8%D0%B5%20%D1%80%D0%B0%D0%B1%D0%BE%D1%82%D0%B0%D0%B5 HTTP/1.1\u001b[0m\" 200 -\n",
      "192.168.88.112 - - [13/Dec/2017 17:44:53] \"\u001b[37mGET /predict2/%D0%A1%D0%B1%D0%B5%D1%80%D0%B1%D0%B0%D0%BD%D0%BA%20%D0%9F%D1%80%D0%B8%D0%BB%D0%BE%D0%B6%D0%B5%D0%BD%D0%B8%D0%B5%20%D1%80%D0%B0%D0%B1%D0%BE%D1%82%D0%B0%D0%B5 HTTP/1.1\u001b[0m\" 200 -\n"
     ]
    },
    {
     "name": "stdout",
     "output_type": "stream",
     "text": [
      "Сбербанк Приложение работае\n"
     ]
    },
    {
     "name": "stderr",
     "output_type": "stream",
     "text": [
      "192.168.88.112 - - [13/Dec/2017 17:44:59] \"\u001b[37mGET /predict/%D0%A1%D0%B1%D0%B5%D1%80%D0%B1%D0%B0%D0%BD%D0%BA%20%D0%9E%D1%87%D0%B5%D0%BD%D1%8C%20%D0%BD%D1%80%D0%B0%D0%B2%D0%B8%D1%82%D1%81%D1%8F HTTP/1.1\u001b[0m\" 200 -\n",
      "192.168.88.112 - - [13/Dec/2017 17:44:59] \"\u001b[37mGET /predict2/%D0%A1%D0%B1%D0%B5%D1%80%D0%B1%D0%B0%D0%BD%D0%BA%20%D0%9E%D1%87%D0%B5%D0%BD%D1%8C%20%D0%BD%D1%80%D0%B0%D0%B2%D0%B8%D1%82%D1%81%D1%8F HTTP/1.1\u001b[0m\" 200 -\n"
     ]
    },
    {
     "name": "stdout",
     "output_type": "stream",
     "text": [
      "Сбербанк Очень нравится\n"
     ]
    },
    {
     "name": "stderr",
     "output_type": "stream",
     "text": [
      "192.168.88.112 - - [13/Dec/2017 17:45:01] \"\u001b[37mGET /predict/%D0%A1%D0%B1%D0%B5%D1%80%D0%B1%D0%B0%D0%BD%D0%BA%20%D0%9E%D1%87%D0%B5%D0%BD%D1%8C%20%D0%BD%D1%80%D0%B0%D0%B2%D0%B8%D1%82%D1%81%D1%8F!%20%D0%A3%D0%B4%D0%BE%D0%B1%D0%BD%D0%BE.%20%D0%A1%D0%BF HTTP/1.1\u001b[0m\" 200 -\n",
      "192.168.88.112 - - [13/Dec/2017 17:45:01] \"\u001b[37mGET /predict2/%D0%A1%D0%B1%D0%B5%D1%80%D0%B1%D0%B0%D0%BD%D0%BA%20%D0%9E%D1%87%D0%B5%D0%BD%D1%8C%20%D0%BD%D1%80%D0%B0%D0%B2%D0%B8%D1%82%D1%81%D1%8F!%20%D0%A3%D0%B4%D0%BE%D0%B1%D0%BD%D0%BE.%20%D0%A1%D0%BF HTTP/1.1\u001b[0m\" 200 -\n"
     ]
    },
    {
     "name": "stdout",
     "output_type": "stream",
     "text": [
      "Сбербанк Очень нравится! Удобно. Сп\n"
     ]
    },
    {
     "name": "stderr",
     "output_type": "stream",
     "text": [
      "192.168.88.112 - - [13/Dec/2017 17:45:03] \"\u001b[37mGET /predict/%D0%A1%D0%B1%D0%B5%D1%80%D0%B1%D0%B0%D0%BD%D0%BA%20%D0%9E%D1%87%D0%B5%D0%BD%D1%8C%20%D0%BD%D1%80%D0%B0%D0%B2%D0%B8%D1%82%D1%81%D1%8F!%20%D0%A3%D0%B4%D0%BE%D0%B1%D0%BD%D0%BE.%20%D0%A1%D0%BF%D0%B0%D1%81%D0%B8%D0%B1%D0%BE! HTTP/1.1\u001b[0m\" 200 -\n",
      "192.168.88.112 - - [13/Dec/2017 17:45:03] \"\u001b[37mGET /predict2/%D0%A1%D0%B1%D0%B5%D1%80%D0%B1%D0%B0%D0%BD%D0%BA%20%D0%9E%D1%87%D0%B5%D0%BD%D1%8C%20%D0%BD%D1%80%D0%B0%D0%B2%D0%B8%D1%82%D1%81%D1%8F!%20%D0%A3%D0%B4%D0%BE%D0%B1%D0%BD%D0%BE.%20%D0%A1%D0%BF%D0%B0%D1%81%D0%B8%D0%B1%D0%BE! HTTP/1.1\u001b[0m\" 200 -\n"
     ]
    },
    {
     "name": "stdout",
     "output_type": "stream",
     "text": [
      "Сбербанк Очень нравится! Удобно. Спасибо!\n"
     ]
    },
    {
     "name": "stderr",
     "output_type": "stream",
     "text": [
      "192.168.88.112 - - [13/Dec/2017 17:45:32] \"\u001b[37mGET /predict/%D0%A1%D0%B1%D0%B5%D1%80%D0%B1%D0%B0%D0%BD%D0%BA%20%D0%9F%D1%80%D0%B8%D0%BB%D0%BE%D0%B6%D0%B5%D0%BD%D0%B8%D0%B5%20 HTTP/1.1\u001b[0m\" 200 -\n",
      "192.168.88.112 - - [13/Dec/2017 17:45:32] \"\u001b[37mGET /predict2/%D0%A1%D0%B1%D0%B5%D1%80%D0%B1%D0%B0%D0%BD%D0%BA%20%D0%9F%D1%80%D0%B8%D0%BB%D0%BE%D0%B6%D0%B5%D0%BD%D0%B8%D0%B5%20 HTTP/1.1\u001b[0m\" 200 -\n"
     ]
    },
    {
     "name": "stdout",
     "output_type": "stream",
     "text": [
      "Сбербанк Приложение \n"
     ]
    },
    {
     "name": "stderr",
     "output_type": "stream",
     "text": [
      "192.168.88.112 - - [13/Dec/2017 17:45:33] \"\u001b[37mGET /predict/%D0%A1%D0%B1%D0%B5%D1%80%D0%B1%D0%B0%D0%BD%D0%BA%20%D0%9F%D1%80%D0%B8%D0%BB%D0%BE%D0%B6%D0%B5%D0%BD%D0%B8%D0%B5%20%D1%82%D0%BE%D1%80%D0%BC%D0%BE%D0%B7%D0%B8%20 HTTP/1.1\u001b[0m\" 200 -\n",
      "192.168.88.112 - - [13/Dec/2017 17:45:33] \"\u001b[37mGET /predict2/%D0%A1%D0%B1%D0%B5%D1%80%D0%B1%D0%B0%D0%BD%D0%BA%20%D0%9F%D1%80%D0%B8%D0%BB%D0%BE%D0%B6%D0%B5%D0%BD%D0%B8%D0%B5%20%D1%82%D0%BE%D1%80%D0%BC%D0%BE%D0%B7%D0%B8%20 HTTP/1.1\u001b[0m\" 200 -\n"
     ]
    },
    {
     "name": "stdout",
     "output_type": "stream",
     "text": [
      "Сбербанк Приложение тормози \n"
     ]
    },
    {
     "name": "stderr",
     "output_type": "stream",
     "text": [
      "192.168.88.112 - - [13/Dec/2017 17:45:36] \"\u001b[37mGET /predict/%D0%A1%D0%B1%D0%B5%D1%80%D0%B1%D0%B0%D0%BD%D0%BA%20%D0%9F%D1%80%D0%B8%D0%BB%D0%BE%D0%B6%D0%B5%D0%BD%D0%B8%D0%B5%20%D1%82%D0%BE%D1%80%D0%BC%D0%BE%D0%B7%D0%B8%D1%82%20%D0%BD%D0%BE%20%D0%B2%20%D1%86%D0%B5%D0%BB%D0%BE%D0%BC%20%D0%BD%D0%B5%D0%BF%D0%BB%D0%BE HTTP/1.1\u001b[0m\" 200 -\n",
      "192.168.88.112 - - [13/Dec/2017 17:45:36] \"\u001b[37mGET /predict2/%D0%A1%D0%B1%D0%B5%D1%80%D0%B1%D0%B0%D0%BD%D0%BA%20%D0%9F%D1%80%D0%B8%D0%BB%D0%BE%D0%B6%D0%B5%D0%BD%D0%B8%D0%B5%20%D1%82%D0%BE%D1%80%D0%BC%D0%BE%D0%B7%D0%B8%D1%82%20%D0%BD%D0%BE%20%D0%B2%20%D1%86%D0%B5%D0%BB%D0%BE%D0%BC%20%D0%BD%D0%B5%D0%BF%D0%BB%D0%BE HTTP/1.1\u001b[0m\" 200 -\n"
     ]
    },
    {
     "name": "stdout",
     "output_type": "stream",
     "text": [
      "Сбербанк Приложение тормозит но в целом непло\n"
     ]
    },
    {
     "name": "stderr",
     "output_type": "stream",
     "text": [
      "192.168.88.112 - - [13/Dec/2017 17:45:37] \"\u001b[37mGET /predict/%D0%A1%D0%B1%D0%B5%D1%80%D0%B1%D0%B0%D0%BD%D0%BA%20%D0%9F%D1%80%D0%B8%D0%BB%D0%BE%D0%B6%D0%B5%D0%BD%D0%B8%D0%B5%20%D1%82%D0%BE%D1%80%D0%BC%D0%BE%D0%B7%D0%B8%D1%82%20%D0%BD%D0%BE%20%D0%B2%20%D1%86%D0%B5%D0%BB%D0%BE%D0%BC%20%D0%BD%D0%B5%D0%BF%D0%BB%D0%BE%D1%85%D0%BE HTTP/1.1\u001b[0m\" 200 -\n",
      "192.168.88.112 - - [13/Dec/2017 17:45:37] \"\u001b[37mGET /predict2/%D0%A1%D0%B1%D0%B5%D1%80%D0%B1%D0%B0%D0%BD%D0%BA%20%D0%9F%D1%80%D0%B8%D0%BB%D0%BE%D0%B6%D0%B5%D0%BD%D0%B8%D0%B5%20%D1%82%D0%BE%D1%80%D0%BC%D0%BE%D0%B7%D0%B8%D1%82%20%D0%BD%D0%BE%20%D0%B2%20%D1%86%D0%B5%D0%BB%D0%BE%D0%BC%20%D0%BD%D0%B5%D0%BF%D0%BB%D0%BE%D1%85%D0%BE HTTP/1.1\u001b[0m\" 200 -\n"
     ]
    },
    {
     "name": "stdout",
     "output_type": "stream",
     "text": [
      "Сбербанк Приложение тормозит но в целом неплохо\n"
     ]
    },
    {
     "name": "stderr",
     "output_type": "stream",
     "text": [
      "192.168.88.112 - - [13/Dec/2017 17:46:26] \"\u001b[37mGET /predict/%D0%A1%D0%B1%D0%B5%D1%80%D0%B1%D0%B0%D0%BD%D0%BA%20%D0%9F%D1%80%D0%B8%D0%BB%D0%BE%D0%B6%D0%B5%D0%BD%D0%B8%D0%B5 HTTP/1.1\u001b[0m\" 200 -\n",
      "192.168.88.112 - - [13/Dec/2017 17:46:26] \"\u001b[37mGET /predict2/%D0%A1%D0%B1%D0%B5%D1%80%D0%B1%D0%B0%D0%BD%D0%BA%20%D0%9F%D1%80%D0%B8%D0%BB%D0%BE%D0%B6%D0%B5%D0%BD%D0%B8%D0%B5 HTTP/1.1\u001b[0m\" 200 -\n"
     ]
    },
    {
     "name": "stdout",
     "output_type": "stream",
     "text": [
      "Сбербанк Приложение\n"
     ]
    },
    {
     "name": "stderr",
     "output_type": "stream",
     "text": [
      "192.168.88.112 - - [13/Dec/2017 17:46:27] \"\u001b[37mGET /predict/%D0%A1%D0%B1%D0%B5%D1%80%D0%B1%D0%B0%D0%BD%D0%BA%20%D0%9F%D1%80%D0%B8%D0%BB%D0%BE%D0%B6%D0%B5%D0%BD%D0%B8%D0%B5%20%D1%82%D0%BE%D1%80 HTTP/1.1\u001b[0m\" 200 -\n",
      "192.168.88.112 - - [13/Dec/2017 17:46:27] \"\u001b[37mGET /predict2/%D0%A1%D0%B1%D0%B5%D1%80%D0%B1%D0%B0%D0%BD%D0%BA%20%D0%9F%D1%80%D0%B8%D0%BB%D0%BE%D0%B6%D0%B5%D0%BD%D0%B8%D0%B5%20%D1%82%D0%BE%D1%80 HTTP/1.1\u001b[0m\" 200 -\n"
     ]
    },
    {
     "name": "stdout",
     "output_type": "stream",
     "text": [
      "Сбербанк Приложение тор\n"
     ]
    },
    {
     "name": "stderr",
     "output_type": "stream",
     "text": [
      "192.168.88.112 - - [13/Dec/2017 17:46:27] \"\u001b[37mGET /predict/%D0%A1%D0%B1%D0%B5%D1%80%D0%B1%D0%B0%D0%BD%D0%BA%20%D0%9F%D1%80%D0%B8%D0%BB%D0%BE%D0%B6%D0%B5%D0%BD%D0%B8%D0%B5%20%D1%82%D0%BE%D1%80%D0%BE HTTP/1.1\u001b[0m\" 200 -\n",
      "192.168.88.112 - - [13/Dec/2017 17:46:27] \"\u001b[37mGET /predict2/%D0%A1%D0%B1%D0%B5%D1%80%D0%B1%D0%B0%D0%BD%D0%BA%20%D0%9F%D1%80%D0%B8%D0%BB%D0%BE%D0%B6%D0%B5%D0%BD%D0%B8%D0%B5%20%D1%82%D0%BE%D1%80%D0%BE HTTP/1.1\u001b[0m\" 200 -\n"
     ]
    },
    {
     "name": "stdout",
     "output_type": "stream",
     "text": [
      "Сбербанк Приложение торо\n"
     ]
    },
    {
     "name": "stderr",
     "output_type": "stream",
     "text": [
      "192.168.88.112 - - [13/Dec/2017 17:46:28] \"\u001b[37mGET /predict/%D0%A1%D0%B1%D0%B5%D1%80%D0%B1%D0%B0%D0%BD%D0%BA%20%D0%9F%D1%80%D0%B8%D0%BB%D0%BE%D0%B6%D0%B5%D0%BD%D0%B8%D0%B5%20%D1%82%D0%BE%D1%80%D0%BC%D0%BE%D0%B7%D0%B8%D1%82 HTTP/1.1\u001b[0m\" 200 -\n",
      "192.168.88.112 - - [13/Dec/2017 17:46:28] \"\u001b[37mGET /predict2/%D0%A1%D0%B1%D0%B5%D1%80%D0%B1%D0%B0%D0%BD%D0%BA%20%D0%9F%D1%80%D0%B8%D0%BB%D0%BE%D0%B6%D0%B5%D0%BD%D0%B8%D0%B5%20%D1%82%D0%BE%D1%80%D0%BC%D0%BE%D0%B7%D0%B8%D1%82 HTTP/1.1\u001b[0m\" 200 -\n"
     ]
    },
    {
     "name": "stdout",
     "output_type": "stream",
     "text": [
      "Сбербанк Приложение тормозит\n"
     ]
    },
    {
     "name": "stderr",
     "output_type": "stream",
     "text": [
      "192.168.88.112 - - [13/Dec/2017 17:46:31] \"\u001b[37mGET /predict/%D0%A1%D0%B1%D0%B5%D1%80%D0%B1%D0%B0%D0%BD%D0%BA%20%D0%9F%D1%80%D0%B8%D0%BB%D0%BE%D0%B6%D0%B5%D0%BD%D0%B8%D0%B5%20%D1%82%D0%BE%D1%80%D0%BC%D0%BE%D0%B7%D0%B8%D1%82,%20 HTTP/1.1\u001b[0m\" 200 -\n",
      "192.168.88.112 - - [13/Dec/2017 17:46:32] \"\u001b[37mGET /predict2/%D0%A1%D0%B1%D0%B5%D1%80%D0%B1%D0%B0%D0%BD%D0%BA%20%D0%9F%D1%80%D0%B8%D0%BB%D0%BE%D0%B6%D0%B5%D0%BD%D0%B8%D0%B5%20%D1%82%D0%BE%D1%80%D0%BC%D0%BE%D0%B7%D0%B8%D1%82,%20 HTTP/1.1\u001b[0m\" 200 -\n"
     ]
    },
    {
     "name": "stdout",
     "output_type": "stream",
     "text": [
      "Сбербанк Приложение тормозит, \n"
     ]
    },
    {
     "name": "stderr",
     "output_type": "stream",
     "text": [
      "192.168.88.112 - - [13/Dec/2017 17:46:35] \"\u001b[37mGET /predict/%D0%A1%D0%B1%D0%B5%D1%80%D0%B1%D0%B0%D0%BD%D0%BA%20%D0%9F%D1%80%D0%B8%D0%BB%D0%BE%D0%B6%D0%B5%D0%BD%D0%B8%D0%B5%20%D1%82%D0%BE%D1%80%D0%BC%D0%BE%D0%B7%D0%B8%D1%82,%20%D0%BD%D0%B5%20%D1%80%D0%B0%D0%B1%D0%BE%D1%82%D0%B0%D0%B5%D1%82 HTTP/1.1\u001b[0m\" 200 -\n",
      "192.168.88.112 - - [13/Dec/2017 17:46:36] \"\u001b[37mGET /predict2/%D0%A1%D0%B1%D0%B5%D1%80%D0%B1%D0%B0%D0%BD%D0%BA%20%D0%9F%D1%80%D0%B8%D0%BB%D0%BE%D0%B6%D0%B5%D0%BD%D0%B8%D0%B5%20%D1%82%D0%BE%D1%80%D0%BC%D0%BE%D0%B7%D0%B8%D1%82,%20%D0%BD%D0%B5%20%D1%80%D0%B0%D0%B1%D0%BE%D1%82%D0%B0%D0%B5%D1%82 HTTP/1.1\u001b[0m\" 200 -\n"
     ]
    },
    {
     "name": "stdout",
     "output_type": "stream",
     "text": [
      "Сбербанк Приложение тормозит, не работает\n"
     ]
    },
    {
     "name": "stderr",
     "output_type": "stream",
     "text": [
      "192.168.88.112 - - [13/Dec/2017 17:46:38] \"\u001b[37mGET /predict/%D0%A1%D0%B1%D0%B5%D1%80%D0%B1%D0%B0%D0%BD%D0%BA%20%D0%9F%D1%80%D0%B8%D0%BB%D0%BE%D0%B6%D0%B5%D0%BD%D0%B8%D0%B5%20%D1%82%D0%BE%D1%80%D0%BC%D0%BE%D0%B7%D0%B8%D1%82,%20%D0%BD%D0%B5%20%D1%80%D0%B0%D0%B1%D0%BE%D1%82%D0%B0%D0%B5%D1%82%20 HTTP/1.1\u001b[0m\" 200 -\n",
      "192.168.88.112 - - [13/Dec/2017 17:46:38] \"\u001b[37mGET /predict2/%D0%A1%D0%B1%D0%B5%D1%80%D0%B1%D0%B0%D0%BD%D0%BA%20%D0%9F%D1%80%D0%B8%D0%BB%D0%BE%D0%B6%D0%B5%D0%BD%D0%B8%D0%B5%20%D1%82%D0%BE%D1%80%D0%BC%D0%BE%D0%B7%D0%B8%D1%82,%20%D0%BD%D0%B5%20%D1%80%D0%B0%D0%B1%D0%BE%D1%82%D0%B0%D0%B5%D1%82%20 HTTP/1.1\u001b[0m\" 200 -\n"
     ]
    },
    {
     "name": "stdout",
     "output_type": "stream",
     "text": [
      "Сбербанк Приложение тормозит, не работает \n"
     ]
    },
    {
     "name": "stderr",
     "output_type": "stream",
     "text": [
      "192.168.88.112 - - [13/Dec/2017 17:46:38] \"\u001b[37mGET /predict/%D0%A1%D0%B1%D0%B5%D1%80%D0%B1%D0%B0%D0%BD%D0%BA%20%D0%9F%D1%80%D0%B8%D0%BB%D0%BE%D0%B6%D0%B5%D0%BD%D0%B8%D0%B5%20%D1%82%D0%BE%D1%80%D0%BC%D0%BE%D0%B7%D0%B8%D1%82,%20%D0%BD%D0%B5%20%D1%80%D0%B0%D0%B1%D0%BE%D1%82%D0%B0%D0%B5%D1%82%20to HTTP/1.1\u001b[0m\" 200 -\n",
      "192.168.88.112 - - [13/Dec/2017 17:46:38] \"\u001b[37mGET /predict2/%D0%A1%D0%B1%D0%B5%D1%80%D0%B1%D0%B0%D0%BD%D0%BA%20%D0%9F%D1%80%D0%B8%D0%BB%D0%BE%D0%B6%D0%B5%D0%BD%D0%B8%D0%B5%20%D1%82%D0%BE%D1%80%D0%BC%D0%BE%D0%B7%D0%B8%D1%82,%20%D0%BD%D0%B5%20%D1%80%D0%B0%D0%B1%D0%BE%D1%82%D0%B0%D0%B5%D1%82%20to HTTP/1.1\u001b[0m\" 200 -\n"
     ]
    },
    {
     "name": "stdout",
     "output_type": "stream",
     "text": [
      "Сбербанк Приложение тормозит, не работает to\n"
     ]
    },
    {
     "name": "stderr",
     "output_type": "stream",
     "text": [
      "192.168.88.112 - - [13/Dec/2017 17:46:40] \"\u001b[37mGET /predict/%D0%A1%D0%B1%D0%B5%D1%80%D0%B1%D0%B0%D0%BD%D0%BA%20%D0%9F%D1%80%D0%B8%D0%BB%D0%BE%D0%B6%D0%B5%D0%BD%D0%B8%D0%B5%20%D1%82%D0%BE%D1%80%D0%BC%D0%BE%D0%B7%D0%B8%D1%82,%20%D0%BD%D0%B5%20%D1%80%D0%B0%D0%B1%D0%BE%D1%82%D0%B0%D0%B5%D1%82%20Touch%20 HTTP/1.1\u001b[0m\" 200 -\n",
      "192.168.88.112 - - [13/Dec/2017 17:46:40] \"\u001b[37mGET /predict2/%D0%A1%D0%B1%D0%B5%D1%80%D0%B1%D0%B0%D0%BD%D0%BA%20%D0%9F%D1%80%D0%B8%D0%BB%D0%BE%D0%B6%D0%B5%D0%BD%D0%B8%D0%B5%20%D1%82%D0%BE%D1%80%D0%BC%D0%BE%D0%B7%D0%B8%D1%82,%20%D0%BD%D0%B5%20%D1%80%D0%B0%D0%B1%D0%BE%D1%82%D0%B0%D0%B5%D1%82%20Touch%20 HTTP/1.1\u001b[0m\" 200 -\n"
     ]
    },
    {
     "name": "stdout",
     "output_type": "stream",
     "text": [
      "Сбербанк Приложение тормозит, не работает Touch \n"
     ]
    },
    {
     "name": "stderr",
     "output_type": "stream",
     "text": [
      "192.168.88.112 - - [13/Dec/2017 17:46:41] \"\u001b[37mGET /predict/%D0%A1%D0%B1%D0%B5%D1%80%D0%B1%D0%B0%D0%BD%D0%BA%20%D0%9F%D1%80%D0%B8%D0%BB%D0%BE%D0%B6%D0%B5%D0%BD%D0%B8%D0%B5%20%D1%82%D0%BE%D1%80%D0%BC%D0%BE%D0%B7%D0%B8%D1%82,%20%D0%BD%D0%B5%20%D1%80%D0%B0%D0%B1%D0%BE%D1%82%D0%B0%D0%B5%D1%82%20Touch%20I HTTP/1.1\u001b[0m\" 200 -\n",
      "192.168.88.112 - - [13/Dec/2017 17:46:41] \"\u001b[37mGET /predict2/%D0%A1%D0%B1%D0%B5%D1%80%D0%B1%D0%B0%D0%BD%D0%BA%20%D0%9F%D1%80%D0%B8%D0%BB%D0%BE%D0%B6%D0%B5%D0%BD%D0%B8%D0%B5%20%D1%82%D0%BE%D1%80%D0%BC%D0%BE%D0%B7%D0%B8%D1%82,%20%D0%BD%D0%B5%20%D1%80%D0%B0%D0%B1%D0%BE%D1%82%D0%B0%D0%B5%D1%82%20Touch%20I HTTP/1.1\u001b[0m\" 200 -\n"
     ]
    },
    {
     "name": "stdout",
     "output_type": "stream",
     "text": [
      "Сбербанк Приложение тормозит, не работает Touch I\n"
     ]
    },
    {
     "name": "stderr",
     "output_type": "stream",
     "text": [
      "192.168.88.112 - - [13/Dec/2017 17:46:41] \"\u001b[37mGET /predict/%D0%A1%D0%B1%D0%B5%D1%80%D0%B1%D0%B0%D0%BD%D0%BA%20%D0%9F%D1%80%D0%B8%D0%BB%D0%BE%D0%B6%D0%B5%D0%BD%D0%B8%D0%B5%20%D1%82%D0%BE%D1%80%D0%BC%D0%BE%D0%B7%D0%B8%D1%82,%20%D0%BD%D0%B5%20%D1%80%D0%B0%D0%B1%D0%BE%D1%82%D0%B0%D0%B5%D1%82%20Touch%20ID HTTP/1.1\u001b[0m\" 200 -\n",
      "192.168.88.112 - - [13/Dec/2017 17:46:41] \"\u001b[37mGET /predict2/%D0%A1%D0%B1%D0%B5%D1%80%D0%B1%D0%B0%D0%BD%D0%BA%20%D0%9F%D1%80%D0%B8%D0%BB%D0%BE%D0%B6%D0%B5%D0%BD%D0%B8%D0%B5%20%D1%82%D0%BE%D1%80%D0%BC%D0%BE%D0%B7%D0%B8%D1%82,%20%D0%BD%D0%B5%20%D1%80%D0%B0%D0%B1%D0%BE%D1%82%D0%B0%D0%B5%D1%82%20Touch%20ID HTTP/1.1\u001b[0m\" 200 -\n"
     ]
    },
    {
     "name": "stdout",
     "output_type": "stream",
     "text": [
      "Сбербанк Приложение тормозит, не работает Touch ID\n"
     ]
    },
    {
     "name": "stderr",
     "output_type": "stream",
     "text": [
      "192.168.88.112 - - [13/Dec/2017 17:46:45] \"\u001b[37mGET /predict/%D0%A1%D0%B1%D0%B5%D1%80%D0%B1%D0%B0%D0%BD%D0%BA%20%D0%9F%D1%80%D0%B8%D0%BB%D0%BE%D0%B6%D0%B5%D0%BD%D0%B8%D0%B5%20%D1%82%D0%BE%D1%80%D0%BC%D0%BE%D0%B7%D0%B8%D1%82,%20%D0%BD%D0%B5%20%D1%80%D0%B0%D0%B1%D0%BE%D1%82%D0%B0%D0%B5%D1%82%20Touch%20ID.%20 HTTP/1.1\u001b[0m\" 200 -\n",
      "192.168.88.112 - - [13/Dec/2017 17:46:45] \"\u001b[37mGET /predict2/%D0%A1%D0%B1%D0%B5%D1%80%D0%B1%D0%B0%D0%BD%D0%BA%20%D0%9F%D1%80%D0%B8%D0%BB%D0%BE%D0%B6%D0%B5%D0%BD%D0%B8%D0%B5%20%D1%82%D0%BE%D1%80%D0%BC%D0%BE%D0%B7%D0%B8%D1%82,%20%D0%BD%D0%B5%20%D1%80%D0%B0%D0%B1%D0%BE%D1%82%D0%B0%D0%B5%D1%82%20Touch%20ID.%20 HTTP/1.1\u001b[0m\" 200 -\n"
     ]
    },
    {
     "name": "stdout",
     "output_type": "stream",
     "text": [
      "Сбербанк Приложение тормозит, не работает Touch ID. \n"
     ]
    },
    {
     "name": "stderr",
     "output_type": "stream",
     "text": [
      "192.168.88.112 - - [13/Dec/2017 17:46:46] \"\u001b[37mGET /predict/%D0%A1%D0%B1%D0%B5%D1%80%D0%B1%D0%B0%D0%BD%D0%BA%20%D0%9F%D1%80%D0%B8%D0%BB%D0%BE%D0%B6%D0%B5%D0%BD%D0%B8%D0%B5%20%D1%82%D0%BE%D1%80%D0%BC%D0%BE%D0%B7%D0%B8%D1%82,%20%D0%BD%D0%B5%20%D1%80%D0%B0%D0%B1%D0%BE%D1%82%D0%B0%D0%B5%D1%82%20Touch%20ID.%20%D0%9D%D0%BE%20 HTTP/1.1\u001b[0m\" 200 -\n",
      "192.168.88.112 - - [13/Dec/2017 17:46:46] \"\u001b[37mGET /predict2/%D0%A1%D0%B1%D0%B5%D1%80%D0%B1%D0%B0%D0%BD%D0%BA%20%D0%9F%D1%80%D0%B8%D0%BB%D0%BE%D0%B6%D0%B5%D0%BD%D0%B8%D0%B5%20%D1%82%D0%BE%D1%80%D0%BC%D0%BE%D0%B7%D0%B8%D1%82,%20%D0%BD%D0%B5%20%D1%80%D0%B0%D0%B1%D0%BE%D1%82%D0%B0%D0%B5%D1%82%20Touch%20ID.%20%D0%9D%D0%BE%20 HTTP/1.1\u001b[0m\" 200 -\n"
     ]
    },
    {
     "name": "stdout",
     "output_type": "stream",
     "text": [
      "Сбербанк Приложение тормозит, не работает Touch ID. Но \n"
     ]
    },
    {
     "name": "stderr",
     "output_type": "stream",
     "text": [
      "192.168.88.112 - - [13/Dec/2017 17:46:48] \"\u001b[37mGET /predict/%D0%A1%D0%B1%D0%B5%D1%80%D0%B1%D0%B0%D0%BD%D0%BA%20%D0%9F%D1%80%D0%B8%D0%BB%D0%BE%D0%B6%D0%B5%D0%BD%D0%B8%D0%B5%20%D1%82%D0%BE%D1%80%D0%BC%D0%BE%D0%B7%D0%B8%D1%82,%20%D0%BD%D0%B5%20%D1%80%D0%B0%D0%B1%D0%BE%D1%82%D0%B0%D0%B5%D1%82%20Touch%20ID.%20%D0%9D%D0%BE%20%D0%B2 HTTP/1.1\u001b[0m\" 200 -\n",
      "192.168.88.112 - - [13/Dec/2017 17:46:48] \"\u001b[37mGET /predict2/%D0%A1%D0%B1%D0%B5%D1%80%D0%B1%D0%B0%D0%BD%D0%BA%20%D0%9F%D1%80%D0%B8%D0%BB%D0%BE%D0%B6%D0%B5%D0%BD%D0%B8%D0%B5%20%D1%82%D0%BE%D1%80%D0%BC%D0%BE%D0%B7%D0%B8%D1%82,%20%D0%BD%D0%B5%20%D1%80%D0%B0%D0%B1%D0%BE%D1%82%D0%B0%D0%B5%D1%82%20Touch%20ID.%20%D0%9D%D0%BE%20%D0%B2 HTTP/1.1\u001b[0m\" 200 -\n"
     ]
    },
    {
     "name": "stdout",
     "output_type": "stream",
     "text": [
      "Сбербанк Приложение тормозит, не работает Touch ID. Но в\n"
     ]
    },
    {
     "name": "stderr",
     "output_type": "stream",
     "text": [
      "192.168.88.112 - - [13/Dec/2017 17:46:48] \"\u001b[37mGET /predict/%D0%A1%D0%B1%D0%B5%D1%80%D0%B1%D0%B0%D0%BD%D0%BA%20%D0%9F%D1%80%D0%B8%D0%BB%D0%BE%D0%B6%D0%B5%D0%BD%D0%B8%D0%B5%20%D1%82%D0%BE%D1%80%D0%BC%D0%BE%D0%B7%D0%B8%D1%82,%20%D0%BD%D0%B5%20%D1%80%D0%B0%D0%B1%D0%BE%D1%82%D0%B0%D0%B5%D1%82%20Touch%20ID.%20%D0%9D%D0%BE%20 HTTP/1.1\u001b[0m\" 200 -\n",
      "192.168.88.112 - - [13/Dec/2017 17:46:48] \"\u001b[37mGET /predict2/%D0%A1%D0%B1%D0%B5%D1%80%D0%B1%D0%B0%D0%BD%D0%BA%20%D0%9F%D1%80%D0%B8%D0%BB%D0%BE%D0%B6%D0%B5%D0%BD%D0%B8%D0%B5%20%D1%82%D0%BE%D1%80%D0%BC%D0%BE%D0%B7%D0%B8%D1%82,%20%D0%BD%D0%B5%20%D1%80%D0%B0%D0%B1%D0%BE%D1%82%D0%B0%D0%B5%D1%82%20Touch%20ID.%20%D0%9D%D0%BE%20 HTTP/1.1\u001b[0m\" 200 -\n"
     ]
    },
    {
     "name": "stdout",
     "output_type": "stream",
     "text": [
      "Сбербанк Приложение тормозит, не работает Touch ID. Но \n"
     ]
    },
    {
     "name": "stderr",
     "output_type": "stream",
     "text": [
      "192.168.88.112 - - [13/Dec/2017 17:46:49] \"\u001b[37mGET /predict/%D0%A1%D0%B1%D0%B5%D1%80%D0%B1%D0%B0%D0%BD%D0%BA%20%D0%9F%D1%80%D0%B8%D0%BB%D0%BE%D0%B6%D0%B5%D0%BD%D0%B8%D0%B5%20%D1%82%D0%BE%D1%80%D0%BC%D0%BE%D0%B7%D0%B8%D1%82,%20%D0%BD%D0%B5%20%D1%80%D0%B0%D0%B1%D0%BE%D1%82%D0%B0%D0%B5%D1%82%20Touch%20ID.%20%D0%9D%D0%BE%20%D0%B2%20 HTTP/1.1\u001b[0m\" 200 -\n",
      "192.168.88.112 - - [13/Dec/2017 17:46:49] \"\u001b[37mGET /predict2/%D0%A1%D0%B1%D0%B5%D1%80%D0%B1%D0%B0%D0%BD%D0%BA%20%D0%9F%D1%80%D0%B8%D0%BB%D0%BE%D0%B6%D0%B5%D0%BD%D0%B8%D0%B5%20%D1%82%D0%BE%D1%80%D0%BC%D0%BE%D0%B7%D0%B8%D1%82,%20%D0%BD%D0%B5%20%D1%80%D0%B0%D0%B1%D0%BE%D1%82%D0%B0%D0%B5%D1%82%20Touch%20ID.%20%D0%9D%D0%BE%20%D0%B2%20 HTTP/1.1\u001b[0m\" 200 -\n"
     ]
    },
    {
     "name": "stdout",
     "output_type": "stream",
     "text": [
      "Сбербанк Приложение тормозит, не работает Touch ID. Но в \n"
     ]
    },
    {
     "name": "stderr",
     "output_type": "stream",
     "text": [
      "192.168.88.112 - - [13/Dec/2017 17:46:51] \"\u001b[37mGET /predict/%D0%A1%D0%B1%D0%B5%D1%80%D0%B1%D0%B0%D0%BD%D0%BA%20%D0%9F%D1%80%D0%B8%D0%BB%D0%BE%D0%B6%D0%B5%D0%BD%D0%B8%D0%B5%20%D1%82%D0%BE%D1%80%D0%BC%D0%BE%D0%B7%D0%B8%D1%82,%20%D0%BD%D0%B5%20%D1%80%D0%B0%D0%B1%D0%BE%D1%82%D0%B0%D0%B5%D1%82%20Touch%20ID.%20%D0%9D%D0%BE%20%D1%82%D0%B0%D0%BA%20%D0%B2%D1%81%D0%B5%20%D0%B2%20%D0%BF%D0%BE%D1%80%D1%8F%D0%B4%D0%BA%D0%B5 HTTP/1.1\u001b[0m\" 200 -\n",
      "192.168.88.112 - - [13/Dec/2017 17:46:51] \"\u001b[37mGET /predict2/%D0%A1%D0%B1%D0%B5%D1%80%D0%B1%D0%B0%D0%BD%D0%BA%20%D0%9F%D1%80%D0%B8%D0%BB%D0%BE%D0%B6%D0%B5%D0%BD%D0%B8%D0%B5%20%D1%82%D0%BE%D1%80%D0%BC%D0%BE%D0%B7%D0%B8%D1%82,%20%D0%BD%D0%B5%20%D1%80%D0%B0%D0%B1%D0%BE%D1%82%D0%B0%D0%B5%D1%82%20Touch%20ID.%20%D0%9D%D0%BE%20%D1%82%D0%B0%D0%BA%20%D0%B2%D1%81%D0%B5%20%D0%B2%20%D0%BF%D0%BE%D1%80%D1%8F%D0%B4%D0%BA%D0%B5 HTTP/1.1\u001b[0m\" 200 -\n"
     ]
    },
    {
     "name": "stdout",
     "output_type": "stream",
     "text": [
      "Сбербанк Приложение тормозит, не работает Touch ID. Но так все в порядке\n"
     ]
    },
    {
     "name": "stderr",
     "output_type": "stream",
     "text": [
      "192.168.88.112 - - [13/Dec/2017 17:46:52] \"\u001b[37mGET /predict/%D0%A1%D0%B1%D0%B5%D1%80%D0%B1%D0%B0%D0%BD%D0%BA%20%D0%9F%D1%80%D0%B8%D0%BB%D0%BE%D0%B6%D0%B5%D0%BD%D0%B8%D0%B5%20%D1%82%D0%BE%D1%80%D0%BC%D0%BE%D0%B7%D0%B8%D1%82,%20%D0%BD%D0%B5%20%D1%80%D0%B0%D0%B1%D0%BE%D1%82%D0%B0%D0%B5%D1%82%20Touch%20ID.%20%D0%9D%D0%BE%20%D1%82%D0%B0%D0%BA%20%D0%B2%D1%81%D0%B5%20%D0%B2%20%D0%BF%D0%BE%D1%80%D1%8F%D0%B4%D0%BA%D0%B5! HTTP/1.1\u001b[0m\" 200 -\n",
      "192.168.88.112 - - [13/Dec/2017 17:46:52] \"\u001b[37mGET /predict2/%D0%A1%D0%B1%D0%B5%D1%80%D0%B1%D0%B0%D0%BD%D0%BA%20%D0%9F%D1%80%D0%B8%D0%BB%D0%BE%D0%B6%D0%B5%D0%BD%D0%B8%D0%B5%20%D1%82%D0%BE%D1%80%D0%BC%D0%BE%D0%B7%D0%B8%D1%82,%20%D0%BD%D0%B5%20%D1%80%D0%B0%D0%B1%D0%BE%D1%82%D0%B0%D0%B5%D1%82%20Touch%20ID.%20%D0%9D%D0%BE%20%D1%82%D0%B0%D0%BA%20%D0%B2%D1%81%D0%B5%20%D0%B2%20%D0%BF%D0%BE%D1%80%D1%8F%D0%B4%D0%BA%D0%B5! HTTP/1.1\u001b[0m\" 200 -\n"
     ]
    },
    {
     "name": "stdout",
     "output_type": "stream",
     "text": [
      "Сбербанк Приложение тормозит, не работает Touch ID. Но так все в порядке!\n"
     ]
    },
    {
     "name": "stderr",
     "output_type": "stream",
     "text": [
      "192.168.88.112 - - [13/Dec/2017 17:46:53] \"\u001b[37mGET /predict/%D0%A1%D0%B1%D0%B5%D1%80%D0%B1%D0%B0%D0%BD%D0%BA%20%D0%9F%D1%80%D0%B8%D0%BB%D0%BE%D0%B6%D0%B5%D0%BD%D0%B8%D0%B5%20%D1%82%D0%BE%D1%80%D0%BC%D0%BE%D0%B7%D0%B8%D1%82,%20%D0%BD%D0%B5%20%D1%80%D0%B0%D0%B1%D0%BE%D1%82%D0%B0%D0%B5%D1%82%20Touch%20ID.%20%D0%9D%D0%BE%20%D1%82%D0%B0%D0%BA%20%D0%B2%D1%81%D0%B5%20%D0%B2%20%D0%BF%D0%BE%D1%80%D1%8F%D0%B4%D0%BA%D0%B5 HTTP/1.1\u001b[0m\" 200 -\n",
      "192.168.88.112 - - [13/Dec/2017 17:46:53] \"\u001b[37mGET /predict2/%D0%A1%D0%B1%D0%B5%D1%80%D0%B1%D0%B0%D0%BD%D0%BA%20%D0%9F%D1%80%D0%B8%D0%BB%D0%BE%D0%B6%D0%B5%D0%BD%D0%B8%D0%B5%20%D1%82%D0%BE%D1%80%D0%BC%D0%BE%D0%B7%D0%B8%D1%82,%20%D0%BD%D0%B5%20%D1%80%D0%B0%D0%B1%D0%BE%D1%82%D0%B0%D0%B5%D1%82%20Touch%20ID.%20%D0%9D%D0%BE%20%D1%82%D0%B0%D0%BA%20%D0%B2%D1%81%D0%B5%20%D0%B2%20%D0%BF%D0%BE%D1%80%D1%8F%D0%B4%D0%BA%D0%B5 HTTP/1.1\u001b[0m\" 200 -\n"
     ]
    },
    {
     "name": "stdout",
     "output_type": "stream",
     "text": [
      "Сбербанк Приложение тормозит, не работает Touch ID. Но так все в порядке\n"
     ]
    },
    {
     "name": "stderr",
     "output_type": "stream",
     "text": [
      "192.168.88.112 - - [13/Dec/2017 17:46:54] \"\u001b[37mGET /predict/%D0%A1%D0%B1%D0%B5%D1%80%D0%B1%D0%B0%D0%BD%D0%BA%20%D0%9F%D1%80%D0%B8%D0%BB%D0%BE%D0%B6%D0%B5%D0%BD%D0%B8%D0%B5%20%D1%82%D0%BE%D1%80%D0%BC%D0%BE%D0%B7%D0%B8%D1%82,%20%D0%BD%D0%B5%20%D1%80%D0%B0%D0%B1%D0%BE%D1%82%D0%B0%D0%B5%D1%82%20Touch%20ID.%20%D0%9D%D0%BE HTTP/1.1\u001b[0m\" 200 -\n",
      "192.168.88.112 - - [13/Dec/2017 17:46:54] \"\u001b[37mGET /predict2/%D0%A1%D0%B1%D0%B5%D1%80%D0%B1%D0%B0%D0%BD%D0%BA%20%D0%9F%D1%80%D0%B8%D0%BB%D0%BE%D0%B6%D0%B5%D0%BD%D0%B8%D0%B5%20%D1%82%D0%BE%D1%80%D0%BC%D0%BE%D0%B7%D0%B8%D1%82,%20%D0%BD%D0%B5%20%D1%80%D0%B0%D0%B1%D0%BE%D1%82%D0%B0%D0%B5%D1%82%20Touch%20ID.%20%D0%9D%D0%BE HTTP/1.1\u001b[0m\" 200 -\n"
     ]
    },
    {
     "name": "stdout",
     "output_type": "stream",
     "text": [
      "Сбербанк Приложение тормозит, не работает Touch ID. Но\n"
     ]
    },
    {
     "name": "stderr",
     "output_type": "stream",
     "text": [
      "192.168.88.112 - - [13/Dec/2017 17:46:55] \"\u001b[37mGET /predict/%D0%A1%D0%B1%D0%B5%D1%80%D0%B1%D0%B0%D0%BD%D0%BA%20%D0%9F%D1%80%D0%B8%D0%BB%D0%BE%D0%B6%D0%B5%D0%BD%D0%B8%D0%B5%20%D1%82%D0%BE%D1%80%D0%BC%D0%BE%D0%B7%D0%B8%D1%82,%20%D0%BD%D0%B5%20%D1%80%D0%B0%D0%B1%D0%BE%D1%82%D0%B0%D0%B5%D1%82%20Touch%20ID.%20 HTTP/1.1\u001b[0m\" 200 -\n",
      "192.168.88.112 - - [13/Dec/2017 17:46:55] \"\u001b[37mGET /predict2/%D0%A1%D0%B1%D0%B5%D1%80%D0%B1%D0%B0%D0%BD%D0%BA%20%D0%9F%D1%80%D0%B8%D0%BB%D0%BE%D0%B6%D0%B5%D0%BD%D0%B8%D0%B5%20%D1%82%D0%BE%D1%80%D0%BC%D0%BE%D0%B7%D0%B8%D1%82,%20%D0%BD%D0%B5%20%D1%80%D0%B0%D0%B1%D0%BE%D1%82%D0%B0%D0%B5%D1%82%20Touch%20ID.%20 HTTP/1.1\u001b[0m\" 200 -\n"
     ]
    },
    {
     "name": "stdout",
     "output_type": "stream",
     "text": [
      "Сбербанк Приложение тормозит, не работает Touch ID. \n"
     ]
    },
    {
     "name": "stderr",
     "output_type": "stream",
     "text": [
      "192.168.88.112 - - [13/Dec/2017 17:47:00] \"\u001b[37mGET /predict/%D0%A1%D0%B1%D0%B5%D1%80%D0%B1%D0%B0%D0%BD%D0%BA%20%D0%A2%D0%B0%D0%BA%20%D1%81%D0%B5%D0%B1%D0%B5 HTTP/1.1\u001b[0m\" 200 -\n",
      "192.168.88.112 - - [13/Dec/2017 17:47:00] \"\u001b[37mGET /predict2/%D0%A1%D0%B1%D0%B5%D1%80%D0%B1%D0%B0%D0%BD%D0%BA%20%D0%A2%D0%B0%D0%BA%20%D1%81%D0%B5%D0%B1%D0%B5 HTTP/1.1\u001b[0m\" 200 -\n"
     ]
    },
    {
     "name": "stdout",
     "output_type": "stream",
     "text": [
      "Сбербанк Так себе\n"
     ]
    },
    {
     "name": "stderr",
     "output_type": "stream",
     "text": [
      "192.168.88.112 - - [13/Dec/2017 17:47:00] \"\u001b[37mGET /predict/%D0%A1%D0%B1%D0%B5%D1%80%D0%B1%D0%B0%D0%BD%D0%BA%20%D0%A2%D0%B0%D0%BA%20%D1%81%D0%B5%D0%B1%D0%B5! HTTP/1.1\u001b[0m\" 200 -\n",
      "192.168.88.112 - - [13/Dec/2017 17:47:00] \"\u001b[37mGET /predict2/%D0%A1%D0%B1%D0%B5%D1%80%D0%B1%D0%B0%D0%BD%D0%BA%20%D0%A2%D0%B0%D0%BA%20%D1%81%D0%B5%D0%B1%D0%B5! HTTP/1.1\u001b[0m\" 200 -\n"
     ]
    },
    {
     "name": "stdout",
     "output_type": "stream",
     "text": [
      "Сбербанк Так себе!\n"
     ]
    },
    {
     "name": "stderr",
     "output_type": "stream",
     "text": [
      "192.168.88.112 - - [13/Dec/2017 17:47:01] \"\u001b[37mGET /predict/%D0%A1%D0%B1%D0%B5%D1%80%D0%B1%D0%B0%D0%BD%D0%BA%20%D0%A2%D0%B0%D0%BA%20%D1%81%D0%B5%D0%B1%D0%B5 HTTP/1.1\u001b[0m\" 200 -\n",
      "192.168.88.112 - - [13/Dec/2017 17:47:01] \"\u001b[37mGET /predict2/%D0%A1%D0%B1%D0%B5%D1%80%D0%B1%D0%B0%D0%BD%D0%BA%20%D0%A2%D0%B0%D0%BA%20%D1%81%D0%B5%D0%B1%D0%B5 HTTP/1.1\u001b[0m\" 200 -\n"
     ]
    },
    {
     "name": "stdout",
     "output_type": "stream",
     "text": [
      "Сбербанк Так себе\n"
     ]
    },
    {
     "name": "stderr",
     "output_type": "stream",
     "text": [
      "192.168.88.112 - - [13/Dec/2017 17:47:02] \"\u001b[37mGET /predict/%D0%A1%D0%B1%D0%B5%D1%80%D0%B1%D0%B0%D0%BD%D0%BA%20%D0%A2%D0%B0%D0%BA%20%D1%81%D0%B5%D0%B1%D0%B5.%20 HTTP/1.1\u001b[0m\" 200 -\n",
      "192.168.88.112 - - [13/Dec/2017 17:47:02] \"\u001b[37mGET /predict2/%D0%A1%D0%B1%D0%B5%D1%80%D0%B1%D0%B0%D0%BD%D0%BA%20%D0%A2%D0%B0%D0%BA%20%D1%81%D0%B5%D0%B1%D0%B5.%20 HTTP/1.1\u001b[0m\" 200 -\n"
     ]
    },
    {
     "name": "stdout",
     "output_type": "stream",
     "text": [
      "Сбербанк Так себе. \n"
     ]
    },
    {
     "name": "stderr",
     "output_type": "stream",
     "text": [
      "192.168.88.112 - - [13/Dec/2017 17:47:07] \"\u001b[37mGET /predict/%D0%A1%D0%B1%D0%B5%D1%80%D0%B1%D0%B0%D0%BD%D0%BA%20%D0%A2%D0%B0%D0%BA%20%D1%81%D0%B5%D0%B1%D0%B5.%20%D0%9C%D0%B5%D1%81%D1%82%D0%B0%D0%BC%D0%B8 HTTP/1.1\u001b[0m\" 200 -\n",
      "192.168.88.112 - - [13/Dec/2017 17:47:07] \"\u001b[37mGET /predict2/%D0%A1%D0%B1%D0%B5%D1%80%D0%B1%D0%B0%D0%BD%D0%BA%20%D0%A2%D0%B0%D0%BA%20%D1%81%D0%B5%D0%B1%D0%B5.%20%D0%9C%D0%B5%D1%81%D1%82%D0%B0%D0%BC%D0%B8 HTTP/1.1\u001b[0m\" 200 -\n"
     ]
    },
    {
     "name": "stdout",
     "output_type": "stream",
     "text": [
      "Сбербанк Так себе. Местами\n"
     ]
    },
    {
     "name": "stderr",
     "output_type": "stream",
     "text": [
      "192.168.88.112 - - [13/Dec/2017 17:47:09] \"\u001b[37mGET /predict/%D0%A1%D0%B1%D0%B5%D1%80%D0%B1%D0%B0%D0%BD%D0%BA%20%D0%A2%D0%B0%D0%BA%20%D1%81%D0%B5%D0%B1%D0%B5.%20 HTTP/1.1\u001b[0m\" 200 -\n",
      "192.168.88.112 - - [13/Dec/2017 17:47:09] \"\u001b[37mGET /predict2/%D0%A1%D0%B1%D0%B5%D1%80%D0%B1%D0%B0%D0%BD%D0%BA%20%D0%A2%D0%B0%D0%BA%20%D1%81%D0%B5%D0%B1%D0%B5.%20 HTTP/1.1\u001b[0m\" 200 -\n"
     ]
    },
    {
     "name": "stdout",
     "output_type": "stream",
     "text": [
      "Сбербанк Так себе. \n"
     ]
    },
    {
     "name": "stderr",
     "output_type": "stream",
     "text": [
      "192.168.88.112 - - [13/Dec/2017 17:47:10] \"\u001b[37mGET /predict/%D0%A1%D0%B1%D0%B5%D1%80%D0%B1%D0%B0%D0%BD%D0%BA%20%D0%A2%D0%B0%D0%BA%20%D1%81%D0%B5%D0%B1%D0%B5.%20%D0%92 HTTP/1.1\u001b[0m\" 200 -\n",
      "192.168.88.112 - - [13/Dec/2017 17:47:10] \"\u001b[37mGET /predict2/%D0%A1%D0%B1%D0%B5%D1%80%D0%B1%D0%B0%D0%BD%D0%BA%20%D0%A2%D0%B0%D0%BA%20%D1%81%D0%B5%D0%B1%D0%B5.%20%D0%92 HTTP/1.1\u001b[0m\" 200 -\n"
     ]
    },
    {
     "name": "stdout",
     "output_type": "stream",
     "text": [
      "Сбербанк Так себе. В\n"
     ]
    },
    {
     "name": "stderr",
     "output_type": "stream",
     "text": [
      "192.168.88.112 - - [13/Dec/2017 17:47:10] \"\u001b[37mGET /predict/%D0%A1%D0%B1%D0%B5%D1%80%D0%B1%D0%B0%D0%BD%D0%BA%20%D0%A2%D0%B0%D0%BA%20%D1%81%D0%B5%D0%B1%D0%B5.%20 HTTP/1.1\u001b[0m\" 200 -\n",
      "192.168.88.112 - - [13/Dec/2017 17:47:10] \"\u001b[37mGET /predict2/%D0%A1%D0%B1%D0%B5%D1%80%D0%B1%D0%B0%D0%BD%D0%BA%20%D0%A2%D0%B0%D0%BA%20%D1%81%D0%B5%D0%B1%D0%B5.%20 HTTP/1.1\u001b[0m\" 200 -\n"
     ]
    },
    {
     "name": "stdout",
     "output_type": "stream",
     "text": [
      "Сбербанк Так себе. \n"
     ]
    },
    {
     "name": "stderr",
     "output_type": "stream",
     "text": [
      "192.168.88.112 - - [13/Dec/2017 17:47:12] \"\u001b[37mGET /predict/%D0%A1%D0%B1%D0%B5%D1%80%D0%B1%D0%B0%D0%BD%D0%BA%20%D0%A2%D0%B0%D0%BA%20%D1%81%D0%B5%D0%B1%D0%B5.%20%D0%94%D0%B8%D0%B7%D0%B0%D0%B9%D0%BD HTTP/1.1\u001b[0m\" 200 -\n",
      "192.168.88.112 - - [13/Dec/2017 17:47:12] \"\u001b[37mGET /predict2/%D0%A1%D0%B1%D0%B5%D1%80%D0%B1%D0%B0%D0%BD%D0%BA%20%D0%A2%D0%B0%D0%BA%20%D1%81%D0%B5%D0%B1%D0%B5.%20%D0%94%D0%B8%D0%B7%D0%B0%D0%B9%D0%BD HTTP/1.1\u001b[0m\" 200 -\n"
     ]
    },
    {
     "name": "stdout",
     "output_type": "stream",
     "text": [
      "Сбербанк Так себе. Дизайн\n"
     ]
    },
    {
     "name": "stderr",
     "output_type": "stream",
     "text": [
      "192.168.88.112 - - [13/Dec/2017 17:47:14] \"\u001b[37mGET /predict/%D0%A1%D0%B1%D0%B5%D1%80%D0%B1%D0%B0%D0%BD%D0%BA%20%D0%A2%D0%B0%D0%BA%20%D1%81%D0%B5%D0%B1%D0%B5. HTTP/1.1\u001b[0m\" 200 -\n",
      "192.168.88.112 - - [13/Dec/2017 17:47:14] \"\u001b[37mGET /predict2/%D0%A1%D0%B1%D0%B5%D1%80%D0%B1%D0%B0%D0%BD%D0%BA%20%D0%A2%D0%B0%D0%BA%20%D1%81%D0%B5%D0%B1%D0%B5. HTTP/1.1\u001b[0m\" 200 -\n"
     ]
    },
    {
     "name": "stdout",
     "output_type": "stream",
     "text": [
      "Сбербанк Так себе.\n"
     ]
    },
    {
     "name": "stderr",
     "output_type": "stream",
     "text": [
      "192.168.88.112 - - [13/Dec/2017 17:47:15] \"\u001b[37mGET /predict/%D0%A1%D0%B1%D0%B5%D1%80%D0%B1%D0%B0%D0%BD%D0%BA%20%D0%A2%D0%B0%D0%BA%20%D1%81%D0%B5%D0%B1%D0%B5.%20 HTTP/1.1\u001b[0m\" 200 -\n",
      "192.168.88.112 - - [13/Dec/2017 17:47:15] \"\u001b[37mGET /predict2/%D0%A1%D0%B1%D0%B5%D1%80%D0%B1%D0%B0%D0%BD%D0%BA%20%D0%A2%D0%B0%D0%BA%20%D1%81%D0%B5%D0%B1%D0%B5.%20 HTTP/1.1\u001b[0m\" 200 -\n"
     ]
    },
    {
     "name": "stdout",
     "output_type": "stream",
     "text": [
      "Сбербанк Так себе. \n"
     ]
    },
    {
     "name": "stderr",
     "output_type": "stream",
     "text": [
      "192.168.88.112 - - [13/Dec/2017 17:47:19] \"\u001b[37mGET /predict/%D0%A1%D0%B1%D0%B5%D1%80%D0%B1%D0%B0%D0%BD%D0%BA%20%D0%94%D0%B8%D0%B7%D0%B0%D0%B9%D0%BD%20%D0%A2%D0%B0%D0%BA%20%D1%81%D0%B5%D0%B1%D0%B5.%20 HTTP/1.1\u001b[0m\" 200 -\n",
      "192.168.88.112 - - [13/Dec/2017 17:47:19] \"\u001b[37mGET /predict2/%D0%A1%D0%B1%D0%B5%D1%80%D0%B1%D0%B0%D0%BD%D0%BA%20%D0%94%D0%B8%D0%B7%D0%B0%D0%B9%D0%BD%20%D0%A2%D0%B0%D0%BA%20%D1%81%D0%B5%D0%B1%D0%B5.%20 HTTP/1.1\u001b[0m\" 200 -\n"
     ]
    },
    {
     "name": "stdout",
     "output_type": "stream",
     "text": [
      "Сбербанк Дизайн Так себе. \n"
     ]
    },
    {
     "name": "stderr",
     "output_type": "stream",
     "text": [
      "192.168.88.112 - - [13/Dec/2017 17:47:21] \"\u001b[37mGET /predict/%D0%A1%D0%B1%D0%B5%D1%80%D0%B1%D0%B0%D0%BD%D0%BA%20%D0%A2%D0%B0%D0%BA%20%D1%81%D0%B5%D0%B1%D0%B5.%20 HTTP/1.1\u001b[0m\" 200 -\n",
      "192.168.88.112 - - [13/Dec/2017 17:47:21] \"\u001b[37mGET /predict2/%D0%A1%D0%B1%D0%B5%D1%80%D0%B1%D0%B0%D0%BD%D0%BA%20%D0%A2%D0%B0%D0%BA%20%D1%81%D0%B5%D0%B1%D0%B5.%20 HTTP/1.1\u001b[0m\" 200 -\n"
     ]
    },
    {
     "name": "stdout",
     "output_type": "stream",
     "text": [
      "Сбербанк Так себе. \n"
     ]
    },
    {
     "name": "stderr",
     "output_type": "stream",
     "text": [
      "192.168.88.112 - - [13/Dec/2017 17:47:28] \"\u001b[37mGET /predict/%D0%A1%D0%B1%D0%B5%D1%80%D0%B1%D0%B0%D0%BD%D0%BA%20%D0%A2%D0%B0%D0%BA%20%D1%81%D0%B5%D0%B1%D0%B5.%20%D0%92 HTTP/1.1\u001b[0m\" 200 -\n",
      "192.168.88.112 - - [13/Dec/2017 17:47:28] \"\u001b[37mGET /predict2/%D0%A1%D0%B1%D0%B5%D1%80%D0%B1%D0%B0%D0%BD%D0%BA%20%D0%A2%D0%B0%D0%BA%20%D1%81%D0%B5%D0%B1%D0%B5.%20%D0%92 HTTP/1.1\u001b[0m\" 200 -\n"
     ]
    },
    {
     "name": "stdout",
     "output_type": "stream",
     "text": [
      "Сбербанк Так себе. В\n"
     ]
    },
    {
     "name": "stderr",
     "output_type": "stream",
     "text": [
      "192.168.88.112 - - [13/Dec/2017 17:47:28] \"\u001b[37mGET /predict/%D0%A1%D0%B1%D0%B5%D1%80%D0%B1%D0%B0%D0%BD%D0%BA%20%D0%A2%D0%B0%D0%BA%20%D1%81%D0%B5%D0%B1%D0%B5.%20 HTTP/1.1\u001b[0m\" 200 -\n",
      "192.168.88.112 - - [13/Dec/2017 17:47:28] \"\u001b[37mGET /predict2/%D0%A1%D0%B1%D0%B5%D1%80%D0%B1%D0%B0%D0%BD%D0%BA%20%D0%A2%D0%B0%D0%BA%20%D1%81%D0%B5%D0%B1%D0%B5.%20 HTTP/1.1\u001b[0m\" 200 -\n"
     ]
    },
    {
     "name": "stdout",
     "output_type": "stream",
     "text": [
      "Сбербанк Так себе. \n"
     ]
    },
    {
     "name": "stderr",
     "output_type": "stream",
     "text": [
      "192.168.88.112 - - [13/Dec/2017 17:47:29] \"\u001b[37mGET /predict/%D0%A1%D0%B1%D0%B5%D1%80%D0%B1%D0%B0%D0%BD%D0%BA%20%D0%A2%D0%B0%D0%BA%20%D1%81%D0%B5%D0%B1%D0%B5. HTTP/1.1\u001b[0m\" 200 -\n",
      "192.168.88.112 - - [13/Dec/2017 17:47:29] \"\u001b[37mGET /predict2/%D0%A1%D0%B1%D0%B5%D1%80%D0%B1%D0%B0%D0%BD%D0%BA%20%D0%A2%D0%B0%D0%BA%20%D1%81%D0%B5%D0%B1%D0%B5. HTTP/1.1\u001b[0m\" 200 -\n"
     ]
    },
    {
     "name": "stdout",
     "output_type": "stream",
     "text": [
      "Сбербанк Так себе.\n"
     ]
    },
    {
     "name": "stderr",
     "output_type": "stream",
     "text": [
      "192.168.88.112 - - [13/Dec/2017 17:47:31] \"\u001b[37mGET /predict/%D0%A1%D0%B1%D0%B5%D1%80%D0%B1%D0%B0%D0%BD%D0%BA%20%D0%9D%D1%83%20 HTTP/1.1\u001b[0m\" 200 -\n",
      "192.168.88.112 - - [13/Dec/2017 17:47:31] \"\u001b[37mGET /predict2/%D0%A1%D0%B1%D0%B5%D1%80%D0%B1%D0%B0%D0%BD%D0%BA%20%D0%9D%D1%83%20 HTTP/1.1\u001b[0m\" 200 -\n"
     ]
    },
    {
     "name": "stdout",
     "output_type": "stream",
     "text": [
      "Сбербанк Ну \n"
     ]
    },
    {
     "name": "stderr",
     "output_type": "stream",
     "text": [
      "192.168.88.112 - - [13/Dec/2017 17:47:31] \"\u001b[37mGET /predict/%D0%A1%D0%B1%D0%B5%D1%80%D0%B1%D0%B0%D0%BD%D0%BA%20%D0%9D%D1%83%20%D0%B3 HTTP/1.1\u001b[0m\" 200 -\n",
      "192.168.88.112 - - [13/Dec/2017 17:47:31] \"\u001b[37mGET /predict2/%D0%A1%D0%B1%D0%B5%D1%80%D0%B1%D0%B0%D0%BD%D0%BA%20%D0%9D%D1%83%20%D0%B3 HTTP/1.1\u001b[0m\" 200 -\n"
     ]
    },
    {
     "name": "stdout",
     "output_type": "stream",
     "text": [
      "Сбербанк Ну г\n"
     ]
    },
    {
     "name": "stderr",
     "output_type": "stream",
     "text": [
      "192.168.88.112 - - [13/Dec/2017 17:47:33] \"\u001b[37mGET /predict/%D0%A1%D0%B1%D0%B5%D1%80%D0%B1%D0%B0%D0%BD%D0%BA%20%D0%9D%D1%83%20%D0%B3%D0%B4%D0%B5 HTTP/1.1\u001b[0m\" 200 -\n",
      "192.168.88.112 - - [13/Dec/2017 17:47:33] \"\u001b[37mGET /predict2/%D0%A1%D0%B1%D0%B5%D1%80%D0%B1%D0%B0%D0%BD%D0%BA%20%D0%9D%D1%83%20%D0%B3%D0%B4%D0%B5 HTTP/1.1\u001b[0m\" 200 -\n"
     ]
    },
    {
     "name": "stdout",
     "output_type": "stream",
     "text": [
      "Сбербанк Ну где\n"
     ]
    },
    {
     "name": "stderr",
     "output_type": "stream",
     "text": [
      "192.168.88.112 - - [13/Dec/2017 17:47:36] \"\u001b[37mGET /predict/%D0%A1%D0%B1%D0%B5%D1%80%D0%B1%D0%B0%D0%BD%D0%BA%20%D0%9D%D0%B0%20%D1%82%D1%80%D0%BE%D0%B5 HTTP/1.1\u001b[0m\" 200 -\n",
      "192.168.88.112 - - [13/Dec/2017 17:47:36] \"\u001b[37mGET /predict2/%D0%A1%D0%B1%D0%B5%D1%80%D0%B1%D0%B0%D0%BD%D0%BA%20%D0%9D%D0%B0%20%D1%82%D1%80%D0%BE%D0%B5 HTTP/1.1\u001b[0m\" 200 -\n"
     ]
    },
    {
     "name": "stdout",
     "output_type": "stream",
     "text": [
      "Сбербанк На трое\n"
     ]
    },
    {
     "name": "stderr",
     "output_type": "stream",
     "text": [
      "192.168.88.112 - - [13/Dec/2017 17:47:36] \"\u001b[37mGET /predict/%D0%A1%D0%B1%D0%B5%D1%80%D0%B1%D0%B0%D0%BD%D0%BA%20%D0%9D%D0%B0%20%D1%82%D1%80%D0%BE%D0%B5%D1%87%D0%BA%D1%83 HTTP/1.1\u001b[0m\" 200 -\n",
      "192.168.88.112 - - [13/Dec/2017 17:47:36] \"\u001b[37mGET /predict2/%D0%A1%D0%B1%D0%B5%D1%80%D0%B1%D0%B0%D0%BD%D0%BA%20%D0%9D%D0%B0%20%D1%82%D1%80%D0%BE%D0%B5%D1%87%D0%BA%D1%83 HTTP/1.1\u001b[0m\" 200 -\n"
     ]
    },
    {
     "name": "stdout",
     "output_type": "stream",
     "text": [
      "Сбербанк На троечку\n"
     ]
    },
    {
     "name": "stderr",
     "output_type": "stream",
     "text": [
      "192.168.88.112 - - [13/Dec/2017 17:47:39] \"\u001b[37mGET /predict/%D0%A1%D0%B1%D0%B5%D1%80%D0%B1%D0%B0%D0%BD%D0%BA%20%D0%9D%D0%B0%20%D1%82%D1%80%D0%BE%D0%B5%D1%87%D0%BA HTTP/1.1\u001b[0m\" 200 -\n",
      "192.168.88.112 - - [13/Dec/2017 17:47:39] \"\u001b[37mGET /predict2/%D0%A1%D0%B1%D0%B5%D1%80%D0%B1%D0%B0%D0%BD%D0%BA%20%D0%9D%D0%B0%20%D1%82%D1%80%D0%BE%D0%B5%D1%87%D0%BA HTTP/1.1\u001b[0m\" 200 -\n"
     ]
    },
    {
     "name": "stdout",
     "output_type": "stream",
     "text": [
      "Сбербанк На троечк\n"
     ]
    },
    {
     "name": "stderr",
     "output_type": "stream",
     "text": [
      "192.168.88.112 - - [13/Dec/2017 17:47:52] \"\u001b[37mGET /predict/%D0%95%D1%81%D1%82%D1%8C%20%D0%BA%D1%83%D0%B4%D0%B0%20%D1%81%D1%82%D1%80%D0%B5%D0%BC%D0%B8%D1%82%D1%8C%D1%81%D1%8F%20%D0%A0%D0%B0%D0%B1%D0%BE%D1%82%D0%B0%D0%B5%D1%82 HTTP/1.1\u001b[0m\" 200 -\n",
      "192.168.88.112 - - [13/Dec/2017 17:47:52] \"\u001b[37mGET /predict2/%D0%95%D1%81%D1%82%D1%8C%20%D0%BA%D1%83%D0%B4%D0%B0%20%D1%81%D1%82%D1%80%D0%B5%D0%BC%D0%B8%D1%82%D1%8C%D1%81%D1%8F%20%D0%A0%D0%B0%D0%B1%D0%BE%D1%82%D0%B0%D0%B5%D1%82 HTTP/1.1\u001b[0m\" 200 -\n"
     ]
    },
    {
     "name": "stdout",
     "output_type": "stream",
     "text": [
      "Есть куда стремиться Работает\n"
     ]
    },
    {
     "name": "stderr",
     "output_type": "stream",
     "text": [
      "192.168.88.112 - - [13/Dec/2017 17:47:55] \"\u001b[37mGET /predict/%D0%95%D1%81%D1%82%D1%8C%20%D0%BA%D1%83%D0%B4%D0%B0%20%D1%81%D1%82%D1%80%D0%B5%D0%BC%D0%B8%D1%82%D1%8C%D1%81%D1%8F%20%D0%A0%D0%B0%D0%B1%D0%BE%D1%82%D0%B0%D0%B5%D1%82,%20%D0%BD%D0%BE%20%D0%BC%D0%B5%D1%81%D1%82%D0%B0%D0%BC%D0%B8%20 HTTP/1.1\u001b[0m\" 200 -\n",
      "192.168.88.112 - - [13/Dec/2017 17:47:55] \"\u001b[37mGET /predict2/%D0%95%D1%81%D1%82%D1%8C%20%D0%BA%D1%83%D0%B4%D0%B0%20%D1%81%D1%82%D1%80%D0%B5%D0%BC%D0%B8%D1%82%D1%8C%D1%81%D1%8F%20%D0%A0%D0%B0%D0%B1%D0%BE%D1%82%D0%B0%D0%B5%D1%82,%20%D0%BD%D0%BE%20%D0%BC%D0%B5%D1%81%D1%82%D0%B0%D0%BC%D0%B8%20 HTTP/1.1\u001b[0m\" 200 -\n"
     ]
    },
    {
     "name": "stdout",
     "output_type": "stream",
     "text": [
      "Есть куда стремиться Работает, но местами \n"
     ]
    },
    {
     "name": "stderr",
     "output_type": "stream",
     "text": [
      "192.168.88.112 - - [13/Dec/2017 17:47:57] \"\u001b[37mGET /predict/%D0%95%D1%81%D1%82%D1%8C%20%D0%BA%D1%83%D0%B4%D0%B0%20%D1%81%D1%82%D1%80%D0%B5%D0%BC%D0%B8%D1%82%D1%8C%D1%81%D1%8F%20%D0%A0%D0%B0%D0%B1%D0%BE%D1%82%D0%B0%D0%B5%D1%82,%20%D0%BD%D0%BE%20%D0%BC%D0%B5%D1%81%D1%82%D0%B0%D0%BC%D0%B8%20%D1%82%D0%BE%D1%80%D0%BC%D0%BE%D0%B7%D0%B8%D1%82 HTTP/1.1\u001b[0m\" 200 -\n",
      "192.168.88.112 - - [13/Dec/2017 17:47:58] \"\u001b[37mGET /predict2/%D0%95%D1%81%D1%82%D1%8C%20%D0%BA%D1%83%D0%B4%D0%B0%20%D1%81%D1%82%D1%80%D0%B5%D0%BC%D0%B8%D1%82%D1%8C%D1%81%D1%8F%20%D0%A0%D0%B0%D0%B1%D0%BE%D1%82%D0%B0%D0%B5%D1%82,%20%D0%BD%D0%BE%20%D0%BC%D0%B5%D1%81%D1%82%D0%B0%D0%BC%D0%B8%20%D1%82%D0%BE%D1%80%D0%BC%D0%BE%D0%B7%D0%B8%D1%82 HTTP/1.1\u001b[0m\" 200 -\n"
     ]
    },
    {
     "name": "stdout",
     "output_type": "stream",
     "text": [
      "Есть куда стремиться Работает, но местами тормозит\n"
     ]
    },
    {
     "name": "stderr",
     "output_type": "stream",
     "text": [
      "192.168.88.112 - - [13/Dec/2017 17:48:07] \"\u001b[37mGET /predict/%D0%95%D1%81%D1%82%D1%8C%20%D0%BA%D1%83%D0%B4%D0%B0%20%D1%81%D1%82%D1%80%D0%B5%D0%BC%D0%B8%D1%82%D1%8C%D1%81%D1%8F%20%D0%A0%D0%B0%D0%B1%D0%BE%D1%82%D0%B0%D0%B5%D1%82,%20%D0%BD%D0%BE%20%D0%BC%D0%B5%D1%81%D1%82%D0%B0%D0%BC%D0%B8%20%D1%82%D0%BE%D1%80%D0%BC%D0%BE%D0%B7%D0%B8%D1%82%20%D0%BE%D0%B1%D0%BD%D0%BE%D0%B2%D0%B8%D1%82%D0%B5 HTTP/1.1\u001b[0m\" 200 -\n",
      "192.168.88.112 - - [13/Dec/2017 17:48:07] \"\u001b[37mGET /predict2/%D0%95%D1%81%D1%82%D1%8C%20%D0%BA%D1%83%D0%B4%D0%B0%20%D1%81%D1%82%D1%80%D0%B5%D0%BC%D0%B8%D1%82%D1%8C%D1%81%D1%8F%20%D0%A0%D0%B0%D0%B1%D0%BE%D1%82%D0%B0%D0%B5%D1%82,%20%D0%BD%D0%BE%20%D0%BC%D0%B5%D1%81%D1%82%D0%B0%D0%BC%D0%B8%20%D1%82%D0%BE%D1%80%D0%BC%D0%BE%D0%B7%D0%B8%D1%82%20%D0%BE%D0%B1%D0%BD%D0%BE%D0%B2%D0%B8%D1%82%D0%B5 HTTP/1.1\u001b[0m\" 200 -\n"
     ]
    },
    {
     "name": "stdout",
     "output_type": "stream",
     "text": [
      "Есть куда стремиться Работает, но местами тормозит обновите\n"
     ]
    },
    {
     "name": "stderr",
     "output_type": "stream",
     "text": [
      "192.168.88.112 - - [13/Dec/2017 17:48:09] \"\u001b[37mGET /predict/%D0%95%D1%81%D1%82%D1%8C%20%D0%BA%D1%83%D0%B4%D0%B0%20%D1%81%D1%82%D1%80%D0%B5%D0%BC%D0%B8%D1%82%D1%8C%D1%81%D1%8F%20%D0%A0%D0%B0%D0%B1%D0%BE%D1%82%D0%B0%D0%B5%D1%82,%20%D0%BD%D0%BE%20%D0%BC%D0%B5%D1%81%D1%82%D0%B0%D0%BC%D0%B8%20%D1%82%D0%BE%D1%80%D0%BC%D0%BE%D0%B7%D0%B8%D1%82%20%D0%BE%D0%B1%D0%BD%D0%BE%D0%B2%D0%B8%D1%82 HTTP/1.1\u001b[0m\" 200 -\n",
      "192.168.88.112 - - [13/Dec/2017 17:48:09] \"\u001b[37mGET /predict2/%D0%95%D1%81%D1%82%D1%8C%20%D0%BA%D1%83%D0%B4%D0%B0%20%D1%81%D1%82%D1%80%D0%B5%D0%BC%D0%B8%D1%82%D1%8C%D1%81%D1%8F%20%D0%A0%D0%B0%D0%B1%D0%BE%D1%82%D0%B0%D0%B5%D1%82,%20%D0%BD%D0%BE%20%D0%BC%D0%B5%D1%81%D1%82%D0%B0%D0%BC%D0%B8%20%D1%82%D0%BE%D1%80%D0%BC%D0%BE%D0%B7%D0%B8%D1%82%20%D0%BE%D0%B1%D0%BD%D0%BE%D0%B2%D0%B8%D1%82 HTTP/1.1\u001b[0m\" 200 -\n"
     ]
    },
    {
     "name": "stdout",
     "output_type": "stream",
     "text": [
      "Есть куда стремиться Работает, но местами тормозит обновит\n"
     ]
    },
    {
     "name": "stderr",
     "output_type": "stream",
     "text": [
      "192.168.88.112 - - [13/Dec/2017 17:48:09] \"\u001b[37mGET /predict/%D0%95%D1%81%D1%82%D1%8C%20%D0%BA%D1%83%D0%B4%D0%B0%20%D1%81%D1%82%D1%80%D0%B5%D0%BC%D0%B8%D1%82%D1%8C%D1%81%D1%8F%20%D0%A0%D0%B0%D0%B1%D0%BE%D1%82%D0%B0%D0%B5%D1%82,%20%D0%BD%D0%BE%20%D0%BC%D0%B5%D1%81%D1%82%D0%B0%D0%BC%D0%B8%20%D1%82%D0%BE%D1%80%D0%BC%D0%BE%D0%B7%D0%B8%D1%82%20 HTTP/1.1\u001b[0m\" 200 -\n",
      "192.168.88.112 - - [13/Dec/2017 17:48:09] \"\u001b[37mGET /predict2/%D0%95%D1%81%D1%82%D1%8C%20%D0%BA%D1%83%D0%B4%D0%B0%20%D1%81%D1%82%D1%80%D0%B5%D0%BC%D0%B8%D1%82%D1%8C%D1%81%D1%8F%20%D0%A0%D0%B0%D0%B1%D0%BE%D1%82%D0%B0%D0%B5%D1%82,%20%D0%BD%D0%BE%20%D0%BC%D0%B5%D1%81%D1%82%D0%B0%D0%BC%D0%B8%20%D1%82%D0%BE%D1%80%D0%BC%D0%BE%D0%B7%D0%B8%D1%82%20 HTTP/1.1\u001b[0m\" 200 -\n"
     ]
    },
    {
     "name": "stdout",
     "output_type": "stream",
     "text": [
      "Есть куда стремиться Работает, но местами тормозит \n"
     ]
    },
    {
     "name": "stderr",
     "output_type": "stream",
     "text": [
      "192.168.88.112 - - [13/Dec/2017 17:48:10] \"\u001b[37mGET /predict/%D0%95%D1%81%D1%82%D1%8C%20%D0%BA%D1%83%D0%B4%D0%B0%20%D1%81%D1%82%D1%80%D0%B5%D0%BC%D0%B8%D1%82%D1%8C%D1%81%D1%8F%20%D0%A0%D0%B0%D0%B1%D0%BE%D1%82%D0%B0%D0%B5%D1%82,%20%D0%BD%D0%BE%20%D0%BC%D0%B5%D1%81%D1%82%D0%B0%D0%BC%D0%B8%20%D1%82%D0%BE%D1%80%D0%BC%D0%BE%D0%B7%D0%B8%D1%82 HTTP/1.1\u001b[0m\" 200 -\n",
      "192.168.88.112 - - [13/Dec/2017 17:48:10] \"\u001b[37mGET /predict2/%D0%95%D1%81%D1%82%D1%8C%20%D0%BA%D1%83%D0%B4%D0%B0%20%D1%81%D1%82%D1%80%D0%B5%D0%BC%D0%B8%D1%82%D1%8C%D1%81%D1%8F%20%D0%A0%D0%B0%D0%B1%D0%BE%D1%82%D0%B0%D0%B5%D1%82,%20%D0%BD%D0%BE%20%D0%BC%D0%B5%D1%81%D1%82%D0%B0%D0%BC%D0%B8%20%D1%82%D0%BE%D1%80%D0%BC%D0%BE%D0%B7%D0%B8%D1%82 HTTP/1.1\u001b[0m\" 200 -\n"
     ]
    },
    {
     "name": "stdout",
     "output_type": "stream",
     "text": [
      "Есть куда стремиться Работает, но местами тормозит\n"
     ]
    },
    {
     "name": "stderr",
     "output_type": "stream",
     "text": [
      "192.168.88.112 - - [13/Dec/2017 17:48:12] \"\u001b[37mGET /predict/%D0%95%D1%81%D1%82%D1%8C%20%D0%BA%D1%83%D0%B4%D0%B0%20%D1%81%D1%82%D1%80%D0%B5%D0%BC%D0%B8%D1%82%D1%8C%D1%81%D1%8F%20%D0%A0%D0%B0%D0%B1%D0%BE%D1%82%D0%B0%D0%B5%D1%82,%20%D0%BD%D0%BE%20%D0%BC%D0%B5%D1%81%D1%82%D0%B0%D0%BC%D0%B8%20%D1%82%D0%BE%D1%80%D0%BC%D0%BE%D0%B7%D0%B8%D1%82,%20%D0%B2%D0%BE%D1%82%20 HTTP/1.1\u001b[0m\" 200 -\n",
      "192.168.88.112 - - [13/Dec/2017 17:48:12] \"\u001b[37mGET /predict2/%D0%95%D1%81%D1%82%D1%8C%20%D0%BA%D1%83%D0%B4%D0%B0%20%D1%81%D1%82%D1%80%D0%B5%D0%BC%D0%B8%D1%82%D1%8C%D1%81%D1%8F%20%D0%A0%D0%B0%D0%B1%D0%BE%D1%82%D0%B0%D0%B5%D1%82,%20%D0%BD%D0%BE%20%D0%BC%D0%B5%D1%81%D1%82%D0%B0%D0%BC%D0%B8%20%D1%82%D0%BE%D1%80%D0%BC%D0%BE%D0%B7%D0%B8%D1%82,%20%D0%B2%D0%BE%D1%82%20 HTTP/1.1\u001b[0m\" 200 -\n"
     ]
    },
    {
     "name": "stdout",
     "output_type": "stream",
     "text": [
      "Есть куда стремиться Работает, но местами тормозит, вот \n"
     ]
    },
    {
     "name": "stderr",
     "output_type": "stream",
     "text": [
      "192.168.88.112 - - [13/Dec/2017 17:48:14] \"\u001b[37mGET /predict/%D0%95%D1%81%D1%82%D1%8C%20%D0%BA%D1%83%D0%B4%D0%B0%20%D1%81%D1%82%D1%80%D0%B5%D0%BC%D0%B8%D1%82%D1%8C%D1%81%D1%8F%20%D0%A0%D0%B0%D0%B1%D0%BE%D1%82%D0%B0%D0%B5%D1%82,%20%D0%BD%D0%BE%20%D0%BC%D0%B5%D1%81%D1%82%D0%B0%D0%BC%D0%B8%20%D1%82%D0%BE%D1%80%D0%BC%D0%BE%D0%B7%D0%B8%D1%82, HTTP/1.1\u001b[0m\" 200 -\n",
      "192.168.88.112 - - [13/Dec/2017 17:48:14] \"\u001b[37mGET /predict2/%D0%95%D1%81%D1%82%D1%8C%20%D0%BA%D1%83%D0%B4%D0%B0%20%D1%81%D1%82%D1%80%D0%B5%D0%BC%D0%B8%D1%82%D1%8C%D1%81%D1%8F%20%D0%A0%D0%B0%D0%B1%D0%BE%D1%82%D0%B0%D0%B5%D1%82,%20%D0%BD%D0%BE%20%D0%BC%D0%B5%D1%81%D1%82%D0%B0%D0%BC%D0%B8%20%D1%82%D0%BE%D1%80%D0%BC%D0%BE%D0%B7%D0%B8%D1%82, HTTP/1.1\u001b[0m\" 200 -\n"
     ]
    },
    {
     "name": "stdout",
     "output_type": "stream",
     "text": [
      "Есть куда стремиться Работает, но местами тормозит,\n"
     ]
    },
    {
     "name": "stderr",
     "output_type": "stream",
     "text": [
      "192.168.88.112 - - [13/Dec/2017 17:48:15] \"\u001b[37mGET /predict/%D0%95%D1%81%D1%82%D1%8C%20%D0%BA%D1%83%D0%B4%D0%B0%20%D1%81%D1%82%D1%80%D0%B5%D0%BC%D0%B8%D1%82%D1%8C%D1%81%D1%8F%20%D0%A0%D0%B0%D0%B1%D0%BE%D1%82%D0%B0%D0%B5%D1%82,%20%D0%BD%D0%BE%20%D0%BC%D0%B5%D1%81%D1%82%D0%B0%D0%BC%D0%B8%20%D1%82%D0%BE%D1%80%D0%BC%D0%BE%D0%B7%D0%B8%D1%82,%20%D0%B2%D0%BE%D1%82 HTTP/1.1\u001b[0m\" 200 -\n",
      "192.168.88.112 - - [13/Dec/2017 17:48:15] \"\u001b[37mGET /predict2/%D0%95%D1%81%D1%82%D1%8C%20%D0%BA%D1%83%D0%B4%D0%B0%20%D1%81%D1%82%D1%80%D0%B5%D0%BC%D0%B8%D1%82%D1%8C%D1%81%D1%8F%20%D0%A0%D0%B0%D0%B1%D0%BE%D1%82%D0%B0%D0%B5%D1%82,%20%D0%BD%D0%BE%20%D0%BC%D0%B5%D1%81%D1%82%D0%B0%D0%BC%D0%B8%20%D1%82%D0%BE%D1%80%D0%BC%D0%BE%D0%B7%D0%B8%D1%82,%20%D0%B2%D0%BE%D1%82 HTTP/1.1\u001b[0m\" 200 -\n"
     ]
    },
    {
     "name": "stdout",
     "output_type": "stream",
     "text": [
      "Есть куда стремиться Работает, но местами тормозит, вот\n"
     ]
    },
    {
     "name": "stderr",
     "output_type": "stream",
     "text": [
      "192.168.88.112 - - [13/Dec/2017 17:48:16] \"\u001b[37mGET /predict/%D0%95%D1%81%D1%82%D1%8C%20%D0%BA%D1%83%D0%B4%D0%B0%20%D1%81%D1%82%D1%80%D0%B5%D0%BC%D0%B8%D1%82%D1%8C%D1%81%D1%8F%20%D0%A0%D0%B0%D0%B1%D0%BE%D1%82%D0%B0%D0%B5%D1%82,%20%D0%BD%D0%BE%20%D0%BC%D0%B5%D1%81%D1%82%D0%B0%D0%BC%D0%B8%20%D1%82%D0%BE%D1%80%D0%BC%D0%BE%D0%B7%D0%B8%D1%82,%20%D0%B2%D0%BE%D1%82%20%D1%82%D0%B0%D0%BA HTTP/1.1\u001b[0m\" 200 -\n",
      "192.168.88.112 - - [13/Dec/2017 17:48:16] \"\u001b[37mGET /predict2/%D0%95%D1%81%D1%82%D1%8C%20%D0%BA%D1%83%D0%B4%D0%B0%20%D1%81%D1%82%D1%80%D0%B5%D0%BC%D0%B8%D1%82%D1%8C%D1%81%D1%8F%20%D0%A0%D0%B0%D0%B1%D0%BE%D1%82%D0%B0%D0%B5%D1%82,%20%D0%BD%D0%BE%20%D0%BC%D0%B5%D1%81%D1%82%D0%B0%D0%BC%D0%B8%20%D1%82%D0%BE%D1%80%D0%BC%D0%BE%D0%B7%D0%B8%D1%82,%20%D0%B2%D0%BE%D1%82%20%D1%82%D0%B0%D0%BA HTTP/1.1\u001b[0m\" 200 -\n"
     ]
    },
    {
     "name": "stdout",
     "output_type": "stream",
     "text": [
      "Есть куда стремиться Работает, но местами тормозит, вот так\n"
     ]
    },
    {
     "name": "stderr",
     "output_type": "stream",
     "text": [
      "192.168.88.112 - - [13/Dec/2017 17:48:16] \"\u001b[37mGET /predict/%D0%95%D1%81%D1%82%D1%8C%20%D0%BA%D1%83%D0%B4%D0%B0%20%D1%81%D1%82%D1%80%D0%B5%D0%BC%D0%B8%D1%82%D1%8C%D1%81%D1%8F%20%D0%A0%D0%B0%D0%B1%D0%BE%D1%82%D0%B0%D0%B5%D1%82,%20%D0%BD%D0%BE%20%D0%BC%D0%B5%D1%81%D1%82%D0%B0%D0%BC%D0%B8%20%D1%82%D0%BE%D1%80%D0%BC%D0%BE%D0%B7%D0%B8%D1%82,%20%D0%B2%D0%BE%D1%82%20%D1%82%D0%B0%D0%BA. HTTP/1.1\u001b[0m\" 200 -\n",
      "192.168.88.112 - - [13/Dec/2017 17:48:16] \"\u001b[37mGET /predict2/%D0%95%D1%81%D1%82%D1%8C%20%D0%BA%D1%83%D0%B4%D0%B0%20%D1%81%D1%82%D1%80%D0%B5%D0%BC%D0%B8%D1%82%D1%8C%D1%81%D1%8F%20%D0%A0%D0%B0%D0%B1%D0%BE%D1%82%D0%B0%D0%B5%D1%82,%20%D0%BD%D0%BE%20%D0%BC%D0%B5%D1%81%D1%82%D0%B0%D0%BC%D0%B8%20%D1%82%D0%BE%D1%80%D0%BC%D0%BE%D0%B7%D0%B8%D1%82,%20%D0%B2%D0%BE%D1%82%20%D1%82%D0%B0%D0%BA. HTTP/1.1\u001b[0m\" 200 -\n"
     ]
    },
    {
     "name": "stdout",
     "output_type": "stream",
     "text": [
      "Есть куда стремиться Работает, но местами тормозит, вот так.\n"
     ]
    },
    {
     "name": "stderr",
     "output_type": "stream",
     "text": [
      "192.168.88.112 - - [13/Dec/2017 17:48:19] \"\u001b[37mGET /predict/%D0%95%D1%81%D1%82%D1%8C%20%D0%BA%D1%83%D0%B4%D0%B0%20%D1%81%D1%82%D1%80%D0%B5%D0%BC%D0%B8%D1%82%D1%8C%D1%81%D1%8F%20%D0%A0%D0%B0%D0%B1%D0%BE%D1%82%D0%B0%D0%B5%D1%82,%20%D0%BD%D0%BE%20%D0%BC%D0%B5%D1%81%D1%82%D0%B0%D0%BC%D0%B8%20%D1%82%D0%BE%D1%80%D0%BC%D0%BE%D0%B7%D0%B8%D1%82, HTTP/1.1\u001b[0m\" 200 -\n",
      "192.168.88.112 - - [13/Dec/2017 17:48:19] \"\u001b[37mGET /predict2/%D0%95%D1%81%D1%82%D1%8C%20%D0%BA%D1%83%D0%B4%D0%B0%20%D1%81%D1%82%D1%80%D0%B5%D0%BC%D0%B8%D1%82%D1%8C%D1%81%D1%8F%20%D0%A0%D0%B0%D0%B1%D0%BE%D1%82%D0%B0%D0%B5%D1%82,%20%D0%BD%D0%BE%20%D0%BC%D0%B5%D1%81%D1%82%D0%B0%D0%BC%D0%B8%20%D1%82%D0%BE%D1%80%D0%BC%D0%BE%D0%B7%D0%B8%D1%82, HTTP/1.1\u001b[0m\" 200 -\n"
     ]
    },
    {
     "name": "stdout",
     "output_type": "stream",
     "text": [
      "Есть куда стремиться Работает, но местами тормозит,\n"
     ]
    },
    {
     "name": "stderr",
     "output_type": "stream",
     "text": [
      "192.168.88.112 - - [13/Dec/2017 17:48:23] \"\u001b[37mGET /predict/%D0%95%D1%81%D1%82%D1%8C%20%D0%BA%D1%83%D0%B4%D0%B0%20%D1%81%D1%82%D1%80%D0%B5%D0%BC%D0%B8%D1%82%D1%8C%D1%81%D1%8F%20%D0%A0%D0%B0%D0%B1%D0%BE%D1%82%D0%B0%D0%B5%D1%82,%20%D0%BD%D0%BE%20%D0%BC%D0%B5%D1%81%D1%82%D0%B0%D0%BC%D0%B8%20%D1%82%D0%BE%D1%80%D0%BC%D0%BE%D0%B7%D0%B8%D1%82 HTTP/1.1\u001b[0m\" 200 -\n",
      "192.168.88.112 - - [13/Dec/2017 17:48:23] \"\u001b[37mGET /predict2/%D0%95%D1%81%D1%82%D1%8C%20%D0%BA%D1%83%D0%B4%D0%B0%20%D1%81%D1%82%D1%80%D0%B5%D0%BC%D0%B8%D1%82%D1%8C%D1%81%D1%8F%20%D0%A0%D0%B0%D0%B1%D0%BE%D1%82%D0%B0%D0%B5%D1%82,%20%D0%BD%D0%BE%20%D0%BC%D0%B5%D1%81%D1%82%D0%B0%D0%BC%D0%B8%20%D1%82%D0%BE%D1%80%D0%BC%D0%BE%D0%B7%D0%B8%D1%82 HTTP/1.1\u001b[0m\" 200 -\n"
     ]
    },
    {
     "name": "stdout",
     "output_type": "stream",
     "text": [
      "Есть куда стремиться Работает, но местами тормозит\n"
     ]
    },
    {
     "name": "stderr",
     "output_type": "stream",
     "text": [
      "192.168.88.112 - - [13/Dec/2017 17:48:31] \"\u001b[37mGET /predict/%D0%A3%D0%B6%D0%B0%D1%81%D0%BD%D0%BE%20%D0%98%D1%81%D0%BF HTTP/1.1\u001b[0m\" 200 -\n",
      "192.168.88.112 - - [13/Dec/2017 17:48:31] \"\u001b[37mGET /predict2/%D0%A3%D0%B6%D0%B0%D1%81%D0%BD%D0%BE%20%D0%98%D1%81%D0%BF HTTP/1.1\u001b[0m\" 200 -\n"
     ]
    },
    {
     "name": "stdout",
     "output_type": "stream",
     "text": [
      "Ужасно Исп\n"
     ]
    },
    {
     "name": "stderr",
     "output_type": "stream",
     "text": [
      "192.168.88.112 - - [13/Dec/2017 17:48:32] \"\u001b[37mGET /predict/%D0%A3%D0%B6%D0%B0%D1%81%D0%BD%D0%BE%20%D0%98%D1%81%D0%BF%D1%80%D0%B0%D0%B2%D1%8C%D1%82%D0%B5 HTTP/1.1\u001b[0m\" 200 -\n",
      "192.168.88.112 - - [13/Dec/2017 17:48:32] \"\u001b[37mGET /predict2/%D0%A3%D0%B6%D0%B0%D1%81%D0%BD%D0%BE%20%D0%98%D1%81%D0%BF%D1%80%D0%B0%D0%B2%D1%8C%D1%82%D0%B5 HTTP/1.1\u001b[0m\" 200 -\n"
     ]
    },
    {
     "name": "stdout",
     "output_type": "stream",
     "text": [
      "Ужасно Исправьте\n"
     ]
    },
    {
     "name": "stderr",
     "output_type": "stream",
     "text": [
      "192.168.88.112 - - [13/Dec/2017 17:48:38] \"\u001b[37mGET /predict/%D0%A3%D0%B6%D0%B0%D1%81%D0%BD%D0%BE%20%D0%98%D1%81%D0%BF%D1%80%D0%B0%D0%B2%D1%8C%D1%82 HTTP/1.1\u001b[0m\" 200 -\n",
      "192.168.88.112 - - [13/Dec/2017 17:48:38] \"\u001b[37mGET /predict2/%D0%A3%D0%B6%D0%B0%D1%81%D0%BD%D0%BE%20%D0%98%D1%81%D0%BF%D1%80%D0%B0%D0%B2%D1%8C%D1%82 HTTP/1.1\u001b[0m\" 200 -\n"
     ]
    },
    {
     "name": "stdout",
     "output_type": "stream",
     "text": [
      "Ужасно Исправьт\n"
     ]
    },
    {
     "name": "stderr",
     "output_type": "stream",
     "text": [
      "192.168.88.112 - - [13/Dec/2017 17:48:41] \"\u001b[37mGET /predict/%D0%A3%D0%B6%D0%B0%D1%81%D0%BD%D0%BE%20%D0%9C%D0%BD%D0%B5%20%D0%BD%D0%B5%20%D0%BD%D1%80%D0%B0%D0%B2%D0%B8%D1%82%D1%81%D1%8F HTTP/1.1\u001b[0m\" 200 -\n",
      "192.168.88.112 - - [13/Dec/2017 17:48:41] \"\u001b[37mGET /predict2/%D0%A3%D0%B6%D0%B0%D1%81%D0%BD%D0%BE%20%D0%9C%D0%BD%D0%B5%20%D0%BD%D0%B5%20%D0%BD%D1%80%D0%B0%D0%B2%D0%B8%D1%82%D1%81%D1%8F HTTP/1.1\u001b[0m\" 200 -\n"
     ]
    },
    {
     "name": "stdout",
     "output_type": "stream",
     "text": [
      "Ужасно Мне не нравится\n"
     ]
    },
    {
     "name": "stderr",
     "output_type": "stream",
     "text": [
      "192.168.88.112 - - [13/Dec/2017 17:48:41] \"\u001b[37mGET /predict/%D0%A3%D0%B6%D0%B0%D1%81%D0%BD%D0%BE%20%D0%9C%D0%BD%D0%B5%20%D0%BD%D0%B5%20%D0%BD%D1%80%D0%B0%D0%B2%D0%B8%D1%82%D1%81%D1%8F! HTTP/1.1\u001b[0m\" 200 -\n",
      "192.168.88.112 - - [13/Dec/2017 17:48:41] \"\u001b[37mGET /predict2/%D0%A3%D0%B6%D0%B0%D1%81%D0%BD%D0%BE%20%D0%9C%D0%BD%D0%B5%20%D0%BD%D0%B5%20%D0%BD%D1%80%D0%B0%D0%B2%D0%B8%D1%82%D1%81%D1%8F! HTTP/1.1\u001b[0m\" 200 -\n"
     ]
    },
    {
     "name": "stdout",
     "output_type": "stream",
     "text": [
      "Ужасно Мне не нравится!\n"
     ]
    }
   ],
   "source": [
    "app = Flask(\"demo\")\n",
    "@app.route('/')\n",
    "def index():\n",
    "    return (\"Prediction model\")\n",
    "\n",
    "@app.route('/predict/<text>')\n",
    "def predict(text):\n",
    "    print(text)\n",
    "    js = {}\n",
    "    \n",
    "    text = preprocess(text)\n",
    "    \n",
    "    vec = tokenizer.texts_to_sequences([text])\n",
    "    \n",
    "    pad = pad_sequences(list(vec), maxlen)\n",
    "    pred = model.predict([pad])[0]\n",
    "    \n",
    "    prob = np.max(pred)\n",
    "    \n",
    "    pred = np.argmax(pred)\n",
    "    pred = pred + 1\n",
    "    \n",
    "    activations = get_activations(model,pad,layer_name='attention_with_context_1')\n",
    "    \n",
    "    for i,value in enumerate(pad[0]):\n",
    "        if value != 0:\n",
    "            new_i = i\n",
    "            new = pad[0][i:]\n",
    "            activations = activations[0][0][new_i:]\n",
    "            break\n",
    "    \n",
    "    if pad[0][-1] == 0:\n",
    "        js['prob'] = 0\n",
    "        js['class'] = 0\n",
    "        js['words'] = [{\n",
    "            \"value\": 'Unknown',\n",
    "            \"color\": '#8EFF8E'\n",
    "        }]\n",
    "    else:\n",
    "        sentence = [dictionary[word] for word in new]\n",
    "        jswords = []\n",
    "            \n",
    "        if pred == 5: \n",
    "            for i, word in enumerate(sentence):\n",
    "                jswords.append({\n",
    "                    \"value\": word,\n",
    "                    \"color\": '#FFFFFF'\n",
    "                })\n",
    "                jswords.append({\n",
    "                    \"value\": ' ',\n",
    "                    \"color\": '#FFFFFF'\n",
    "                })\n",
    "        else:\n",
    "            \n",
    "            for i, word in enumerate(sentence):\n",
    "                coef = activations[i] * 255 // 1\n",
    "                if coef  > 235:\n",
    "                    coef = str('#FF' + '0' + hex(255 - int(coef))[2:].upper() + '0' + hex(255 - int(coef))[2:].upper()) \n",
    "                else:\n",
    "                    coef = str('#FF' + hex(255 - int(coef))[2:].upper() + hex(255 - int(coef))[2:].upper())\n",
    "                jswords.append({\n",
    "                    \"value\": word,\n",
    "                    \"color\": coef\n",
    "                })\n",
    "                jswords.append({\n",
    "                    \"value\": ' ',\n",
    "                    \"color\": '#FFFFFF'\n",
    "                })\n",
    "\n",
    "        js['prob'] = float(prob)\n",
    "        js['class'] = int(pred)\n",
    "        js['words'] = jswords\n",
    "    \n",
    "    return(json.dumps(js,ensure_ascii=False))\n",
    "\n",
    "\n",
    "@app.route('/predict2/<text>')\n",
    "def predict2(text):\n",
    "    js = {}\n",
    "    \n",
    "    text = preprocess(text)\n",
    "    \n",
    "    vec = vectorizer.transform([text])\n",
    "    pred = ridge.predict(vec)[0]\n",
    "    \n",
    "    js['class'] = int(pred)\n",
    "    js['words'] = text\n",
    "    \n",
    "    return(json.dumps(js,ensure_ascii=False))\n",
    "\n",
    "app.run(host=\"0.0.0.0\", port=\"9000\")"
   ]
  },
  {
   "cell_type": "code",
   "execution_count": null,
   "metadata": {
    "collapsed": true
   },
   "outputs": [],
   "source": []
  }
 ],
 "metadata": {
  "kernelspec": {
   "display_name": "Python 3",
   "language": "python",
   "name": "python3"
  },
  "language_info": {
   "codemirror_mode": {
    "name": "ipython",
    "version": 3
   },
   "file_extension": ".py",
   "mimetype": "text/x-python",
   "name": "python",
   "nbconvert_exporter": "python",
   "pygments_lexer": "ipython3",
   "version": "3.6.2"
  }
 },
 "nbformat": 4,
 "nbformat_minor": 2
}
