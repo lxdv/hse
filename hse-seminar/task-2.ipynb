{
 "cells": [
  {
   "cell_type": "markdown",
   "metadata": {},
   "source": [
    "# Task-2\n",
    "### CNN Network in MNIST"
   ]
  },
  {
   "cell_type": "code",
   "execution_count": 1,
   "metadata": {},
   "outputs": [],
   "source": [
    "import argparse\n",
    "import torch\n",
    "import torch.nn as nn\n",
    "import torch.nn.functional as F\n",
    "import torch.optim as optim\n",
    "\n",
    "from torchvision import datasets, transforms"
   ]
  },
  {
   "cell_type": "markdown",
   "metadata": {},
   "source": [
    "## 1. Define Network"
   ]
  },
  {
   "cell_type": "code",
   "execution_count": 2,
   "metadata": {},
   "outputs": [],
   "source": [
    "class CNN(nn.Module):\n",
    "    def __init__(self):\n",
    "        super(CNN, self).__init__()\n",
    "        self.conv1 = nn.Conv2d(1, 10, 5)\n",
    "        self.conv2 = nn.Conv2d(10, 35, 3)\n",
    "        self.fc1 = nn.Linear(35 * 5 * 5, 100)\n",
    "        self.fc2 = nn.Linear(100, 10)\n",
    "\n",
    "    def forward(self, x):\n",
    "        x = F.max_pool2d(F.relu(self.conv1(x)),2)\n",
    "        x = F.max_pool2d(F.relu(self.conv2(x)),2)\n",
    "        x = x.view(-1, 35*5*5)\n",
    "        x = F.relu(self.fc1(x))\n",
    "        x = self.fc2(x)\n",
    "        return x"
   ]
  },
  {
   "cell_type": "markdown",
   "metadata": {},
   "source": [
    "## 2. Define training loop"
   ]
  },
  {
   "cell_type": "code",
   "execution_count": 3,
   "metadata": {},
   "outputs": [],
   "source": [
    "def train(model, device, train_loader, optimizer, epoch):\n",
    "    model.train()\n",
    "    for batch_idx, (data, target) in enumerate(train_loader):\n",
    "        data, target = data.to(device), target.to(device)\n",
    "        optimizer.zero_grad()\n",
    "        output = model(data)\n",
    "        loss = criterion(output, target)\n",
    "        loss.backward()\n",
    "        optimizer.step()\n",
    "        if (batch_idx + 1) % len(train_loader) == 0:\n",
    "            print('Train Epoch: {} [{}/{} ({:.0f}%)]\\tLoss: {:.6f}'.format(\n",
    "                epoch, batch_idx , len(train_loader),\n",
    "                100. * batch_idx / len(train_loader), loss.item()))\n",
    "\n",
    "def test(model, device, test_loader):\n",
    "    model.eval()\n",
    "    test_loss = 0\n",
    "    correct = 0\n",
    "    with torch.no_grad():\n",
    "        for data, target in test_loader:\n",
    "            data, target = data.to(device), target.to(device)\n",
    "            output = model(data)\n",
    "            test_loss += criterion(output, target).item()\n",
    "            pred = output.argmax(dim=1, keepdim=True)\n",
    "            correct += pred.eq(target.view_as(pred)).sum().item()\n",
    "\n",
    "    test_loss /= len(test_loader.dataset)\n",
    "\n",
    "    print('Test set: Accuracy: {}/{} ({:.2f}%)\\n'.format(\n",
    "        correct, len(test_loader.dataset),\n",
    "        100. * correct / len(test_loader.dataset)))"
   ]
  },
  {
   "cell_type": "markdown",
   "metadata": {},
   "source": [
    "## 3. Model parameters"
   ]
  },
  {
   "cell_type": "code",
   "execution_count": 12,
   "metadata": {},
   "outputs": [],
   "source": [
    "batch_size = 1024\n",
    "epochs = 10\n",
    "lr = 0.01\n",
    "\n",
    "seed = 1\n",
    "device='cuda'"
   ]
  },
  {
   "cell_type": "markdown",
   "metadata": {},
   "source": [
    "## 4. Define model"
   ]
  },
  {
   "cell_type": "code",
   "execution_count": 13,
   "metadata": {},
   "outputs": [],
   "source": [
    "model = CNN().to(device)\n",
    "optimizer = optim.Adam(model.parameters(), lr=lr)\n",
    "criterion = nn.CrossEntropyLoss()"
   ]
  },
  {
   "cell_type": "markdown",
   "metadata": {},
   "source": [
    "## 5. Build train / test dataloaders"
   ]
  },
  {
   "cell_type": "code",
   "execution_count": 7,
   "metadata": {},
   "outputs": [],
   "source": [
    "dataset_train = datasets.MNIST('./data', train=True, download=True,\n",
    "                       transform=transforms.Compose([\n",
    "                           transforms.ToTensor()\n",
    "                       ]))\n",
    "\n",
    "dataset_test = datasets.MNIST('./data', train=False, download=True,\n",
    "                       transform=transforms.Compose([\n",
    "                           transforms.ToTensor()\n",
    "                       ]))\n",
    "\n",
    "train_loader = torch.utils.data.DataLoader(dataset_train, batch_size=batch_size, shuffle=True)\n",
    "test_loader = torch.utils.data.DataLoader(dataset_test, batch_size=batch_size, shuffle=False)"
   ]
  },
  {
   "cell_type": "markdown",
   "metadata": {},
   "source": [
    "## 6. Training"
   ]
  },
  {
   "cell_type": "code",
   "execution_count": 16,
   "metadata": {},
   "outputs": [
    {
     "name": "stdout",
     "output_type": "stream",
     "text": [
      "Train Epoch: 1 [58/59 (98%)]\tLoss: 0.009671\n",
      "Test set: Accuracy: 9898/10000 (98.98%)\n",
      "\n",
      "Train Epoch: 2 [58/59 (98%)]\tLoss: 0.005413\n",
      "Test set: Accuracy: 9905/10000 (99.05%)\n",
      "\n",
      "Train Epoch: 3 [58/59 (98%)]\tLoss: 0.004617\n",
      "Test set: Accuracy: 9891/10000 (98.91%)\n",
      "\n",
      "Train Epoch: 4 [58/59 (98%)]\tLoss: 0.006089\n",
      "Test set: Accuracy: 9892/10000 (98.92%)\n",
      "\n",
      "Train Epoch: 5 [58/59 (98%)]\tLoss: 0.017811\n",
      "Test set: Accuracy: 9890/10000 (98.90%)\n",
      "\n",
      "Train Epoch: 6 [58/59 (98%)]\tLoss: 0.007367\n",
      "Test set: Accuracy: 9893/10000 (98.93%)\n",
      "\n",
      "Train Epoch: 7 [58/59 (98%)]\tLoss: 0.001014\n",
      "Test set: Accuracy: 9889/10000 (98.89%)\n",
      "\n",
      "Train Epoch: 8 [58/59 (98%)]\tLoss: 0.000972\n",
      "Test set: Accuracy: 9905/10000 (99.05%)\n",
      "\n",
      "Train Epoch: 9 [58/59 (98%)]\tLoss: 0.004882\n",
      "Test set: Accuracy: 9897/10000 (98.97%)\n",
      "\n",
      "Train Epoch: 10 [58/59 (98%)]\tLoss: 0.007279\n",
      "Test set: Accuracy: 9914/10000 (99.14%)\n",
      "\n"
     ]
    }
   ],
   "source": [
    "for epoch in range(1, epochs + 1):\n",
    "    train(model, device, train_loader, optimizer, epoch)\n",
    "    test(model, device, test_loader)"
   ]
  },
  {
   "cell_type": "markdown",
   "metadata": {},
   "source": [
    "## 7. Results\n",
    "\n",
    "https://docs.google.com/spreadsheets/d/1QjyQDkaD11UtiPWjT5aQKG5mX5eC6Yf9o2NdkGmOMos/edit?usp=sharing"
   ]
  },
  {
   "cell_type": "markdown",
   "metadata": {},
   "source": [
    "|  optimizer | epochs_max | layers | batch_size | best_acc |\n",
    "| --- | --- | --- | --- | --- |\n",
    "|  ADAM (0.01) | 10 | conv(10x5x5) -> relu -> maxpool(2x2) -> conv(30x3x3) > relu -> maxpool(2x2) -> fc(100) -> fc(10) | 16 | 97,03 |\n",
    "|  ADAM (0.01) | 10 | conv(10x5x5) -> relu -> maxpool(2x2) -> conv(30x3x3) > relu -> maxpool(2x2) -> fc(100) -> fc(10) | 32 | 98,11 |\n",
    "|  ADAM (0.01) | 10 | conv(10x5x5) -> relu -> maxpool(2x2) -> conv(30x3x3) > relu -> maxpool(2x2) -> fc(100) -> fc(10) | 64 | 98,55 |\n",
    "|  ADAM (0.01) | 10 | conv(10x5x5) -> relu -> maxpool(2x2) -> conv(30x3x3) > relu -> maxpool(2x2) -> fc(100) -> fc(10) | 128 | 98,87 |\n",
    "|  ADAM (0.01) | 10 | conv(10x5x5) -> relu -> maxpool(2x2) -> conv(30x3x3) > relu -> maxpool(2x2) -> fc(100) -> fc(10) | 256 | 99,05 |\n",
    "|  ADAM (0.01) | 10 | conv(10x5x5) -> relu -> maxpool(2x2) -> conv(30x3x3) > relu -> maxpool(2x2) -> fc(100) -> fc(10) | 512 | 99,06 |\n",
    "|  ADAM (0.01) | 10 | conv(10x5x5) -> relu -> maxpool(2x2) -> conv(30x3x3) > relu -> maxpool(2x2) -> fc(100) -> fc(10) | 1024 | 99,23 |\n",
    "|  SGD (0.01) | 250 | conv(10x5x5) -> relu -> maxpool(2x2) -> conv(30x3x3) > relu -> maxpool(2x2) -> fc(100) -> fc(10) | 1024 | 98,23 |\n",
    "|  SGD (0.001) start from exp000 | 30 | conv(10x5x5) -> relu -> maxpool(2x2) -> conv(30x3x3) > relu -> maxpool(2x2) -> fc(100) -> fc(10) | 1024 | 99,23 |\n",
    "|  SGD (0.0001) start from exp000 | 30 | conv(10x5x5) -> relu -> maxpool(2x2) -> conv(30x3x3) > relu -> maxpool(2x2) -> fc(100) -> fc(10) | 1024 | **99,23** |"
   ]
  }
 ],
 "metadata": {
  "kernelspec": {
   "display_name": "Python 3",
   "language": "python",
   "name": "python3"
  },
  "language_info": {
   "codemirror_mode": {
    "name": "ipython",
    "version": 3
   },
   "file_extension": ".py",
   "mimetype": "text/x-python",
   "name": "python",
   "nbconvert_exporter": "python",
   "pygments_lexer": "ipython3",
   "version": "3.6.7"
  }
 },
 "nbformat": 4,
 "nbformat_minor": 2
}
