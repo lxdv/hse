{
 "cells": [
  {
   "cell_type": "code",
   "execution_count": 46,
   "metadata": {},
   "outputs": [],
   "source": [
    "import pandas as pd\n",
    "import numpy as np\n",
    "import json\n",
    "\n",
    "from sklearn.feature_extraction.text import TfidfVectorizer\n",
    "from sklearn.model_selection import train_test_split\n",
    "from sklearn.metrics import classification_report\n",
    "\n",
    "from sklearn.linear_model import LogisticRegression\n",
    "from sklearn.svm import SVC\n",
    "from sklearn.ensemble import RandomForestClassifier\n",
    "from sklearn.ensemble import GradientBoostingClassifier\n",
    "from sklearn.ensemble import VotingClassifier\n",
    "\n",
    "from sklearn.feature_selection import SelectFromModel"
   ]
  },
  {
   "cell_type": "code",
   "execution_count": 2,
   "metadata": {},
   "outputs": [],
   "source": [
    "data = []\n",
    "with open('../hw-1-parser/output/rambler-news.json') as file:\n",
    "    for line in file:\n",
    "        data.append(json.loads(line))\n",
    "\n",
    "data = pd.DataFrame(data)"
   ]
  },
  {
   "cell_type": "code",
   "execution_count": 3,
   "metadata": {},
   "outputs": [],
   "source": [
    "vectorizer = TfidfVectorizer()\n",
    "\n",
    "X = vectorizer.fit_transform(data['text'])\n",
    "y = data['category']"
   ]
  },
  {
   "cell_type": "code",
   "execution_count": 4,
   "metadata": {},
   "outputs": [],
   "source": [
    "X_train, X_test, y_train, y_test = train_test_split(X, y, test_size = 0.33)"
   ]
  },
  {
   "cell_type": "code",
   "execution_count": 5,
   "metadata": {},
   "outputs": [
    {
     "name": "stdout",
     "output_type": "stream",
     "text": [
      "             precision    recall  f1-score   support\n",
      "\n",
      "  economics       0.71      0.68      0.70       119\n",
      "  incidents       0.89      0.92      0.90       120\n",
      "   politics       0.81      0.87      0.84       126\n",
      "     realty       0.78      0.73      0.75       128\n",
      "\n",
      "avg / total       0.80      0.80      0.80       493\n",
      "\n"
     ]
    }
   ],
   "source": [
    "model = LogisticRegression()\n",
    "model.fit(X_train, y_train)\n",
    "predictions = model.predict(X_test)\n",
    "print(classification_report(y_test, predictions, target_names=np.unique(y)))"
   ]
  },
  {
   "cell_type": "code",
   "execution_count": 20,
   "metadata": {},
   "outputs": [
    {
     "name": "stdout",
     "output_type": "stream",
     "text": [
      "             precision    recall  f1-score   support\n",
      "\n",
      "  economics       0.69      0.71      0.70       119\n",
      "  incidents       0.93      0.93      0.93       120\n",
      "   politics       0.83      0.86      0.84       126\n",
      "     realty       0.78      0.73      0.75       128\n",
      "\n",
      "avg / total       0.81      0.81      0.81       493\n",
      "\n"
     ]
    }
   ],
   "source": [
    "model = SVC(kernel='linear')\n",
    "model.fit(X_train, y_train)\n",
    "predictions = model.predict(X_test)\n",
    "print(classification_report(y_test, predictions, target_names=np.unique(y)))"
   ]
  },
  {
   "cell_type": "code",
   "execution_count": 7,
   "metadata": {},
   "outputs": [
    {
     "name": "stdout",
     "output_type": "stream",
     "text": [
      "             precision    recall  f1-score   support\n",
      "\n",
      "  economics       0.53      0.61      0.57       119\n",
      "  incidents       0.84      0.88      0.86       120\n",
      "   politics       0.78      0.77      0.78       126\n",
      "     realty       0.70      0.58      0.63       128\n",
      "\n",
      "avg / total       0.71      0.71      0.71       493\n",
      "\n"
     ]
    }
   ],
   "source": [
    "model = RandomForestClassifier()\n",
    "model.fit(X_train, y_train)\n",
    "predictions = model.predict(X_test)\n",
    "print(classification_report(y_test, predictions, target_names=np.unique(y)))"
   ]
  },
  {
   "cell_type": "code",
   "execution_count": 8,
   "metadata": {},
   "outputs": [
    {
     "name": "stdout",
     "output_type": "stream",
     "text": [
      "             precision    recall  f1-score   support\n",
      "\n",
      "  economics       0.55      0.67      0.61       119\n",
      "  incidents       0.92      0.82      0.87       120\n",
      "   politics       0.82      0.81      0.82       126\n",
      "     realty       0.76      0.69      0.72       128\n",
      "\n",
      "avg / total       0.76      0.75      0.75       493\n",
      "\n"
     ]
    }
   ],
   "source": [
    "model = GradientBoostingClassifier()\n",
    "model.fit(X_train, y_train)\n",
    "predictions = model.predict(X_test)\n",
    "print(classification_report(y_test, predictions, target_names=np.unique(y)))"
   ]
  },
  {
   "cell_type": "code",
   "execution_count": 72,
   "metadata": {},
   "outputs": [
    {
     "name": "stdout",
     "output_type": "stream",
     "text": [
      "             precision    recall  f1-score   support\n",
      "\n",
      "  economics       0.64      0.67      0.66       119\n",
      "  incidents       0.88      0.91      0.89       120\n",
      "   politics       0.83      0.83      0.83       126\n",
      "     realty       0.76      0.70      0.73       128\n",
      "\n",
      "avg / total       0.78      0.78      0.78       493\n",
      "\n"
     ]
    },
    {
     "name": "stderr",
     "output_type": "stream",
     "text": [
      "/Users/lxdv/anaconda3/lib/python3.6/site-packages/sklearn/preprocessing/label.py:151: DeprecationWarning: The truth value of an empty array is ambiguous. Returning False, but in future this will result in an error. Use `array.size > 0` to check that an array is not empty.\n",
      "  if diff:\n"
     ]
    }
   ],
   "source": [
    "voting = VotingClassifier(\n",
    "    estimators = [('lr', LogisticRegression()), \n",
    "                  ('rf', RandomForestClassifier()),\n",
    "                  ('gb',GradientBoostingClassifier())],\n",
    "    voting='hard', n_jobs=-1)\n",
    "\n",
    "voting.fit(X_train, y_train)\n",
    "predictions = voting.predict(X_test)\n",
    "print(classification_report(y_test, predictions, target_names=np.unique(y)))"
   ]
  },
  {
   "cell_type": "code",
   "execution_count": 73,
   "metadata": {},
   "outputs": [
    {
     "name": "stdout",
     "output_type": "stream",
     "text": [
      "             precision    recall  f1-score   support\n",
      "\n",
      "  economics       0.63      0.64      0.64       119\n",
      "  incidents       0.90      0.90      0.90       120\n",
      "   politics       0.80      0.83      0.81       126\n",
      "     realty       0.77      0.73      0.75       128\n",
      "\n",
      "avg / total       0.77      0.77      0.77       493\n",
      "\n"
     ]
    },
    {
     "name": "stderr",
     "output_type": "stream",
     "text": [
      "/Users/lxdv/anaconda3/lib/python3.6/site-packages/sklearn/preprocessing/label.py:151: DeprecationWarning: The truth value of an empty array is ambiguous. Returning False, but in future this will result in an error. Use `array.size > 0` to check that an array is not empty.\n",
      "  if diff:\n"
     ]
    }
   ],
   "source": [
    "voting = VotingClassifier(\n",
    "    estimators = [('lr', LogisticRegression()), \n",
    "                  ('rf', RandomForestClassifier()),\n",
    "                  ('gb',GradientBoostingClassifier())],\n",
    "    voting='soft', n_jobs=-1)\n",
    "\n",
    "voting.fit(X_train, y_train)\n",
    "predictions = voting.predict(X_test)\n",
    "print(classification_report(y_test, predictions, target_names=np.unique(y)))"
   ]
  },
  {
   "cell_type": "code",
   "execution_count": 77,
   "metadata": {},
   "outputs": [],
   "source": [
    "rf = RandomForestClassifier(n_estimators=100).fit(X_train,y_train)\n",
    "model = SelectFromModel(rf, prefit=True)\n",
    "X_train_new = model.transform(X_train)\n",
    "X_test_new = model.transform(X_test)"
   ]
  },
  {
   "cell_type": "code",
   "execution_count": 78,
   "metadata": {},
   "outputs": [
    {
     "name": "stdout",
     "output_type": "stream",
     "text": [
      "             precision    recall  f1-score   support\n",
      "\n",
      "  economics       0.74      0.68      0.71       119\n",
      "  incidents       0.87      0.91      0.89       120\n",
      "   politics       0.78      0.87      0.82       126\n",
      "     realty       0.79      0.72      0.75       128\n",
      "\n",
      "avg / total       0.79      0.80      0.79       493\n",
      "\n",
      "             precision    recall  f1-score   support\n",
      "\n",
      "  economics       0.70      0.71      0.71       119\n",
      "  incidents       0.91      0.92      0.91       120\n",
      "   politics       0.81      0.87      0.84       126\n",
      "     realty       0.81      0.73      0.77       128\n",
      "\n",
      "avg / total       0.81      0.81      0.81       493\n",
      "\n",
      "             precision    recall  f1-score   support\n",
      "\n",
      "  economics       0.53      0.66      0.58       119\n",
      "  incidents       0.92      0.82      0.86       120\n",
      "   politics       0.80      0.79      0.80       126\n",
      "     realty       0.74      0.66      0.70       128\n",
      "\n",
      "avg / total       0.75      0.73      0.74       493\n",
      "\n"
     ]
    }
   ],
   "source": [
    "model = LogisticRegression()\n",
    "model.fit(X_train_new, y_train)\n",
    "predictions = model.predict(X_test_new)\n",
    "print(classification_report(y_test, predictions, target_names=np.unique(y)))\n",
    "\n",
    "model = SVC(kernel='linear')\n",
    "model.fit(X_train_new, y_train)\n",
    "predictions = model.predict(X_test_new)\n",
    "print(classification_report(y_test, predictions, target_names=np.unique(y)))\n",
    "\n",
    "model = GradientBoostingClassifier()\n",
    "model.fit(X_train_new, y_train)\n",
    "predictions = model.predict(X_test_new)\n",
    "print(classification_report(y_test, predictions, target_names=np.unique(y)))"
   ]
  }
 ],
 "metadata": {
  "kernelspec": {
   "display_name": "Python 3",
   "language": "python",
   "name": "python3"
  },
  "language_info": {
   "codemirror_mode": {
    "name": "ipython",
    "version": 3
   },
   "file_extension": ".py",
   "mimetype": "text/x-python",
   "name": "python",
   "nbconvert_exporter": "python",
   "pygments_lexer": "ipython3",
   "version": "3.6.4"
  }
 },
 "nbformat": 4,
 "nbformat_minor": 2
}
