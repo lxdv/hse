{
 "cells": [
  {
   "cell_type": "markdown",
   "metadata": {},
   "source": [
    "`pip3 install -r requirements.txt`  \n",
    "\n",
    "Don't forget to install **[Chrome Driver](https://sites.google.com/a/chromium.org/chromedriver/downloads)**"
   ]
  },
  {
   "cell_type": "code",
   "execution_count": 3,
   "metadata": {},
   "outputs": [],
   "source": [
    "from selenium.webdriver import Chrome\n",
    "from selenium.webdriver.chrome.options import Options\n",
    "\n",
    "from time import sleep\n",
    "import tqdm\n",
    "import json\n",
    "\n",
    "import requests\n",
    "from bs4 import BeautifulSoup\n",
    "from html2text import html2text\n",
    "\n",
    "import pandas as pd\n",
    "\n",
    "from sklearn.feature_extraction.text import CountVectorizer\n",
    "\n",
    "from src import json2xml"
   ]
  },
  {
   "cell_type": "markdown",
   "metadata": {},
   "source": [
    "## 1. Парсинг URL адресов с новостями (Selenium)"
   ]
  },
  {
   "cell_type": "markdown",
   "metadata": {},
   "source": [
    "- Run Chrome with Adblock and some preferences"
   ]
  },
  {
   "cell_type": "code",
   "execution_count": 5,
   "metadata": {},
   "outputs": [],
   "source": [
    "prefs = {\"profile.managed_default_content_settings.images\": 2,\n",
    "         \"profile.default_content_settings.cookies\": 2}\n",
    "chrome_options = Options()\n",
    "chrome_options.add_extension('ext/adblock.crx')\n",
    "chrome_options.add_experimental_option(\"prefs\",prefs)\n",
    "chrome_options.add_argument('--disable-application-cache')\n",
    "driver = Chrome(chrome_options=chrome_options)\n",
    "driver.implicitly_wait(10)\n",
    "driver.close()\n",
    "driver.switch_to_window(driver.window_handles[0])\n",
    "driver.get('chrome-extension://gighmmpiobklfepjocnamgkkbiglidom/options.html')\n",
    "driver.find_element_by_id('acceptable_ads').click()\n",
    "driver.find_elements_by_class_name('ui-state-default')[1].click()\n",
    "driver.implicitly_wait(10)\n",
    "driver.find_element_by_id('language_select').find_element_by_xpath(\"//option[@value='russian']\").click()\n",
    "driver.get('https://news.rambler.ru/politics/latest/?page=1')\n",
    "driver.find_element_by_class_name('j-footer__switch').click()"
   ]
  },
  {
   "cell_type": "markdown",
   "metadata": {},
   "source": [
    "- Parse [Rambler](https://news.rambler.ru) news links."
   ]
  },
  {
   "cell_type": "code",
   "execution_count": null,
   "metadata": {},
   "outputs": [],
   "source": [
    "for page in tqdm.tqdm(range(0,args.pages),position=1):\n",
    "    driver.get('https://news.rambler.ru/' + args.category + '/latest/?page=' + str(page))\n",
    "    for element in tqdm.tqdm(driver.find_elements_by_class_name('article-card'),position=0):\n",
    "        with open(args.output,'a') as file:\n",
    "                    file.write(json.dumps({\n",
    "                        'link' : element.find_element_by_tag_name('a').get_attribute('href'),\n",
    "                        'category': args.category\n",
    "                    },ensure_ascii=False) + '\\n')\n",
    "driver.quit()"
   ]
  },
  {
   "cell_type": "markdown",
   "metadata": {},
   "source": [
    "## 2. Парсинг Rambler новостей (BeautifulSoup + lxml)"
   ]
  },
  {
   "cell_type": "code",
   "execution_count": 4,
   "metadata": {
    "collapsed": true
   },
   "outputs": [],
   "source": [
    "posts = []\n",
    "with open('rambler-news-links.json') as file:\n",
    "    for line in file:\n",
    "        posts.append(json.loads(line))"
   ]
  },
  {
   "cell_type": "code",
   "execution_count": null,
   "metadata": {},
   "outputs": [
    {
     "name": "stderr",
     "output_type": "stream",
     "text": [
      "  1%|          | 11/1503 [00:13<31:31,  1.27s/it]"
     ]
    }
   ],
   "source": [
    "for element in tqdm.tqdm(posts):\n",
    "    try:\n",
    "        soup = BeautifulSoup(requests.get(element['link']).text, \"lxml\")\n",
    "        title = html2text(soup.findAll('h1',attrs={'class': 'big-title__title'})[0].text).replace('\\n', '')\n",
    "        text = ''\n",
    "        for paragraph in soup.findAll('div',attrs={'class': 'article__paragraph'}):\n",
    "            text += html2text(paragraph.text).replace('\\n', ' ') + ' '\n",
    "\n",
    "        with open('args.output.json','a') as file:\n",
    "                        file.write(json.dumps({\n",
    "                            'link' : element['link'],\n",
    "                            'category': element['category'],\n",
    "                            'title': title,\n",
    "                            'text': text\n",
    "                        },ensure_ascii=False) + '\\n')\n",
    "    except:\n",
    "        pass"
   ]
  },
  {
   "cell_type": "markdown",
   "metadata": {},
   "source": [
    "## 3. Обзор полученных данных"
   ]
  },
  {
   "cell_type": "code",
   "execution_count": 321,
   "metadata": {
    "collapsed": true
   },
   "outputs": [],
   "source": [
    "news = []\n",
    "with open('ramler-news.json') as file:\n",
    "    for line in file:\n",
    "        news.append(json.loads(line))"
   ]
  },
  {
   "cell_type": "code",
   "execution_count": 322,
   "metadata": {
    "collapsed": true
   },
   "outputs": [],
   "source": [
    "data = pd.DataFrame(news)"
   ]
  },
  {
   "cell_type": "code",
   "execution_count": 323,
   "metadata": {},
   "outputs": [
    {
     "data": {
      "text/html": [
       "<div>\n",
       "<style>\n",
       "    .dataframe thead tr:only-child th {\n",
       "        text-align: right;\n",
       "    }\n",
       "\n",
       "    .dataframe thead th {\n",
       "        text-align: left;\n",
       "    }\n",
       "\n",
       "    .dataframe tbody tr th {\n",
       "        vertical-align: top;\n",
       "    }\n",
       "</style>\n",
       "<table border=\"1\" class=\"dataframe\">\n",
       "  <thead>\n",
       "    <tr style=\"text-align: right;\">\n",
       "      <th></th>\n",
       "      <th>category</th>\n",
       "      <th>link</th>\n",
       "      <th>text</th>\n",
       "      <th>title</th>\n",
       "    </tr>\n",
       "  </thead>\n",
       "  <tbody>\n",
       "    <tr>\n",
       "      <th>0</th>\n",
       "      <td>politics</td>\n",
       "      <td>https://news.rambler.ru/politics/39054690-push...</td>\n",
       "      <td>Член Совета Федерации РФ Алексей Пушков назвал...</td>\n",
       "      <td>Пушков назвал требования Украины лишить РФ пра...</td>\n",
       "    </tr>\n",
       "    <tr>\n",
       "      <th>1</th>\n",
       "      <td>politics</td>\n",
       "      <td>https://news.rambler.ru/other/39054497-erdogan...</td>\n",
       "      <td>Президент Турции Реджеп Тайип Эрдоган и презид...</td>\n",
       "      <td>Эрдоган и Макрон обсудили операцию в Африне</td>\n",
       "    </tr>\n",
       "    <tr>\n",
       "      <th>2</th>\n",
       "      <td>politics</td>\n",
       "      <td>https://news.rambler.ru/world/39054594-na-kipr...</td>\n",
       "      <td>На Кипре пройдет второй тур президентских выбо...</td>\n",
       "      <td>На Кипре пройдет второй тур выборов президента</td>\n",
       "    </tr>\n",
       "    <tr>\n",
       "      <th>3</th>\n",
       "      <td>politics</td>\n",
       "      <td>https://news.rambler.ru/politics/39054551-neme...</td>\n",
       "      <td>Депутаты делегации из Северной Рейн-Вестфалии,...</td>\n",
       "      <td>Немецкий депутат поставил на место Климкина в ...</td>\n",
       "    </tr>\n",
       "    <tr>\n",
       "      <th>4</th>\n",
       "      <td>politics</td>\n",
       "      <td>https://news.rambler.ru/conflicts/39054513-pen...</td>\n",
       "      <td>РИА НОВОСТИ. США НЕ СНАБЖАЛИ СВОИХ СОЮЗНИКОВ П...</td>\n",
       "      <td>Пентагон: США не снабжали союзников по коалици...</td>\n",
       "    </tr>\n",
       "  </tbody>\n",
       "</table>\n",
       "</div>"
      ],
      "text/plain": [
       "   category                                               link  \\\n",
       "0  politics  https://news.rambler.ru/politics/39054690-push...   \n",
       "1  politics  https://news.rambler.ru/other/39054497-erdogan...   \n",
       "2  politics  https://news.rambler.ru/world/39054594-na-kipr...   \n",
       "3  politics  https://news.rambler.ru/politics/39054551-neme...   \n",
       "4  politics  https://news.rambler.ru/conflicts/39054513-pen...   \n",
       "\n",
       "                                                text  \\\n",
       "0  Член Совета Федерации РФ Алексей Пушков назвал...   \n",
       "1  Президент Турции Реджеп Тайип Эрдоган и презид...   \n",
       "2  На Кипре пройдет второй тур президентских выбо...   \n",
       "3  Депутаты делегации из Северной Рейн-Вестфалии,...   \n",
       "4  РИА НОВОСТИ. США НЕ СНАБЖАЛИ СВОИХ СОЮЗНИКОВ П...   \n",
       "\n",
       "                                               title  \n",
       "0  Пушков назвал требования Украины лишить РФ пра...  \n",
       "1        Эрдоган и Макрон обсудили операцию в Африне  \n",
       "2     На Кипре пройдет второй тур выборов президента  \n",
       "3  Немецкий депутат поставил на место Климкина в ...  \n",
       "4  Пентагон: США не снабжали союзников по коалици...  "
      ]
     },
     "execution_count": 323,
     "metadata": {},
     "output_type": "execute_result"
    }
   ],
   "source": [
    "data.head()"
   ]
  },
  {
   "cell_type": "markdown",
   "metadata": {},
   "source": [
    "## 4. Мешок слов"
   ]
  },
  {
   "cell_type": "code",
   "execution_count": 324,
   "metadata": {},
   "outputs": [],
   "source": [
    "vectorizer = CountVectorizer()\n",
    "vectorizer.fit(data['title'].append(data['text']))\n",
    "\n",
    "inverse_vocabulary = {str(v): k for k, v in vectorizer.vocabulary_.items()}\n",
    "\n",
    "with open('dictionary.json','w') as file:\n",
    "    file.write(json.dumps(inverse_vocabulary,ensure_ascii=False,indent=1))"
   ]
  },
  {
   "cell_type": "code",
   "execution_count": 325,
   "metadata": {},
   "outputs": [],
   "source": [
    "for i in range(0,len(data)):\n",
    "    sentences = []\n",
    "    data['title'][i] = [vectorizer.transform([data['title'][i]]).indices]\n",
    "    data['text'][i] = [list(vectorizer.transform([sentence]).indices) for sentence in data['text'][i].split('.')]\n",
    "data.columns = ['category', 'link', 'sentence','title']"
   ]
  },
  {
   "cell_type": "code",
   "execution_count": 326,
   "metadata": {},
   "outputs": [
    {
     "data": {
      "text/html": [
       "<div>\n",
       "<style>\n",
       "    .dataframe thead tr:only-child th {\n",
       "        text-align: right;\n",
       "    }\n",
       "\n",
       "    .dataframe thead th {\n",
       "        text-align: left;\n",
       "    }\n",
       "\n",
       "    .dataframe tbody tr th {\n",
       "        vertical-align: top;\n",
       "    }\n",
       "</style>\n",
       "<table border=\"1\" class=\"dataframe\">\n",
       "  <thead>\n",
       "    <tr style=\"text-align: right;\">\n",
       "      <th></th>\n",
       "      <th>category</th>\n",
       "      <th>link</th>\n",
       "      <th>sentence</th>\n",
       "      <th>title</th>\n",
       "    </tr>\n",
       "  </thead>\n",
       "  <tbody>\n",
       "    <tr>\n",
       "      <th>0</th>\n",
       "      <td>politics</td>\n",
       "      <td>https://news.rambler.ru/politics/39054690-push...</td>\n",
       "      <td>[[32, 37, 69, 112, 167, 235, 260, 316, 392, 43...</td>\n",
       "      <td>[[69, 112, 167, 235, 255, 260, 392, 435, 479, ...</td>\n",
       "    </tr>\n",
       "    <tr>\n",
       "      <th>1</th>\n",
       "      <td>politics</td>\n",
       "      <td>https://news.rambler.ru/other/39054497-erdogan...</td>\n",
       "      <td>[[36, 236, 304, 318, 366, 398, 456, 507, 560, ...</td>\n",
       "      <td>[[36, 236, 304, 318, 617]]</td>\n",
       "    </tr>\n",
       "    <tr>\n",
       "      <th>2</th>\n",
       "      <td>politics</td>\n",
       "      <td>https://news.rambler.ru/world/39054594-na-kipr...</td>\n",
       "      <td>[[31, 33, 92, 95, 131, 148, 198, 205, 230, 238...</td>\n",
       "      <td>[[92, 95, 205, 255, 399, 427, 572]]</td>\n",
       "    </tr>\n",
       "    <tr>\n",
       "      <th>3</th>\n",
       "      <td>politics</td>\n",
       "      <td>https://news.rambler.ru/politics/39054551-neme...</td>\n",
       "      <td>[[43, 50, 67, 76, 80, 134, 140, 176, 262, 271,...</td>\n",
       "      <td>[[83, 138, 208, 244, 255, 276, 388, 488]]</td>\n",
       "    </tr>\n",
       "    <tr>\n",
       "      <th>4</th>\n",
       "      <td>politics</td>\n",
       "      <td>https://news.rambler.ru/conflicts/39054513-pen...</td>\n",
       "      <td>[[292, 466], [133, 173, 209, 271, 325, 352, 36...</td>\n",
       "      <td>[[173, 209, 271, 325, 352, 366, 502, 521, 541,...</td>\n",
       "    </tr>\n",
       "  </tbody>\n",
       "</table>\n",
       "</div>"
      ],
      "text/plain": [
       "   category                                               link  \\\n",
       "0  politics  https://news.rambler.ru/politics/39054690-push...   \n",
       "1  politics  https://news.rambler.ru/other/39054497-erdogan...   \n",
       "2  politics  https://news.rambler.ru/world/39054594-na-kipr...   \n",
       "3  politics  https://news.rambler.ru/politics/39054551-neme...   \n",
       "4  politics  https://news.rambler.ru/conflicts/39054513-pen...   \n",
       "\n",
       "                                            sentence  \\\n",
       "0  [[32, 37, 69, 112, 167, 235, 260, 316, 392, 43...   \n",
       "1  [[36, 236, 304, 318, 366, 398, 456, 507, 560, ...   \n",
       "2  [[31, 33, 92, 95, 131, 148, 198, 205, 230, 238...   \n",
       "3  [[43, 50, 67, 76, 80, 134, 140, 176, 262, 271,...   \n",
       "4  [[292, 466], [133, 173, 209, 271, 325, 352, 36...   \n",
       "\n",
       "                                               title  \n",
       "0  [[69, 112, 167, 235, 255, 260, 392, 435, 479, ...  \n",
       "1                         [[36, 236, 304, 318, 617]]  \n",
       "2                [[92, 95, 205, 255, 399, 427, 572]]  \n",
       "3          [[83, 138, 208, 244, 255, 276, 388, 488]]  \n",
       "4  [[173, 209, 271, 325, 352, 366, 502, 521, 541,...  "
      ]
     },
     "execution_count": 326,
     "metadata": {},
     "output_type": "execute_result"
    }
   ],
   "source": [
    "data.head()"
   ]
  },
  {
   "cell_type": "markdown",
   "metadata": {},
   "source": [
    "## 5. Конвертирование в JSON и XML форматы"
   ]
  },
  {
   "cell_type": "code",
   "execution_count": 327,
   "metadata": {},
   "outputs": [],
   "source": [
    "js = json.loads(data.to_json(force_ascii=False, orient='records'))"
   ]
  },
  {
   "cell_type": "code",
   "execution_count": 328,
   "metadata": {},
   "outputs": [],
   "source": [
    "with open('bow.json', 'w') as file:\n",
    "    for i in js:\n",
    "        file.write(json.dumps(i) + '\\n')"
   ]
  },
  {
   "cell_type": "code",
   "execution_count": 320,
   "metadata": {
    "scrolled": true
   },
   "outputs": [],
   "source": [
    "xml = Json2xml.fromstring(json.dumps(js,ensure_ascii=False)).data\n",
    "xml = Json2xml(xml)\n",
    "with open('bow.xml','w') as file:\n",
    "    file.write(xml.json2xml())"
   ]
  }
 ],
 "metadata": {
  "kernelspec": {
   "display_name": "Python 3",
   "language": "python",
   "name": "python3"
  },
  "language_info": {
   "codemirror_mode": {
    "name": "ipython",
    "version": 3
   },
   "file_extension": ".py",
   "mimetype": "text/x-python",
   "name": "python",
   "nbconvert_exporter": "python",
   "pygments_lexer": "ipython3",
   "version": "3.6.4"
  }
 },
 "nbformat": 4,
 "nbformat_minor": 2
}
