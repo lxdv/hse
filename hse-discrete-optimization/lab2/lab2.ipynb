{
 "cells": [
  {
   "cell_type": "code",
   "execution_count": 1,
   "metadata": {},
   "outputs": [],
   "source": [
    "from clique import find_clique_multi"
   ]
  },
  {
   "cell_type": "code",
   "execution_count": 2,
   "metadata": {},
   "outputs": [
    {
     "name": "stdout",
     "output_type": "stream",
     "text": [
      "Max clique: 4\n",
      "Time: 1419 ms\n"
     ]
    }
   ],
   "source": [
    "find_clique_multi('dimacs-files/hamming6-4.clq')"
   ]
  },
  {
   "cell_type": "code",
   "execution_count": 3,
   "metadata": {},
   "outputs": [
    {
     "name": "stdout",
     "output_type": "stream",
     "text": [
      "Max clique: 32\n",
      "Time: 370 ms\n"
     ]
    }
   ],
   "source": [
    "find_clique_multi('dimacs-files/hamming6-2.clq')"
   ]
  },
  {
   "cell_type": "code",
   "execution_count": 4,
   "metadata": {},
   "outputs": [
    {
     "name": "stdout",
     "output_type": "stream",
     "text": [
      "Max clique: 128\n",
      "Time: 4419 ms\n"
     ]
    }
   ],
   "source": [
    "find_clique_multi('dimacs-files/hamming8-2.clq')"
   ]
  },
  {
   "cell_type": "code",
   "execution_count": 5,
   "metadata": {},
   "outputs": [
    {
     "name": "stdout",
     "output_type": "stream",
     "text": [
      "Max clique: 16\n",
      "Time: 1034637 ms\n"
     ]
    }
   ],
   "source": [
    "find_clique_multi('dimacs-files/hamming8-4.clq')"
   ]
  },
  {
   "cell_type": "code",
   "execution_count": 6,
   "metadata": {},
   "outputs": [
    {
     "name": "stdout",
     "output_type": "stream",
     "text": [
      "Max clique: 4\n",
      "Time: 94 ms\n"
     ]
    }
   ],
   "source": [
    "find_clique_multi('dimacs-files/johnson8-2-4.clq')"
   ]
  },
  {
   "cell_type": "code",
   "execution_count": 7,
   "metadata": {},
   "outputs": [
    {
     "name": "stdout",
     "output_type": "stream",
     "text": [
      "Max clique: 14\n",
      "Time: 644 ms\n"
     ]
    }
   ],
   "source": [
    "find_clique_multi('dimacs-files/johnson8-4-4.clq')"
   ]
  },
  {
   "cell_type": "code",
   "execution_count": 10,
   "metadata": {},
   "outputs": [
    {
     "name": "stdout",
     "output_type": "stream",
     "text": [
      "Max clique: 8\n",
      "Time: 1038 ms\n"
     ]
    }
   ],
   "source": [
    "find_clique_multi('dimacs-files/johnson16-2-4.clq')"
   ]
  },
  {
   "cell_type": "code",
   "execution_count": 11,
   "metadata": {},
   "outputs": [
    {
     "name": "stdout",
     "output_type": "stream",
     "text": [
      "Max clique: 16\n",
      "Time: 295 ms\n"
     ]
    }
   ],
   "source": [
    "find_clique_multi('dimacs-files/MANN_a9.clq')"
   ]
  },
  {
   "cell_type": "code",
   "execution_count": 13,
   "metadata": {},
   "outputs": [
    {
     "name": "stdout",
     "output_type": "stream",
     "text": [
      "Max clique: 30\n",
      "Time: 83204 ms\n"
     ]
    }
   ],
   "source": [
    "find_clique_multi('dimacs-files/san200_0.7_1.clq')"
   ]
  },
  {
   "cell_type": "code",
   "execution_count": 14,
   "metadata": {},
   "outputs": [
    {
     "name": "stdout",
     "output_type": "stream",
     "text": [
      "Max clique: 18\n",
      "Time: 623280 ms\n"
     ]
    }
   ],
   "source": [
    "find_clique_multi('dimacs-files/san200_0.7_2.clq')"
   ]
  },
  {
   "cell_type": "code",
   "execution_count": 15,
   "metadata": {},
   "outputs": [
    {
     "name": "stdout",
     "output_type": "stream",
     "text": [
      "Max clique: 70\n",
      "Time: 1889 ms\n"
     ]
    }
   ],
   "source": [
    "find_clique_multi('dimacs-files/san200_0.9_1.clq')"
   ]
  },
  {
   "cell_type": "code",
   "execution_count": 16,
   "metadata": {},
   "outputs": [
    {
     "name": "stdout",
     "output_type": "stream",
     "text": [
      "Max clique: 60\n",
      "Time: 2061 ms\n"
     ]
    }
   ],
   "source": [
    "find_clique_multi('dimacs-files/san200_0.9_2.clq')"
   ]
  },
  {
   "cell_type": "code",
   "execution_count": 18,
   "metadata": {},
   "outputs": [
    {
     "name": "stdout",
     "output_type": "stream",
     "text": [
      "Max clique: 12\n",
      "Time: 22345 ms\n"
     ]
    }
   ],
   "source": [
    "find_clique_multi('dimacs-files/c-fat200-1.clq')"
   ]
  },
  {
   "cell_type": "code",
   "execution_count": 19,
   "metadata": {},
   "outputs": [
    {
     "name": "stdout",
     "output_type": "stream",
     "text": [
      "Max clique: 24\n",
      "Time: 1061 ms\n"
     ]
    }
   ],
   "source": [
    "find_clique_multi('dimacs-files/c-fat200-2.clq')"
   ]
  },
  {
   "cell_type": "code",
   "execution_count": 20,
   "metadata": {},
   "outputs": [
    {
     "name": "stdout",
     "output_type": "stream",
     "text": [
      "Max clique: 58\n",
      "Time: 30990 ms\n"
     ]
    }
   ],
   "source": [
    "find_clique_multi('dimacs-files/c-fat200-5.clq')"
   ]
  },
  {
   "cell_type": "code",
   "execution_count": 21,
   "metadata": {},
   "outputs": [
    {
     "name": "stdout",
     "output_type": "stream",
     "text": [
      "Max clique: 26\n",
      "Time: 7798 ms\n"
     ]
    }
   ],
   "source": [
    "find_clique_multi('dimacs-files/c-fat500-2.clq')"
   ]
  },
  {
   "cell_type": "code",
   "execution_count": 22,
   "metadata": {},
   "outputs": [
    {
     "name": "stdout",
     "output_type": "stream",
     "text": [
      "Max clique: 64\n",
      "Time: 142082 ms\n"
     ]
    }
   ],
   "source": [
    "find_clique_multi('dimacs-files/c-fat500-5.clq')"
   ]
  }
 ],
 "metadata": {
  "kernelspec": {
   "display_name": "Python [conda env:cplex]",
   "language": "python",
   "name": "conda-env-cplex-py"
  },
  "language_info": {
   "codemirror_mode": {
    "name": "ipython",
    "version": 3
   },
   "file_extension": ".py",
   "mimetype": "text/x-python",
   "name": "python",
   "nbconvert_exporter": "python",
   "pygments_lexer": "ipython3",
   "version": "3.6.7"
  }
 },
 "nbformat": 4,
 "nbformat_minor": 2
}
