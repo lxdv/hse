{
 "cells": [
  {
   "cell_type": "code",
   "execution_count": 1,
   "metadata": {},
   "outputs": [],
   "source": [
    "import cplex"
   ]
  },
  {
   "cell_type": "markdown",
   "metadata": {},
   "source": [
    "## Example #1 -> max\n",
    "`4x + 6y -> max`\n",
    "\n",
    "`0.5x + y <= 12`  \n",
    "`x <= 12`   \n",
    "`y <= 9`   \n",
    "`x >= 0`  \n",
    "`y >= 0`  "
   ]
  },
  {
   "cell_type": "code",
   "execution_count": 5,
   "metadata": {},
   "outputs": [
    {
     "name": "stdout",
     "output_type": "stream",
     "text": [
      "CPXPARAM_Read_DataCheck                          1\n",
      "Tried aggregator 1 time.\n",
      "No LP presolve or aggregator reductions.\n",
      "Presolve time = 0.02 sec. (0.00 ticks)\n",
      "\n",
      "Iteration log . . .\n",
      "Iteration:     1   Dual objective     =            84.000000\n",
      "[12.0, 6.0]\n"
     ]
    }
   ],
   "source": [
    "names = [\"x\", \"y\"]\n",
    "objective = [4, 6]\n",
    "\n",
    "lower_bounds = [0, 0]\n",
    "upper_bounds = [12, 9]\n",
    "\n",
    "constraint_names = [\"c1\"]\n",
    "constraint_senses = [ \"L\"]\n",
    "constraint = [[\"x\", \"y\"], [0.5, 1]]\n",
    "constraints = [constraint]\n",
    "rhs = [12]\n",
    "\n",
    "problem = cplex.Cplex()\n",
    "problem.objective.set_sense(problem.objective.sense.maximize)\n",
    "problem.variables.add(obj = objective, lb = lower_bounds, ub = upper_bounds, names = names)\n",
    "problem.linear_constraints.add(lin_expr = constraints, senses = constraint_senses, rhs = rhs,names = constraint_names)\n",
    "\n",
    "problem.solve()\n",
    "print(problem.solution.get_values())"
   ]
  },
  {
   "cell_type": "markdown",
   "metadata": {},
   "source": [
    "## Example #2 -> min"
   ]
  },
  {
   "cell_type": "markdown",
   "metadata": {},
   "source": [
    "`x1 – x2 – 3x3 -> min`\n",
    "\n",
    "`2x1 - x2 + x3 <= 1`  \n",
    "`4x1 - 2x2 + x3 >= -2`  \n",
    "`2x1 + x3 <= 5`  \n",
    "`x1,x2,x3 >=0`"
   ]
  },
  {
   "cell_type": "code",
   "execution_count": 8,
   "metadata": {},
   "outputs": [
    {
     "name": "stdout",
     "output_type": "stream",
     "text": [
      "CPXPARAM_Read_DataCheck                          1\n",
      "Tried aggregator 1 time.\n",
      "LP Presolve eliminated 2 rows and 2 columns.\n",
      "Aggregator did 1 substitutions.\n",
      "All rows and columns eliminated.\n",
      "Presolve time = 0.01 sec. (0.00 ticks)\n",
      "[0.5, 4.0, 4.0]\n"
     ]
    }
   ],
   "source": [
    "names = [\"x1\", \"x2\", \"x3\"]\n",
    "objective = [1, -1, -3]\n",
    "\n",
    "constraint_names = [\"c1\", \"c2\", \"c3\"]\n",
    "constraint_senses = [\"L\", \"G\", \"L\"]\n",
    "constraint1 = [[\"x1\", \"x2\", \"x3\"], [2, -1, 1]]\n",
    "constraint2 = [[\"x1\", \"x2\", \"x3\"], [4, -2, 1]]\n",
    "constraint3 = [[\"x1\", \"x3\"], [2, 1]]\n",
    "lower_bounds = [0, 0, 0]\n",
    "constraints = [constraint1, constraint2, constraint3]\n",
    "rhs = [1, -2, 5]\n",
    "\n",
    "problem = cplex.Cplex()\n",
    "problem.objective.set_sense(problem.objective.sense.minimize)\n",
    "problem.variables.add(obj = objective, lb = lower_bounds, names = names)\n",
    "problem.linear_constraints.add(lin_expr = constraints, senses = constraint_senses, rhs = rhs,names = constraint_names)\n",
    "\n",
    "problem.solve()\n",
    "print(problem.solution.get_values())"
   ]
  }
 ],
 "metadata": {
  "kernelspec": {
   "display_name": "Python 3",
   "language": "python",
   "name": "python3"
  },
  "language_info": {
   "codemirror_mode": {
    "name": "ipython",
    "version": 3
   },
   "file_extension": ".py",
   "mimetype": "text/x-python",
   "name": "python",
   "nbconvert_exporter": "python",
   "pygments_lexer": "ipython3",
   "version": "3.6.4"
  }
 },
 "nbformat": 4,
 "nbformat_minor": 2
}
