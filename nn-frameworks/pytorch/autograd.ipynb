{
 "cells": [
  {
   "cell_type": "code",
   "execution_count": 1,
   "metadata": {},
   "outputs": [],
   "source": [
    "import torch\n",
    "import torch.nn as nn\n",
    "from torch.autograd import Variable"
   ]
  },
  {
   "cell_type": "code",
   "execution_count": 2,
   "metadata": {},
   "outputs": [],
   "source": [
    "x = torch.ones(2, 2, requires_grad=True)\n",
    "\n",
    "y = x + 2\n",
    "z = y * y * 3\n",
    "\n",
    "out = z.mean()\n",
    "\n",
    "out.backward(torch.tensor(1, dtype=torch.float), retain_graph=True)"
   ]
  },
  {
   "cell_type": "code",
   "execution_count": 3,
   "metadata": {},
   "outputs": [
    {
     "name": "stdout",
     "output_type": "stream",
     "text": [
      "tensor([[ 1.,  1.],\n",
      "        [ 1.,  1.]])\n",
      "tensor([[ 3.,  3.],\n",
      "        [ 3.,  3.]])\n",
      "tensor([[ 27.,  27.],\n",
      "        [ 27.,  27.]])\n",
      "tensor(27.)\n",
      "tensor([[ 4.5000,  4.5000],\n",
      "        [ 4.5000,  4.5000]])\n"
     ]
    }
   ],
   "source": [
    "print(x, y, z, out, x.grad, sep = '\\n')"
   ]
  },
  {
   "cell_type": "code",
   "execution_count": null,
   "metadata": {},
   "outputs": [],
   "source": []
  },
  {
   "cell_type": "code",
   "execution_count": 4,
   "metadata": {},
   "outputs": [],
   "source": [
    "import torch\n",
    "from torch.autograd import Variable"
   ]
  },
  {
   "cell_type": "code",
   "execution_count": 8,
   "metadata": {},
   "outputs": [],
   "source": [
    "x = Variable(torch.FloatTensor([3]), requires_grad = False)\n",
    "y_true = torch.FloatTensor([250])\n",
    "\n",
    "w1 = Variable(torch.FloatTensor([200]), requires_grad = True)\n",
    "w2 = Variable(torch.FloatTensor([300]), requires_grad = True)\n",
    "\n",
    "learning_rate = 3e-7"
   ]
  },
  {
   "cell_type": "code",
   "execution_count": 6,
   "metadata": {},
   "outputs": [
    {
     "name": "stdout",
     "output_type": "stream",
     "text": [
      "Summary:\n",
      " y_true = 250\n",
      " y_pred = 180000\n"
     ]
    }
   ],
   "source": [
    "print('Summary:\\n y_true = {}\\n y_pred = {}'.format(int(y_true), int(x * w1 * w2.data)))"
   ]
  },
  {
   "cell_type": "markdown",
   "metadata": {},
   "source": [
    "`y = x * w1 * w2`  \n",
    "`loss = (y - y_true)^2`  \n",
    "`dLoss/dy = 2 * (y - y_true)`\n",
    "\n",
    "`dLoss/d(w1) = dLoss/dy * dy / d(w1)`  \n",
    "`dLoss/d(w1) = 2 * (y - y_true) * dy / d(w1)`  \n",
    "`dLoss/d(w1) = 2 * (y - y_true) * x * w2`  \n",
    "`dLoss/d(w1) |x=3, w2 = 300| = 2 * (y - y_true) * 3 * 300`\n",
    "\n",
    "`dLoss/d(w2) = dLoss/dy * dy / d(w2)`  \n",
    "`dLoss/d(w2) = 2 * (y - y_true) * dy / d(w2)`  \n",
    "`dLoss/d(w2) = 2 * (y - y_true) * x * w1`  \n",
    "`dLoss/d(w2) |x=3, w2 = 200| = 2 * (y - y_true) * 3 * 200`  \n",
    "\n",
    "`dy/d(w1) = x * w2`  \n",
    "`dy/d(w2) = x * w1`"
   ]
  },
  {
   "cell_type": "code",
   "execution_count": 7,
   "metadata": {},
   "outputs": [
    {
     "name": "stdout",
     "output_type": "stream",
     "text": [
      "Manual:\n",
      "       dy/d(w1) = 900.0\n",
      "       dLoss/d(w1) = 323550016.0\n",
      "       dy/d(w2) = 600.0\n",
      "       dLoss/d(w2) = 215700000.0\n",
      "      \n",
      "Autograd:\n",
      "\tdLoss/d(w1) = 323550016.0\n",
      "\tdLoss/d(w2) = 215700000.0\n",
      "\n",
      "Summary:\n",
      " dLoss = 359500.0\n",
      " delta W1 = 97.06501007080078\n",
      " delta W2 = 64.70999908447266\n",
      " y_true = 250.0\n",
      " y_pred = 72658.71875\n",
      "\n",
      "Manual:\n",
      "       dy/d(w1) = 705.8699951171875\n",
      "       dLoss/d(w1) = 102222288.0\n",
      "       dy/d(w2) = 308.8049621582031\n",
      "       dLoss/d(w2) = 44720344.0\n",
      "      \n",
      "Autograd:\n",
      "\tdLoss/d(w1) = 102222288.0\n",
      "\tdLoss/d(w2) = 44720344.0\n",
      "\n",
      "Summary:\n",
      " dLoss = 144817.4375\n",
      " delta W1 = 30.66668701171875\n",
      " delta W2 = 13.41610336303711\n",
      " y_true = 250.0\n",
      " y_pred = 48103.34765625\n",
      "\n"
     ]
    }
   ],
   "source": [
    "for i in range(0,2):\n",
    "    y = x * w1 * w2\n",
    "    dLoss = 2 * (y - y_true)\n",
    "    y.backward(dLoss, retain_graph=True)\n",
    "    \n",
    "    print('''Manual:\n",
    "       dy/d(w1) = {}\n",
    "       dLoss/d(w1) = {}\n",
    "       dy/d(w2) = {}\n",
    "       dLoss/d(w2) = {}\n",
    "      '''.format(float((3 * w2)), float((dLoss * 3 * w2)),\n",
    "               float((3 * w1)), float((dLoss * 3 * w1))))\n",
    "    print('Autograd:\\n\\tdLoss/d(w1) = {}\\n\\tdLoss/d(w2) = {}\\n'.format(float(w1.grad), float(w2.grad)))\n",
    "\n",
    "\n",
    "    w1.data -= learning_rate * w1.grad.data\n",
    "    w2.data -= learning_rate * w2.grad.data\n",
    "    print('Summary:\\n dLoss = {}\\n delta W1 = {}\\n delta W2 = {}\\n y_true = {}\\n y_pred = {}\\n'.format(float(dLoss), float(learning_rate * w1.grad.data), float(learning_rate * w2.grad.data), float(y_true), float(x * w1 * w2.data)))\n",
    "    w1.grad.zero_()\n",
    "    w2.grad.zero_()"
   ]
  },
  {
   "cell_type": "code",
   "execution_count": null,
   "metadata": {},
   "outputs": [],
   "source": []
  },
  {
   "cell_type": "code",
   "execution_count": 9,
   "metadata": {},
   "outputs": [
    {
     "name": "stdout",
     "output_type": "stream",
     "text": [
      "Summary:\n",
      " Loss = 32310063104.0\n",
      " delta W1 = 97.06501007080078\n",
      " delta W2 = 64.70999908447266\n",
      " y_true = 250.0\n",
      " y_pred = 72658.71875\n",
      "\n",
      "Summary:\n",
      " Loss = 5243022336.0\n",
      " delta W1 = 30.66668701171875\n",
      " delta W2 = 13.41610336303711\n",
      " y_true = 250.0\n",
      " y_pred = 48103.34765625\n",
      "\n",
      "Summary:\n",
      " Loss = 2289942784.0\n",
      " delta W1 = 19.111337661743164\n",
      " delta W2 = 6.2249040603637695\n",
      " y_true = 250.0\n",
      " y_pred = 34389.7421875\n",
      "\n",
      "Summary:\n",
      " Loss = 1165522048.0\n",
      " delta W1 = 13.251962661743164\n",
      " delta W2 = 3.2665774822235107\n",
      " y_true = 250.0\n",
      " y_pred = 25425.3671875\n",
      "\n",
      "Summary:\n",
      " Loss = 633799104.0\n",
      " delta W1 = 9.624250411987305\n",
      " delta W2 = 1.8083217144012451\n",
      " y_true = 250.0\n",
      " y_pred = 19129.03125\n",
      "\n",
      "Summary:\n",
      " Loss = 356417824.0\n",
      " delta W1 = 7.155783653259277\n",
      " delta W2 = 1.029008388519287\n",
      " y_true = 250.0\n",
      " y_pred = 14537.17578125\n",
      "\n",
      "Summary:\n",
      " Loss = 204123392.0\n",
      " delta W1 = 5.388854026794434\n",
      " delta W2 = 0.5947030782699585\n",
      " y_true = 250.0\n",
      " y_pred = 11117.9072265625\n",
      "\n",
      "Summary:\n",
      " Loss = 118111408.0\n",
      " delta W1 = 4.087536811828613\n",
      " delta W2 = 0.34695807099342346\n",
      " y_true = 250.0\n",
      " y_pred = 8541.423828125\n",
      "\n",
      "Summary:\n",
      " Loss = 68747712.0\n",
      " delta W1 = 3.1133155822753906\n",
      " delta W2 = 0.20369911193847656\n",
      " y_true = 250.0\n",
      " y_pred = 6586.64013671875\n",
      "\n",
      "Summary:\n",
      " Loss = 40153008.0\n",
      " delta W1 = 2.376997709274292\n",
      " delta W2 = 0.12016474455595016\n",
      " y_true = 250.0\n",
      " y_pred = 5097.60205078125\n",
      "\n"
     ]
    }
   ],
   "source": [
    "criterion = nn.MSELoss()\n",
    "\n",
    "for i in range(0,10):\n",
    "    y = x * w1 * w2\n",
    "    loss = criterion(y, y_true)\n",
    "    loss.backward(retain_graph=True)\n",
    "\n",
    "    w1.data -= learning_rate * w1.grad.data\n",
    "    w2.data -= learning_rate * w2.grad.data\n",
    "    print('Summary:\\n Loss = {}\\n delta W1 = {}\\n delta W2 = {}\\n y_true = {}\\n y_pred = {}\\n'.format(float(loss), float(learning_rate * w1.grad.data), float(learning_rate * w2.grad.data), float(y_true), float(x * w1 * w2.data)))\n",
    "    w1.grad.zero_()\n",
    "    w2.grad.zero_()"
   ]
  },
  {
   "cell_type": "code",
   "execution_count": null,
   "metadata": {},
   "outputs": [],
   "source": []
  }
 ],
 "metadata": {
  "kernelspec": {
   "display_name": "Python 3",
   "language": "python",
   "name": "python3"
  },
  "language_info": {
   "codemirror_mode": {
    "name": "ipython",
    "version": 3
   },
   "file_extension": ".py",
   "mimetype": "text/x-python",
   "name": "python",
   "nbconvert_exporter": "python",
   "pygments_lexer": "ipython3",
   "version": "3.6.4"
  }
 },
 "nbformat": 4,
 "nbformat_minor": 2
}
