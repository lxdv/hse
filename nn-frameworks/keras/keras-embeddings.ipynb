{
 "cells": [
  {
   "cell_type": "code",
   "execution_count": 1,
   "metadata": {},
   "outputs": [
    {
     "name": "stderr",
     "output_type": "stream",
     "text": [
      "Using TensorFlow backend.\n"
     ]
    }
   ],
   "source": [
    "import numpy as np\n",
    "import pandas as pd\n",
    "import re\n",
    "\n",
    "import sentencepiece as spm\n",
    "\n",
    "from keras.preprocessing.text import Tokenizer\n",
    "from keras.preprocessing.sequence import pad_sequences\n",
    "\n",
    "from gensim import models"
   ]
  },
  {
   "cell_type": "code",
   "execution_count": 3,
   "metadata": {},
   "outputs": [
    {
     "name": "stdout",
     "output_type": "stream",
     "text": [
      "Уникальных слов -  3868\n"
     ]
    }
   ],
   "source": [
    "# SentencePiece BPE\n",
    "\n",
    "modelname = 'embeddings/embeddings/bpe4k.model'\n",
    "\n",
    "sp = spm.SentencePieceProcessor()\n",
    "sp.Load(modelname)\n",
    "\n",
    "pretrain_sent = pd.read_csv(\"data/p_pretrain_nostem.csv\")\n",
    "train_sent = pd.read_csv(\"data/p_train_nostem.csv\")\n",
    "test_sent = pd.read_csv(\"data/p_test_nostem.csv\")\n",
    "\n",
    "pretrain_sent['content'] = pretrain_sent['content'].map(lambda x: str(x).lower())\n",
    "train_sent['content'] = train_sent['content'].map(lambda x: str(x).lower())\n",
    "test_sent['content'] = test_sent['content'].map(lambda x: str(x).lower())\n",
    "\n",
    "pretrain_sent['content'] = pretrain_sent['content'].map(lambda x: ' '.join(sp.EncodeAsPieces(str(x).lower())))\n",
    "train_sent['content'] = train_sent['content'].map(lambda x: ' '.join(sp.EncodeAsPieces(str(x).lower())))\n",
    "test_sent['content'] = test_sent['content'].map(lambda x: ' '.join(sp.EncodeAsPieces(str(x).lower())))\n",
    "\n",
    "max_features = 4000\n",
    "maxlen = 100\n",
    "\n",
    "tokenizer = Tokenizer(max_features,\n",
    "                     filters = '!\"#$%&()*+,-./:;<=>?[\\\\]^_`{|}~\\t\\n')\n",
    "tokenizer.fit_on_texts(list(train_sent['content']) + list(pretrain_sent['content']))\n",
    "print('Уникальных слов - ', len(tokenizer.word_index))\n",
    "\n",
    "X_train = tokenizer.texts_to_sequences(train_sent['content'])\n",
    "X_train = pad_sequences(list(X_train), maxlen)\n",
    "\n",
    "X_pretrain = tokenizer.texts_to_sequences(pretrain_sent['content'])\n",
    "X_pretrain = pad_sequences(list(X_pretrain), maxlen)\n",
    "\n",
    "X_test = tokenizer.texts_to_sequences(test_sent['content'])\n",
    "X_test = pad_sequences(list(X_test), maxlen)\n",
    "\n",
    "y_train = train_sent['published'].map({'t' : 1, 'f' : 0})\n",
    "y_pretrain = pretrain_sent['published'].map({'t' : 1, 'f' : 0})\n",
    "y_test = test_sent['published'].map({'t' : 1, 'f' : 0})"
   ]
  },
  {
   "cell_type": "code",
   "execution_count": 5,
   "metadata": {},
   "outputs": [
    {
     "name": "stdout",
     "output_type": "stream",
     "text": [
      "Found 117529 word vectors.\n"
     ]
    }
   ],
   "source": [
    "# fastText embeddings\n",
    "\n",
    "embname = 'embeddings/embeddings/ftmodel.vec'\n",
    "embedding_dim = 200\n",
    "\n",
    "w2v = models.KeyedVectors.load_word2vec_format(embname)\n",
    "keys = list(w2v.vocab.keys())\n",
    "tmp = pd.DataFrame([ np.append(keys[i],w2v.syn0[i]) for i in range(0,len(keys))])\n",
    "\n",
    "embeddings_index = {}\n",
    "\n",
    "for i in range(0,len(tmp)):\n",
    "    values = np.array(tmp.iloc[i])\n",
    "    word = values[0]\n",
    "    coefs = np.asarray(values[1:], dtype='float32')\n",
    "    embeddings_index[word] = coefs\n",
    "\n",
    "print('Found %s word vectors.' % len(embeddings_index))\n",
    "\n",
    "embedding_matrix = np.zeros((max_features, embedding_dim))\n",
    "\n",
    "for word, i in tokenizer.word_index.items():\n",
    "    if i >= max_features:\n",
    "        continue\n",
    "    embedding_vector = embeddings_index.get(word)\n",
    "    if embedding_vector is not None:\n",
    "        embedding_matrix[i] = embedding_vector"
   ]
  },
  {
   "cell_type": "code",
   "execution_count": 6,
   "metadata": {},
   "outputs": [
    {
     "name": "stdout",
     "output_type": "stream",
     "text": [
      "Indexing word vectors.\n",
      "Found 4000 word vectors.\n"
     ]
    }
   ],
   "source": [
    "# glove Embeddings\n",
    "\n",
    "embname = 'embeddings/embeddings/glove4k200.csv'\n",
    "embedding_dim = 200\n",
    "\n",
    "tmp = pd.read_csv(embname,header=None)\n",
    "print('Indexing word vectors.')\n",
    "embeddings_index = {}\n",
    "for i in range(0,len(tmp)):\n",
    "    values = np.array(tmp.iloc[i])\n",
    "    word = values[0]\n",
    "    coefs = np.asarray(values[1:], dtype='float32')\n",
    "    embeddings_index[word] = coefs\n",
    "\n",
    "print('Found %s word vectors.' % len(embeddings_index))\n",
    "# prepare embedding matrix\n",
    "embedding_matrix = np.zeros((max_features, embedding_dim))\n",
    "for word, i in tokenizer.word_index.items():\n",
    "    if i >= max_features:\n",
    "        continue\n",
    "    embedding_vector = embeddings_index.get(word)\n",
    "    if embedding_vector is not None:\n",
    "        # words not found in embedding index will be all-zeros.\n",
    "        embedding_matrix[i] = embedding_vector"
   ]
  }
 ],
 "metadata": {
  "kernelspec": {
   "display_name": "Python 3",
   "language": "python",
   "name": "python3"
  },
  "language_info": {
   "codemirror_mode": {
    "name": "ipython",
    "version": 3
   },
   "file_extension": ".py",
   "mimetype": "text/x-python",
   "name": "python",
   "nbconvert_exporter": "python",
   "pygments_lexer": "ipython3",
   "version": "3.6.4"
  }
 },
 "nbformat": 4,
 "nbformat_minor": 2
}
