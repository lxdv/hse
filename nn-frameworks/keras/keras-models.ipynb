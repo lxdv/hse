{
 "cells": [
  {
   "cell_type": "code",
   "execution_count": null,
   "metadata": {
    "collapsed": true
   },
   "outputs": [],
   "source": [
    "from keras.layers.core import Dense, Dropout, Activation\n",
    "from keras.layers.embeddings import Embedding\n",
    "from keras.layers.recurrent import LSTM\n",
    "\n",
    "from keras.models import Model, Sequentia\n",
    "from keras.layers import Input, GlobalMaxPooling1D, Convolution1D, Dot\n",
    "from keras.layers.merge import Concatenate\n",
    "\n",
    "from keras import regularizers\n",
    "from attention_layer import *"
   ]
  },
  {
   "cell_type": "markdown",
   "metadata": {},
   "source": [
    "## Text"
   ]
  },
  {
   "cell_type": "code",
   "execution_count": null,
   "metadata": {
    "collapsed": true
   },
   "outputs": [],
   "source": [
    "# Simple LSTM\n",
    "\n",
    "model_LSTM = Sequential()\n",
    "model_LSTM.add(Embedding(max_features,\n",
    "                    embedding_dim,\n",
    "                    weights=[embedding_matrix],\n",
    "                    input_length=maxlen,\n",
    "                    trainable=False))\n",
    "#model_LSTM.add(Embedding(max_features, embedding_dim, input_length=maxlen))\n",
    "model_LSTM.add(LSTM(64))\n",
    "model_LSTM.add(Dropout(0.5))\n",
    "model_LSTM.add(Dense(1))\n",
    "model_LSTM.add(Activation('sigmoid'))\n",
    "\n",
    "model_LSTM.compile(loss='binary_crossentropy', optimizer='adam', metrics = ['accuracy'])\n",
    "\n",
    "model_LSTM.layers[0].trainable = True\n",
    "model_LSTM.compile(loss=\"binary_crossentropy\", optimizer=\"adam\", metrics = [\"accuracy\"])"
   ]
  },
  {
   "cell_type": "code",
   "execution_count": null,
   "metadata": {
    "collapsed": true
   },
   "outputs": [],
   "source": [
    "# Simple GRU\n",
    "\n",
    "model_GRU = Sequential()\n",
    "model_GRU.add(Embedding(max_features, embedding_dim, input_length=maxlen))\n",
    "model_GRU.add(GRU(32, dropout=0.5, recurrent_dropout=0.5))\n",
    "model_GRU.add(Dense(1))\n",
    "model_GRU.add(Activation('sigmoid'))\n",
    "\n",
    "model_GRU.compile(loss='binary_crossentropy', optimizer='adam', metrics = ['accuracy'])"
   ]
  },
  {
   "cell_type": "code",
   "execution_count": null,
   "metadata": {
    "collapsed": true
   },
   "outputs": [],
   "source": [
    "# Simple WeightNormGRU\n",
    "\n",
    "model = Sequential()\n",
    "model.add(Embedding(max_features,\n",
    "                    embedding_dim,\n",
    "                    input_length=maxlen))\n",
    "model.add(WeightNormGRU(64, return_sequences=True))\n",
    "model.add(WeightNormGRU(64))\n",
    "model.add(Dropout(0.5))\n",
    "model.add(Dense(3))\n",
    "model.add(Activation('softmax'))\n",
    "\n",
    "model.compile(loss='categorical_crossentropy',\n",
    "              optimizer='rmsprop', metrics = ['accuracy'])"
   ]
  },
  {
   "cell_type": "code",
   "execution_count": null,
   "metadata": {
    "collapsed": true
   },
   "outputs": [],
   "source": [
    "# MultiOutputLSTM with 2 losses\n",
    "\n",
    "input_layer = Input(shape=(maxlen,))\n",
    "\n",
    "model = Embedding(max_features, embedding_dim, embeddings_regularizer=regularizers.l1(10e-5))(input_layer)\n",
    "model = LSTM(64,return_sequences = True)(model)\n",
    "model = LSTM(64)(model)\n",
    "model = Dropout(0.5)(model)\n",
    "\n",
    "out1 = Dense(5, activation = 'softmax',name = 'out1')(model)\n",
    "out2 = Dense(1, activation = 'relu', name = 'out2')(model)\n",
    "\n",
    "model = Model(input_layer, outputs=[out1, out2])\n",
    "\n",
    "model.compile(optimizer='adam',\n",
    "              loss={'out1': 'categorical_crossentropy', 'out2': 'mae'}, metrics = ['accuracy'])"
   ]
  },
  {
   "cell_type": "code",
   "execution_count": null,
   "metadata": {
    "collapsed": true
   },
   "outputs": [],
   "source": [
    "# LSTM's (initial state), shared Embeddings\n",
    "\n",
    "input_title = Input(shape=(maxlen,))\n",
    "input_review = Input(shape=(maxlen,))\n",
    "\n",
    "shared_embedding = Embedding(max_features, embedding_dim, embeddings_regularizer = regularizers.l1(10e-5))\n",
    "\n",
    "title = shared_embedding(input_title)\n",
    "review = shared_embedding(input_review)\n",
    "\n",
    "title = LSTM(64, return_state = True)(title)\n",
    "model = LSTM(64)(review, initial_state = title[1:])\n",
    "\n",
    "out = Dense(5, activation = 'softmax')(model)\n",
    "model = Model([input_title,input_review], out)\n",
    "\n",
    "model.compile(loss='categorical_crossentropy',\n",
    "              optimizer='adam', metrics = ['accuracy'])"
   ]
  },
  {
   "cell_type": "code",
   "execution_count": null,
   "metadata": {
    "collapsed": true
   },
   "outputs": [],
   "source": [
    "# LSTM + Attention\n",
    "\n",
    "input_layer = Input(shape=(maxlen,))\n",
    "embeddings = Embedding(max_features, embedding_dim, input_length=maxlen, embeddings_regularizer = regularizers.l1(10e-5))(input_layer)\n",
    "lstm_layer = LSTM(64, return_sequences=True)(embeddings)\n",
    "\n",
    "attention = AttentionWithContext()(lstm_layer)\n",
    "\n",
    "model = Dot(axes=0)([lstm_layer,attention])\n",
    "model = Dropout(0.5)(model)\n",
    "\n",
    "out = Dense(5, activation='softmax')(model)\n",
    "\n",
    "model = Model(inputs=input_layer, outputs=out)\n",
    "model.compile(loss='categorical_crossentropy',\n",
    "              optimizer='adam', metrics = ['accuracy'])"
   ]
  },
  {
   "cell_type": "code",
   "execution_count": null,
   "metadata": {
    "collapsed": true
   },
   "outputs": [],
   "source": [
    "# Text CNN\n",
    "\n",
    "filter_sizes = 7\n",
    "num_filters = 100\n",
    "dropout_prob = (0.5, 0.5)\n",
    "hidden_dims = 32\n",
    "input_shape = (maxlen,)\n",
    "\n",
    "model_input = Input(shape=input_shape)\n",
    "\n",
    "model_CNN = Embedding(max_features, embedding_dim, input_length=maxlen, name=\"embedding\")(model_input)\n",
    "model_CNN = Dropout(dropout_prob[0])(model_CNN)\n",
    "\n",
    "model_CNN = Convolution1D(filters=num_filters,kernel_size=filter_sizes,padding=\"valid\",activation=\"relu\",strides=1)(model_CNN)\n",
    "model_CNN = MaxPooling1D(pool_size=2)(model_CNN)\n",
    "model_CNN = Flatten()(model_CNN)\n",
    "\n",
    "model_CNN = Dropout(dropout_prob[1])(model_CNN)\n",
    "model_CNN = Dense(hidden_dims, activation=\"relu\")(model_CNN)\n",
    "\n",
    "model_output = Dense(1, activation=\"sigmoid\")(model_CNN)\n",
    "\n",
    "model_CNN = Model(model_input, model_output)\n",
    "model_CNN.compile(loss=\"binary_crossentropy\", optimizer=\"adam\", metrics=[\"accuracy\"])"
   ]
  },
  {
   "cell_type": "code",
   "execution_count": null,
   "metadata": {
    "collapsed": true
   },
   "outputs": [],
   "source": [
    "# Text CNN (different filters)\n",
    "\n",
    "filter_sizes = (3,5,7)\n",
    "num_filters = 64\n",
    "dropout_prob = (0.2, 0.3)\n",
    "hidden_dims = 32\n",
    "input_shape = (maxlen,)\n",
    "\n",
    "model_input = Input(shape=input_shape)\n",
    "\n",
    "model_CNN = Embedding(max_features,\n",
    "                    embedding_dim,\n",
    "                    weights=[embedding_matrix],\n",
    "                    input_length=maxlen,\n",
    "                    trainable=False)(model_input)\n",
    "\n",
    "model_CNN = Dropout(dropout_prob[0])(model_CNN)\n",
    "\n",
    "conv_blocks = []\n",
    "for sz in filter_sizes:\n",
    "    conv = Convolution1D(filters=num_filters,\n",
    "                         kernel_size=sz,\n",
    "                         padding=\"valid\",\n",
    "                         activation=\"relu\",\n",
    "                         strides=1)(model_CNN)\n",
    "    conv = GlobalMaxPooling1D()(conv)\n",
    "    conv_blocks.append(conv)\n",
    "\n",
    "model_CNN = Concatenate()(conv_blocks)\n",
    "\n",
    "model_CNN = Dropout(dropout_prob[1])(model_CNN)\n",
    "model_CNN = Dense(50, activation = 'relu')(model_CNN)\n",
    "\n",
    "model_output = Dense(1, activation=\"sigmoid\",use_bias = False)(model_CNN)\n",
    "\n",
    "model_CNN = Model(model_input, model_output)\n",
    "model_CNN.compile(loss=\"binary_crossentropy\", optimizer=\"adam\", metrics=[\"accuracy\", auc])"
   ]
  }
 ],
 "metadata": {
  "kernelspec": {
   "display_name": "Python 3",
   "language": "python",
   "name": "python3"
  },
  "language_info": {
   "codemirror_mode": {
    "name": "ipython",
    "version": 3
   },
   "file_extension": ".py",
   "mimetype": "text/x-python",
   "name": "python",
   "nbconvert_exporter": "python",
   "pygments_lexer": "ipython3",
   "version": "3.6.3"
  }
 },
 "nbformat": 4,
 "nbformat_minor": 2
}
