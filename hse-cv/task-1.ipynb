{
 "cells": [
  {
   "cell_type": "markdown",
   "metadata": {},
   "source": [
    "# Task-1\n",
    "### NonCNN Network in MNIST"
   ]
  },
  {
   "cell_type": "code",
   "execution_count": 1,
   "metadata": {},
   "outputs": [],
   "source": [
    "import argparse\n",
    "import torch\n",
    "import torch.nn as nn\n",
    "import torch.nn.functional as F\n",
    "import torch.optim as optim\n",
    "\n",
    "from torchvision import datasets, transforms"
   ]
  },
  {
   "cell_type": "markdown",
   "metadata": {},
   "source": [
    "## 1. Define Network"
   ]
  },
  {
   "cell_type": "code",
   "execution_count": 2,
   "metadata": {},
   "outputs": [],
   "source": [
    "class MLPNet(nn.Module):\n",
    "    def __init__(self):\n",
    "        super(MLPNet, self).__init__()\n",
    "        self.fc1 = nn.Linear(28*28, 512)\n",
    "        self.fc2 = nn.Linear(512, 256)\n",
    "        self.fc3 = nn.Linear(256, 10)\n",
    "    def forward(self, x):\n",
    "        x = x.view(-1, 28*28)\n",
    "        x = F.relu(self.fc1(x))\n",
    "        x = F.relu(self.fc2(x))\n",
    "        x = self.fc3(x)\n",
    "        return x"
   ]
  },
  {
   "cell_type": "markdown",
   "metadata": {},
   "source": [
    "## 2. Define training loop"
   ]
  },
  {
   "cell_type": "code",
   "execution_count": 3,
   "metadata": {},
   "outputs": [],
   "source": [
    "def train(model, device, train_loader, optimizer, epoch):\n",
    "    model.train()\n",
    "    for batch_idx, (data, target) in enumerate(train_loader):\n",
    "        data, target = data.to(device), target.to(device)\n",
    "        optimizer.zero_grad()\n",
    "        output = model(data)\n",
    "        loss = criterion(output, target)\n",
    "        loss.backward()\n",
    "        optimizer.step()\n",
    "        if batch_idx % 10 == 0:\n",
    "            print('Train Epoch: {} [{}/{} ({:.0f}%)]\\tLoss: {:.6f}'.format(\n",
    "                epoch, batch_idx , len(train_loader),\n",
    "                100. * batch_idx / len(train_loader), loss.item()))\n",
    "\n",
    "def test(model, device, test_loader):\n",
    "    model.eval()\n",
    "    test_loss = 0\n",
    "    correct = 0\n",
    "    with torch.no_grad():\n",
    "        for data, target in test_loader:\n",
    "            data, target = data.to(device), target.to(device)\n",
    "            output = model(data)\n",
    "            test_loss += criterion(output, target).item()\n",
    "            pred = output.argmax(dim=1, keepdim=True)\n",
    "            correct += pred.eq(target.view_as(pred)).sum().item()\n",
    "\n",
    "    test_loss /= len(test_loader.dataset)\n",
    "\n",
    "    print('\\nTest set: Average loss: {:.4f}, Accuracy: {}/{} ({:.2f}%)\\n'.format(\n",
    "        test_loss, correct, len(test_loader.dataset),\n",
    "        100. * correct / len(test_loader.dataset)))"
   ]
  },
  {
   "cell_type": "markdown",
   "metadata": {},
   "source": [
    "## 3. Model parameters"
   ]
  },
  {
   "cell_type": "code",
   "execution_count": 4,
   "metadata": {},
   "outputs": [],
   "source": [
    "batch_size = 512\n",
    "epochs = 1\n",
    "lr = 0.01\n",
    "\n",
    "seed = 1\n",
    "device='cuda'"
   ]
  },
  {
   "cell_type": "markdown",
   "metadata": {},
   "source": [
    "## 4. Define model"
   ]
  },
  {
   "cell_type": "code",
   "execution_count": 5,
   "metadata": {},
   "outputs": [],
   "source": [
    "model = MLPNet().to(device)\n",
    "optimizer = optim.Adam(model.parameters(), lr=lr)\n",
    "criterion = nn.CrossEntropyLoss()"
   ]
  },
  {
   "cell_type": "markdown",
   "metadata": {},
   "source": [
    "## 5. Build train / test dataloaders"
   ]
  },
  {
   "cell_type": "code",
   "execution_count": 6,
   "metadata": {},
   "outputs": [],
   "source": [
    "dataset_train = datasets.MNIST('./data', train=True, download=True,\n",
    "                       transform=transforms.Compose([\n",
    "                           transforms.ToTensor()\n",
    "                       ]))\n",
    "\n",
    "dataset_test = datasets.MNIST('./data', train=False, download=True,\n",
    "                       transform=transforms.Compose([\n",
    "                           transforms.ToTensor()\n",
    "                       ]))\n",
    "\n",
    "train_loader = torch.utils.data.DataLoader(dataset_train, batch_size=batch_size, shuffle=True)\n",
    "test_loader = torch.utils.data.DataLoader(dataset_test, batch_size=batch_size, shuffle=False)"
   ]
  },
  {
   "cell_type": "markdown",
   "metadata": {},
   "source": [
    "## 6. Training"
   ]
  },
  {
   "cell_type": "code",
   "execution_count": 7,
   "metadata": {},
   "outputs": [
    {
     "name": "stdout",
     "output_type": "stream",
     "text": [
      "Train Epoch: 1 [0/118 (0%)]\tLoss: 2.302011\n",
      "Train Epoch: 1 [10/118 (8%)]\tLoss: 0.378523\n",
      "Train Epoch: 1 [20/118 (17%)]\tLoss: 0.327173\n",
      "Train Epoch: 1 [30/118 (25%)]\tLoss: 0.247909\n",
      "Train Epoch: 1 [40/118 (34%)]\tLoss: 0.260601\n",
      "Train Epoch: 1 [50/118 (42%)]\tLoss: 0.167711\n",
      "Train Epoch: 1 [60/118 (51%)]\tLoss: 0.147566\n",
      "Train Epoch: 1 [70/118 (59%)]\tLoss: 0.192332\n",
      "Train Epoch: 1 [80/118 (68%)]\tLoss: 0.147985\n",
      "Train Epoch: 1 [90/118 (76%)]\tLoss: 0.212116\n",
      "Train Epoch: 1 [100/118 (85%)]\tLoss: 0.102416\n",
      "Train Epoch: 1 [110/118 (93%)]\tLoss: 0.097468\n",
      "\n",
      "Test set: Average loss: 0.0003, Accuracy: 9564/10000 (95.64%)\n",
      "\n"
     ]
    }
   ],
   "source": [
    "for epoch in range(1, epochs + 1):\n",
    "    train(model, device, train_loader, optimizer, epoch)\n",
    "    test(model, device, test_loader)"
   ]
  },
  {
   "cell_type": "markdown",
   "metadata": {},
   "source": [
    "## 7. Results\n",
    "\n",
    "https://docs.google.com/spreadsheets/d/1lxPS6HTb5KDQu8ZirfUOdTG-Fhj2WfyELYcflMTCrws/edit?usp=sharing"
   ]
  },
  {
   "cell_type": "markdown",
   "metadata": {},
   "source": [
    "|  optimizer | epochs_max | layers | batch_size | activation | best_acc |\n",
    "| --- | --- | --- | --- | --- | --- |\n",
    "|  ADAM (0.01) | 10 | 3 (512, 256, 10) | 8 | relu | 90,00 |\n",
    "|  ADAM (0.01) | 10 | 3 (512, 256, 10) | 16 | relu | 95,26 |\n",
    "|  ADAM (0.01) | 10 | 3 (512, 256, 10) | 32 | relu | 96,72 |\n",
    "|  ADAM (0.01) | 10 | 3 (512, 256, 10) | 64 | relu | 96,92 |\n",
    "|  ADAM (0.01) | 10 | 3 (512, 256, 10) | 128 | relu | 97,28 |\n",
    "|  ADAM (0.01) | 10 | 3 (512, 256, 10) | 256 | relu | 97,18 |\n",
    "|  ADAM (0.01) | 10 | 3 (512, 256, 10) | 512 | relu | 97,36 |\n",
    "|  SGD(0.01) | 10 | 3 (512, 256, 10) | 512 | relu | 97,68 |\n",
    "|  SGD(0.01) | 25 | 3 (512, 256, 10) | 512 | relu | 98,00 |\n",
    "|  SGD(0.001) start from exp000 | 25 | 3 (512, 256, 10) | 512 | relu | 98,45 |\n",
    "|  SGD(0.0003) start from exp001 | 25 | 3 (512, 256, 10) | 512 | relu | **98,51** |\n",
    "|   |  |  |  |  |  |\n",
    "|  SGD(0.01) | 25 | 3 (512, 256, 10) | 512 | sigmoid | 98,00 |\n",
    "|  SGD(0.001) from exp002 | 25 | 3 (512, 256, 10) | 512 | sigmoid | 98,40 |\n",
    "|   |  |  |  |  |  |\n",
    "|  ADAM(0.01) | 25 | 9(512,1024,2048,1024,512,258,128,64,10) | 512 | relu | 11,00 |\n",
    "|  ADAM(0.01) | 25 | 5(512,512,512,128,10) | 512 | relu | 97,80 |\n",
    "|  SGD(0.001) from exp003 | 25 | 5(512,512,512,128,10) | 512 | relu | 98,16 |"
   ]
  }
 ],
 "metadata": {
  "kernelspec": {
   "display_name": "Python 3",
   "language": "python",
   "name": "python3"
  },
  "language_info": {
   "codemirror_mode": {
    "name": "ipython",
    "version": 3
   },
   "file_extension": ".py",
   "mimetype": "text/x-python",
   "name": "python",
   "nbconvert_exporter": "python",
   "pygments_lexer": "ipython3",
   "version": "3.6.7"
  }
 },
 "nbformat": 4,
 "nbformat_minor": 2
}
